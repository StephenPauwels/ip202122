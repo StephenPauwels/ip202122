{
 "cells": [
  {
   "cell_type": "markdown",
   "metadata": {},
   "source": [
    "# Sets (verzamelingen)\n",
    "\n",
    "Naast lijsten bestaan er nog andere collectie types in Python. Het volgende collectie type dat we bespreken is een verzameling, of *set*. Een set is erg gelijkaardig aan een lijst in gebruik, maar heeft ook een aantal verschillen:\n",
    "- een verzameling kan elk element maar 1 maal bevatten. Als we meermaals hetzelfde element toevoegen, zal het toch maar 1 maal in de verzameling zitten;\n",
    "- verzamelingen zijn ongeordend. De elementen zullen niet noodzakelijk in de zelfde volgorde worden teruggegeven als ze werden togevoegd. Ook de operaties die een ordening verwachten, zoals *L.sort()* en *L\\[i\\]* hebben geen equivalent bij sets; \n",
    "- de operatie *in* om te testen of een element in een lijst zit, bestaat ook voor een verzameling, maar is efficiënter voor een verzameling. Voor de voorbeelden die we in deze cursus behandelen maakt dat geen verschil, maar voor grotere projecten gaat het mogelijk wel van belang zijn om het meest geschikte type te gebruiken.\n",
    "\n",
    "## Nieuwe verzameling maken en elementen toevoegen en verwijderen\n",
    "Een nieuwe verzameling maak je aan als volgt:"
   ]
  },
  {
   "cell_type": "code",
   "execution_count": 1,
   "metadata": {},
   "outputs": [],
   "source": [
    "S=set() # lege verzameling\n",
    "S2={1,2,3} # verzameling met elementen 1,2,3"
   ]
  },
  {
   "cell_type": "markdown",
   "metadata": {},
   "source": [
    "Elementen toevoegen gaat met de functie *add*:"
   ]
  },
  {
   "cell_type": "code",
   "execution_count": 2,
   "metadata": {},
   "outputs": [
    {
     "name": "stdout",
     "output_type": "stream",
     "text": [
      "{1, 2, 3, 4}\n"
     ]
    }
   ],
   "source": [
    "S2={3,1,2}\n",
    "S2.add(4)\n",
    "S2.add(1)\n",
    "print(S2)"
   ]
  },
  {
   "cell_type": "markdown",
   "metadata": {},
   "source": [
    "Het aantal elementen van een set krijgen we via *len*"
   ]
  },
  {
   "cell_type": "code",
   "execution_count": 3,
   "metadata": {},
   "outputs": [
    {
     "name": "stdout",
     "output_type": "stream",
     "text": [
      "4\n"
     ]
    }
   ],
   "source": [
    "print(len(S2))"
   ]
  },
  {
   "cell_type": "markdown",
   "metadata": {},
   "source": [
    "Verwijderen doe je als volgt:"
   ]
  },
  {
   "cell_type": "code",
   "execution_count": 4,
   "metadata": {},
   "outputs": [
    {
     "name": "stdout",
     "output_type": "stream",
     "text": [
      "{1, 2}\n"
     ]
    }
   ],
   "source": [
    "S={1,2,3}\n",
    "S.remove(3)\n",
    "print(S)"
   ]
  },
  {
   "cell_type": "markdown",
   "metadata": {},
   "source": [
    "*S.remove(x)* werkt enkel als *x* werkelijk in de set voorkomt. Komt *x* niet voor, dan krijg je een foutmelding. *S.discard(x)* daarentegen, verwijdert *x* ook uit de lijst maar als *x* niet voorkomt, gebeurt er niets:"
   ]
  },
  {
   "cell_type": "code",
   "execution_count": 5,
   "metadata": {},
   "outputs": [
    {
     "ename": "KeyError",
     "evalue": "4",
     "output_type": "error",
     "traceback": [
      "\u001b[1;31m---------------------------------------------------------------------------\u001b[0m",
      "\u001b[1;31mKeyError\u001b[0m                                  Traceback (most recent call last)",
      "\u001b[1;32m<ipython-input-5-13e5966ca59d>\u001b[0m in \u001b[0;36m<module>\u001b[1;34m\u001b[0m\n\u001b[0;32m      1\u001b[0m \u001b[0mS\u001b[0m\u001b[1;33m=\u001b[0m\u001b[1;33m{\u001b[0m\u001b[1;36m1\u001b[0m\u001b[1;33m,\u001b[0m\u001b[1;36m2\u001b[0m\u001b[1;33m,\u001b[0m\u001b[1;36m3\u001b[0m\u001b[1;33m}\u001b[0m\u001b[1;33m\u001b[0m\u001b[1;33m\u001b[0m\u001b[0m\n\u001b[0;32m      2\u001b[0m \u001b[0mS\u001b[0m\u001b[1;33m.\u001b[0m\u001b[0mdiscard\u001b[0m\u001b[1;33m(\u001b[0m\u001b[1;36m4\u001b[0m\u001b[1;33m)\u001b[0m\u001b[1;33m\u001b[0m\u001b[1;33m\u001b[0m\u001b[0m\n\u001b[1;32m----> 3\u001b[1;33m \u001b[0mS\u001b[0m\u001b[1;33m.\u001b[0m\u001b[0mremove\u001b[0m\u001b[1;33m(\u001b[0m\u001b[1;36m4\u001b[0m\u001b[1;33m)\u001b[0m\u001b[1;33m\u001b[0m\u001b[1;33m\u001b[0m\u001b[0m\n\u001b[0m",
      "\u001b[1;31mKeyError\u001b[0m: 4"
     ]
    }
   ],
   "source": [
    "S={1,2,3}\n",
    "S.discard(4)\n",
    "S.remove(4)"
   ]
  },
  {
   "cell_type": "markdown",
   "metadata": {},
   "source": [
    "Waarom hebben we *remove* dan in hemelsnaam nog nodig? Om redeneerfouten die je maakte bij het schrijven van het programma snel te detecteren!\n",
    "\n",
    "Wanneer je code schrijft, zal het vaak voorkomen dat je 100% zeker bent dat een element *x* dat je wil verwijderen uit een set *S* ook daadwerkelijk in de set voorkomt. Gebruik dan *S.remove(x)*. Het resultaat is hetzelfde, behalve wanneer je een redeneerfout maakte. Door *remove* te gebruiken gaat zulk een redeneerfout niet onopgemerkt voorbij! \n",
    "\n",
    "Een gouden regel bij het programmeren is: **zorg ervoor dat je fouten zo snel mogelijk vindt.** Op die manier vermijd je erg eigenaardige fouten te krijgen waarnaar je uren op zoek moet gaan, omdat ze het gevolg zijn van een gevolg van een gevolg van een gevolg van een domme kleine redeneerfout. Daarom dus: ben je zeker dat het element dat je wil verwijderen in de set voorkomt? Gebruik dan *remove*! Gebruik *discard* enkel om volgende regels code te vervangen:"
   ]
  },
  {
   "cell_type": "code",
   "execution_count": 6,
   "metadata": {},
   "outputs": [
    {
     "name": "stdout",
     "output_type": "stream",
     "text": [
      "7\n",
      "{1, 2, 3}\n"
     ]
    }
   ],
   "source": [
    "S={1,2,3}\n",
    "x=int(input())\n",
    "if x in S:\n",
    "    S.remove(x)\n",
    "print(S)"
   ]
  },
  {
   "cell_type": "markdown",
   "metadata": {},
   "source": [
    "Enkel in dit geval is het gebruik van *discard* aan te raden:"
   ]
  },
  {
   "cell_type": "code",
   "execution_count": 7,
   "metadata": {},
   "outputs": [
    {
     "name": "stdout",
     "output_type": "stream",
     "text": [
      "6\n",
      "{1, 2, 3}\n"
     ]
    }
   ],
   "source": [
    "S={1,2,3}\n",
    "x=int(input())\n",
    "S.discard(x)\n",
    "print(S)"
   ]
  },
  {
   "cell_type": "markdown",
   "metadata": {},
   "source": [
    "## Itereren over de elementen van een verzameling\n",
    "\n",
    "Itereren doe je net als bij een lijst, met *for*. Zoals eerder al gezegd heb je ehter geen controle over de volgorde:"
   ]
  },
  {
   "cell_type": "code",
   "execution_count": 8,
   "metadata": {},
   "outputs": [
    {
     "name": "stdout",
     "output_type": "stream",
     "text": [
      "1\n",
      "2\n",
      "4\n",
      "5\n",
      "8\n"
     ]
    }
   ],
   "source": [
    "S={4,5,8,1,2}\n",
    "for x in S:\n",
    "    print(x)"
   ]
  },
  {
   "cell_type": "markdown",
   "metadata": {},
   "source": [
    "In dit voorbeeld wordt de set geordend teruggegeven, maar dat hoeft niet per se zo te zijn. Verder test je met *in* of een element in de lijst voorkomt:"
   ]
  },
  {
   "cell_type": "code",
   "execution_count": 9,
   "metadata": {},
   "outputs": [
    {
     "name": "stdout",
     "output_type": "stream",
     "text": [
      "W hft r n klnkrs ndg ...\n"
     ]
    }
   ],
   "source": [
    "klinkers={\"a\",\"e\",\"i\",\"o\",\"u\"}\n",
    "s=\"Wie heeft er nu klinkers nodig ...\"\n",
    "zonder=\"\"\n",
    "for letter in s:  # herinner: we kunnen over een string itereren alsof het een lijst is\n",
    "    if letter not in klinkers:\n",
    "        zonder=zonder+letter\n",
    "print(zonder)"
   ]
  },
  {
   "cell_type": "markdown",
   "metadata": {},
   "source": [
    "## Set-operaties\n",
    "\n",
    "Verder kan je met verzamelingen alle standaard bewerkingen met verzamelingen doen; een goede kennis van deze functies kan jouw code vaak veel leesbaarder en korter maken:\n",
    "- *s|t* : unie van de verzamelingen s en t\n",
    "- *s&t* : doorsnede van s en t\n",
    "- s-t : verschil van de verzamelingen s en t"
   ]
  },
  {
   "cell_type": "code",
   "execution_count": 10,
   "metadata": {},
   "outputs": [
    {
     "name": "stdout",
     "output_type": "stream",
     "text": [
      "{'Joris', 'An', 'Illias', 'Greet'}\n"
     ]
    }
   ],
   "source": [
    "IP={\"Jan\",\"An\",\"Illias\",\"Rosa\"}\n",
    "GAS={\"Jan\",\"Joris\",\"Greet\",\"Illias\"}\n",
    "CSA={\"Jan\",\"Rosa\"}\n",
    "\n",
    "# Geef alle studenten die IP of GAS volgen en niet CSA:\n",
    "print((IP|GAS)-CSA)"
   ]
  },
  {
   "cell_type": "markdown",
   "metadata": {},
   "source": [
    "## Set vergelijkingen\n",
    "\n",
    "Je kan ook snel en makkelijk vergelijkingen tussen verzamelingen maken:\n",
    "- *s<=t* : waar als *s* deelverzameling is van *t*\n",
    "- *s<t* : waar als *s* strikte deelverzameling is van *t*\n",
    "- *s>=t*, *s>t*: omgekeerde richting\n",
    "- *s==t* : *s* en *t* hebben dezelfde elementen"
   ]
  },
  {
   "cell_type": "code",
   "execution_count": 11,
   "metadata": {},
   "outputs": [
    {
     "name": "stdout",
     "output_type": "stream",
     "text": [
      "Does every student that takes CSA also follow IP and GAS?\n",
      "No; the following students follow CSA without following IP and GAS: {'Rosa'}\n"
     ]
    }
   ],
   "source": [
    "print(\"Does every student that takes CSA also follow IP and GAS?\")\n",
    "if CSA<=IP&GAS:\n",
    "    print(\"Yes they do!\")\n",
    "else:\n",
    "    print(\"No; the following students follow CSA without following IP and GAS:\",CSA-(IP&GAS))"
   ]
  },
  {
   "cell_type": "markdown",
   "metadata": {},
   "source": [
    "## Set omzetten in een lijst en vice versa\n",
    "\n",
    "Soms is het handig om een set om te zetten in een lijst (bijvoorbeeld als we moeten sorteren) of omgekeerd. Dit doen we via respectievelijk de functies *list(Set)* en *set(List)*: "
   ]
  },
  {
   "cell_type": "code",
   "execution_count": 12,
   "metadata": {},
   "outputs": [
    {
     "name": "stdout",
     "output_type": "stream",
     "text": [
      "Geef volgende student:toon\n",
      "Geef volgende student:tom\n",
      "Geef volgende student:daphne\n",
      "Geef volgende student:stephen\n",
      "Geef volgende student:\n",
      "Alle studenten:  {'stephen', 'tom', 'daphne', 'toon'}\n",
      "Alle studenten nu gesorteerd: ['daphne', 'stephen', 'tom', 'toon']\n"
     ]
    }
   ],
   "source": [
    "next=True\n",
    "S=set()\n",
    "while next:\n",
    "    student=input(\"Geef volgende student:\")\n",
    "    if student==\"\":\n",
    "        next=False\n",
    "    else:\n",
    "        S.add(student)\n",
    "\n",
    "print(\"Alle studenten: \",S)\n",
    "L=list(S)\n",
    "L.sort()\n",
    "print(\"Alle studenten nu gesorteerd:\",L)\n"
   ]
  },
  {
   "cell_type": "markdown",
   "metadata": {},
   "source": [
    "Hier een voorbeeldje van de omgekeerde richting waarbij we een lijst omzetten in een verzameling om dubbels weg te halen zodat we kunnen tellen hoeveel *verschillende* elementen er in een lijst zitten:"
   ]
  },
  {
   "cell_type": "code",
   "execution_count": 13,
   "metadata": {},
   "outputs": [
    {
     "name": "stdout",
     "output_type": "stream",
     "text": [
      "False True\n"
     ]
    }
   ],
   "source": [
    "# worp is een lijst met de dobbelsteen worpen\n",
    "# bijvoorbeeld: [1,2,3,4,5] of [6,6,6,6,6]\n",
    "# de functie kijkt na of de worp Yahtzee is (5 dezelfde)\n",
    "def yahtzee(worp):\n",
    "    if len(set(worp))==1:\n",
    "        return True\n",
    "    else:\n",
    "        return False\n",
    "    \n",
    "print(yahtzee([1,2,2,2,2]), yahtzee([3,3,3,3,3]))\n"
   ]
  },
  {
   "cell_type": "code",
   "execution_count": null,
   "metadata": {},
   "outputs": [],
   "source": []
  }
 ],
 "metadata": {
  "kernelspec": {
   "display_name": "Python 3",
   "language": "python",
   "name": "python3"
  },
  "language_info": {
   "codemirror_mode": {
    "name": "ipython",
    "version": 3
   },
   "file_extension": ".py",
   "mimetype": "text/x-python",
   "name": "python",
   "nbconvert_exporter": "python",
   "pygments_lexer": "ipython3",
   "version": "3.8.3"
  }
 },
 "nbformat": 4,
 "nbformat_minor": 4
}
