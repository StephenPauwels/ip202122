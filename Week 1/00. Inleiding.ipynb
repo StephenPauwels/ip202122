{
 "cells": [
  {
   "cell_type": "markdown",
   "metadata": {},
   "source": [
    "# Inleiding\n",
    "\n",
    "## Over de cursus\n",
    "Voor het onderdeel Python is volgend lesmateriaal beschikbaar:\n",
    "- De cursustekst voor het onderdeel Python bestaat uit een aantal interactieve *notebooks*; dit zijn digitale notities met stukjes uitvoerbare code. De notebooks sluiten goed aan bij de inhoud van de les en behandelen alle onderwerpen die nodig zijn om het examen Python succesvol af te leggen. \n",
    "- Studenten die bijkomende informatie wensen over Python, of een andere presentatie van het materiaal uit de les, worden aangeraden om het boek \"How to Think Like a Computer Scientist: Learning with Python 3\" te raadplegen, dat gratis [online](https://openbookproject.net/thinkcs/python/english3e/) beschikbaar is. Een pdf versie is beschikbaar op BlackBoard\n",
    "- Alle oefeningen en huistaken worden via Inginious gemaakt en ingediend. **Let op: je mag elkaar voorthelpen bij vragen, maar wat je indient is individueel werk.** We voeren plagiaatcontrole uit, dus wees gewaarschuwd!"
   ]
  },
  {
   "cell_type": "markdown",
   "metadata": {},
   "source": [
    "## Gebruik van de Notebooks\n",
    "\n",
    "Bij het doornemen van de werkbladen is het belangrijk dat je alle stukjes code van boven naar beneden uitvoert. Sommige stukjes code bevatten namelijk instructies die nodig zijn om latere stukken code uit te voeren. Het uitvoeren van een stukje code doe je als volgt:\n",
    "- selecteer het stukje code dat je wil uitvoeren door het tekstvak te selecteren\n",
    "- druk op het afspeel icoontje bovenaan de tab van jouw notebook.\n",
    "\n",
    "Probeer het eens uit met het volgende stukje code:"
   ]
  },
  {
   "cell_type": "code",
   "execution_count": 1,
   "metadata": {},
   "outputs": [],
   "source": [
    "taal=\"Python\"\n",
    "print(\"Ik houd van\",taal)"
   ]
  },
  {
   "cell_type": "markdown",
   "metadata": {},
   "source": [
    "Volgend stukje code werkt niet tenzij je het vorige stukje uitvoerde:"
   ]
  },
  {
   "cell_type": "code",
   "execution_count": 2,
   "metadata": {},
   "outputs": [
    {
     "name": "stdout",
     "output_type": "stream",
     "text": [
      "We bestuderen eerst Python\n"
     ]
    }
   ],
   "source": [
    "print(\"We bestuderen eerst\",taal)"
   ]
  },
  {
   "cell_type": "markdown",
   "metadata": {},
   "source": [
    "De reden is dat het tweede stukje code een *variabele* \"taal\" gebruikt die in het eerste stukje code werd ingevoerd.\n",
    "\n",
    "Soms gebeurt het dat een stukje code oneindig lang blijft doorgaan. Gebruik dan de stop knop bovenaan de tab. Mocht er toch iets misgelopen zijn waardoor het hele werkblad in het honderd is gelopen, dan kan je altijd \"*Restart the kernel*\" kiezen (*replay* knop bovenaan de tab), of de knop voor \"*Restart the kernel, then re-run the whole notebook*\" (de *fast-forward* knop)\n",
    "\n",
    "Je kan ook zelf tekst toevoegen; dubbel-klik op de tekstvelden om die te bewerken, of voeg een veld toe met de knop \"*Insert a cell below*\". Kies vervolgens in het drop-down menu voor \"Markdown\" of \"Code\", al naargelang je een tekstveld dan wel een stukje code wil toevoegen.\n",
    "\n"
   ]
  },
  {
   "cell_type": "code",
   "execution_count": null,
   "metadata": {},
   "outputs": [],
   "source": []
  }
 ],
 "metadata": {
  "kernelspec": {
   "display_name": "Python 3",
   "language": "python",
   "name": "python3"
  },
  "language_info": {
   "codemirror_mode": {
    "name": "ipython",
    "version": 3
   },
   "file_extension": ".py",
   "mimetype": "text/x-python",
   "name": "python",
   "nbconvert_exporter": "python",
   "pygments_lexer": "ipython3",
   "version": "3.8.3"
  }
 },
 "nbformat": 4,
 "nbformat_minor": 4
}
