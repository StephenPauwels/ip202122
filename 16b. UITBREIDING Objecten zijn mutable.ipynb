{
 "cells": [
  {
   "cell_type": "markdown",
   "metadata": {},
   "source": [
    "# Objecten zijn *mutable*\n",
    "\n",
    "\n",
    "We werken in deze notebook nog even voort met het laatste voorbeeld uit de vorige notebook. Voer dus eerst volgend stukje code uit:"
   ]
  },
  {
   "cell_type": "code",
   "execution_count": 6,
   "metadata": {},
   "outputs": [
    {
     "name": "stdout",
     "output_type": "stream",
     "text": [
      "Punten van J. Vermeulen (20201234)\n",
      "Inleiding Programmeren \t 11\n",
      "Gegevensabstractie en -structuren \t 13\n"
     ]
    }
   ],
   "source": [
    "class vak:\n",
    "    def __init__(self,code,naam):\n",
    "        self.code=code\n",
    "        self.naam=naam\n",
    "        self.docent=\"\"\n",
    "\n",
    "    def getCode(self):\n",
    "        return self.code\n",
    "        \n",
    "    def getVakNaam(self):\n",
    "        return self.naam\n",
    "    \n",
    "    def addDocent(self,d):\n",
    "        self.docent=d\n",
    "        \n",
    "    def getDocent(self):\n",
    "        return self.docent\n",
    "    \n",
    "    \n",
    "######  Onder deze regel wijzigde niets  #################\n",
    "\n",
    "class student:\n",
    "    def __init__(self,ID,vnaam,anaam,straat,gemeente):\n",
    "        self.ID=ID\n",
    "        self.vnaam=vnaam\n",
    "        self.anaam=anaam\n",
    "        self.straat=straat\n",
    "        self.gemeente=gemeente\n",
    "        self.vakken=[]\n",
    "        self.punten={}  # lege dictionary die vakcodes koppelt aan punten\n",
    "\n",
    "    def getID(self):\n",
    "        return self.ID\n",
    "\n",
    "    def getVNaam(self):\n",
    "        return self.vnaam\n",
    "\n",
    "    def getANaam(self):\n",
    "        return self.anaam\n",
    "\n",
    "    def getVakken(self):\n",
    "        return self.vakken\n",
    "\n",
    "    def addVak(self,vak):\n",
    "        self.vakken.append(vak)\n",
    "    \n",
    "    def addGrade(self,v,g):\n",
    "        self.punten[v.getCode()]=g\n",
    "    \n",
    "    def getGrade(self,v):\n",
    "        return self.punten.get(v.getCode(),\"-\")\n",
    "    \n",
    "    def printPuntenLijst(self):\n",
    "        print(\"Punten van \"+self.getVNaam()[0]+\". \"+self.getANaam()+\" (\"+str(self.getID())+\")\")\n",
    "        for v in self.getVakken():\n",
    "            print(v.getVakNaam(),\"\\t\",self.getGrade(v))\n",
    "\n",
    "IP=vak(\"IP\",\"Inleiding Programmeren\")\n",
    "GAS=vak(\"GAS\",\"Gegevensabstractie en -structuren\")\n",
    "CSA=vak(\"CSA\",\"Computer Systemen en Architectuur\")\n",
    "\n",
    "student1=student(20201234,\"Joske\",\"Vermeulen\",\"Tramezantlei 122\", \"Schoten\")\n",
    "student1.addVak(IP)\n",
    "student1.addVak(GAS)\n",
    "student1.addGrade(IP,11)\n",
    "student1.addGrade(GAS,13)\n",
    "\n",
    "student2=student(20201235,\"Sander\",\"Slisse\",\"Autolei 14\", \"Mortsel\")\n",
    "student2.addVak(IP)\n",
    "student2.addVak(CSA)\n",
    "student2.addGrade(IP,15)\n",
    "student2.addGrade(CSA,13)\n",
    "\n",
    "student1.printPuntenLijst()"
   ]
  },
  {
   "cell_type": "markdown",
   "metadata": {},
   "source": [
    "Objecten van klassen zijn mutable; toen we aan `student1` een vak en een punt toevoegden, bleef dit hetzelfde object, maar de inhoud was gewijzigd:"
   ]
  },
  {
   "cell_type": "code",
   "execution_count": 7,
   "metadata": {},
   "outputs": [
    {
     "name": "stdout",
     "output_type": "stream",
     "text": [
      "1593700324496\n",
      "1593700324496\n"
     ]
    }
   ],
   "source": [
    "student3=student(20201236,\"Gaston\",\"Berghmans\",\"Autolei 34\", \"Mortsel\")\n",
    "print(id(student3))\n",
    "student3.addVak(IP)\n",
    "print(id(student3))"
   ]
  },
  {
   "cell_type": "markdown",
   "metadata": {},
   "source": [
    "Dit betekent ook dat indien meerdere variabelen naar hetzelfde object verwijzen en dit object verandert, dat deze gewijzigde waarde ook via de andere variabelen wordt gezien. Een minimaal voorbeeldje om dit te illustreren:"
   ]
  },
  {
   "cell_type": "code",
   "execution_count": 8,
   "metadata": {},
   "outputs": [
    {
     "name": "stdout",
     "output_type": "stream",
     "text": [
      "Punten van J. Vermeulen (20201234)\n",
      "Inleiding Programmeren \t 11\n",
      "Gegevensabstractie en -structuren \t 13\n",
      "Punten van J. Vermeulen (20201234)\n",
      "Inleiding Programmeren \t 11\n",
      "Gegevensabstractie en -structuren \t 13\n",
      "Computer Systemen en Architectuur \t -\n"
     ]
    }
   ],
   "source": [
    "student1.printPuntenLijst()\n",
    "student4=student1\n",
    "student4.addVak(CSA)\n",
    "student1.printPuntenLijst()"
   ]
  },
  {
   "cell_type": "markdown",
   "metadata": {},
   "source": [
    "`Student1` en `student4` verwijzen naar hetzelfde object en daarom is elke wijzeging aan `student1` ook een wijziging aan `student4` en omgekeerd:"
   ]
  },
  {
   "cell_type": "code",
   "execution_count": 9,
   "metadata": {},
   "outputs": [
    {
     "name": "stdout",
     "output_type": "stream",
     "text": [
      "1593700251920 1593700251920\n"
     ]
    }
   ],
   "source": [
    "print(id(student1),id(student4))"
   ]
  },
  {
   "cell_type": "markdown",
   "metadata": {},
   "source": [
    "Dit is niet altijd slecht! In veel gevallen is dit zelfs uitermate wenselijk! Stel bijvoorbeeld dat we een foutje maakten in de naam van het vak `IP`. Dit vak zit in de vakkenlijst van alle drie onze studenten (we vergeten even `student4`, want dat is eigenlijk `student1`). Moeten we nu de naam van dit vak bij alle drie de studenten gaan wijzigen? Het antwoord is: neen! Omdat we het vak niet als een string opsloegen in de studentobjecten, maar als object, verwijst in de vakkenlijsten van onze studenten de entry voor `IP` naar het object voor dit vak. Ook de variabele `IP` verwijst hiernaar, dus moeten we dit maar op 1 plaats wijzigen:"
   ]
  },
  {
   "cell_type": "code",
   "execution_count": 10,
   "metadata": {},
   "outputs": [
    {
     "name": "stdout",
     "output_type": "stream",
     "text": [
      "Punten van J. Vermeulen (20201234)\n",
      "Inleiding tot programmeren \t 11\n",
      "Gegevensabstractie en -structuren \t 13\n",
      "Computer Systemen en Architectuur \t -\n",
      "\n",
      "Punten van S. Slisse (20201235)\n",
      "Inleiding tot programmeren \t 15\n",
      "Computer Systemen en Architectuur \t 13\n",
      "\n",
      "Punten van G. Berghmans (20201236)\n",
      "Inleiding tot programmeren \t -\n",
      "\n"
     ]
    }
   ],
   "source": [
    "IP.naam=\"Inleiding tot programmeren\"\n",
    "student1.printPuntenLijst()\n",
    "print()\n",
    "student2.printPuntenLijst()\n",
    "print()\n",
    "student3.printPuntenLijst()\n",
    "print()"
   ]
  },
  {
   "cell_type": "markdown",
   "metadata": {},
   "source": [
    "## Copy en deepcopy\n",
    "\n",
    "Willen we nu een kopij maken van een object, dan kunnen we dat doen met de functies `copy` en `deepcopy` uit de module `copy`. Met `copy` maken we een ondiepe kopij, wat wil zeggen dat we wel een nieuw object maken, maar binnen dat object geen kopijen maken van de waarden. Met `deepcopy` doen we dat wel. Volgend voorbeeld illustreert dit:"
   ]
  },
  {
   "cell_type": "code",
   "execution_count": 11,
   "metadata": {},
   "outputs": [
    {
     "name": "stdout",
     "output_type": "stream",
     "text": [
      "id(t):\t\t 1593700410512 \n",
      "id(t2):\t\t 1593700410512 \n",
      "id(tcopy):\t 1593700410560 \n",
      "id(tdeepcopy):\t 1593700411040\n",
      "id(t.lijst):\t\t 1593700358208 \n",
      "id(t2.lijst):\t\t 1593700358208 \n",
      "id(tcopy.lijst):\t 1593700358208 \n",
      "id(tdeepcopy.lijst):\t 1593700356864\n",
      "[1] [1] [1] []\n",
      "[1, 2] [1, 2] [1, 2] []\n",
      "[1, 2, 3] [1, 2, 3] [1, 2, 3] []\n",
      "[1, 2, 3] [1, 2, 3] [1, 2, 3] [4]\n",
      "[] [] [1, 2, 3] [4]\n",
      "[1] [1] [1, 2, 3] [4]\n",
      "[1, 2] [1, 2] [1, 2, 3] [4]\n",
      "[1, 2] [1, 2] [1, 2, 3, 3] [4]\n",
      "[1, 2] [1, 2] [1, 2, 3, 3] [4, 4]\n"
     ]
    }
   ],
   "source": [
    "from copy import copy,deepcopy\n",
    "\n",
    "class test:\n",
    "    def __init__(self):\n",
    "        self.lijst=[]\n",
    "        \n",
    "    def empty(self):\n",
    "        self.lijst=[]\n",
    "        \n",
    "    def add(self,a):\n",
    "        self.lijst.append(a)\n",
    "        \n",
    "    def slijst(self):\n",
    "        s=\"\"\n",
    "        for i in self.lijst:\n",
    "            s=s+str(i)+\", \"\n",
    "        return \"[\"+s[:-2]+\"]\"\n",
    "    \n",
    "t=test()\n",
    "t2=t\n",
    "tcopy=copy(t)\n",
    "tdeepcopy=deepcopy(t)\n",
    "print(\"id(t):\\t\\t\",id(t),\"\\nid(t2):\\t\\t\",id(t2),\"\\nid(tcopy):\\t\",id(tcopy),\"\\nid(tdeepcopy):\\t\",id(tdeepcopy))\n",
    "print(\"id(t.lijst):\\t\\t\",id(t.lijst),\"\\nid(t2.lijst):\\t\\t\",id(t2.lijst),\"\\nid(tcopy.lijst):\\t\",id(tcopy.lijst),\"\\nid(tdeepcopy.lijst):\\t\",id(tdeepcopy.lijst))\n",
    "\n",
    "t.add(1)\n",
    "print(t.slijst(),t2.slijst(),tcopy.slijst(),tdeepcopy.slijst())\n",
    "t2.add(2)\n",
    "print(t.slijst(),t2.slijst(),tcopy.slijst(),tdeepcopy.slijst())\n",
    "tcopy.add(3)\n",
    "print(t.slijst(),t2.slijst(),tcopy.slijst(),tdeepcopy.slijst())\n",
    "tdeepcopy.add(4)\n",
    "print(t.slijst(),t2.slijst(),tcopy.slijst(),tdeepcopy.slijst())\n",
    "\n",
    "t.empty()\n",
    "print(t.slijst(),t2.slijst(),tcopy.slijst(),tdeepcopy.slijst())\n",
    "t.add(1)\n",
    "print(t.slijst(),t2.slijst(),tcopy.slijst(),tdeepcopy.slijst())\n",
    "t2.add(2)\n",
    "print(t.slijst(),t2.slijst(),tcopy.slijst(),tdeepcopy.slijst())\n",
    "tcopy.add(3)\n",
    "print(t.slijst(),t2.slijst(),tcopy.slijst(),tdeepcopy.slijst())\n",
    "tdeepcopy.add(4)\n",
    "print(t.slijst(),t2.slijst(),tcopy.slijst(),tdeepcopy.slijst())"
   ]
  },
  {
   "cell_type": "markdown",
   "metadata": {},
   "source": [
    "Bekijk deze code goed. Inspecteer zeker ook [het Python tutor fragment van deze code](http://www.pythontutor.com/visualize.html#code=from%20copy%20import%20copy,deepcopy%0A%0Aclass%20test%3A%0A%20%20%20%20def%20__init__%28self%29%3A%0A%20%20%20%20%20%20%20%20self.lijst%3D%5B%5D%0A%20%20%20%20%20%20%20%20%0A%20%20%20%20def%20empty%28self%29%3A%0A%20%20%20%20%20%20%20%20self.lijst%3D%5B%5D%0A%20%20%20%20%20%20%20%20%0A%20%20%20%20def%20add%28self,a%29%3A%0A%20%20%20%20%20%20%20%20self.lijst.append%28a%29%0A%20%20%20%20%20%20%20%20%0A%20%20%20%20def%20slijst%28self%29%3A%0A%20%20%20%20%20%20%20%20s%3D%22%22%0A%20%20%20%20%20%20%20%20for%20i%20in%20self.lijst%3A%0A%20%20%20%20%20%20%20%20%20%20%20%20s%3Ds%2Bstr%28i%29%2B%22,%20%22%0A%20%20%20%20%20%20%20%20return%20%22%5B%22%2Bs%5B%3A-2%5D%2B%22%5D%22%0A%20%20%20%20%0At%3Dtest%28%29%0At2%3Dt%0Atcopy%3Dcopy%28t%29%0Atdeepcopy%3Ddeepcopy%28t%29%0Aprint%28%22id%28t%29%3A%5Ct%5Ct%22,id%28t%29,%22%5Cnid%28t2%29%3A%5Ct%5Ct%22,id%28t2%29,%22%5Cnid%28tcopy%29%3A%5Ct%22,id%28tcopy%29,%22%5Cnid%28tdeepcopy%29%3A%5Ct%22,id%28tdeepcopy%29%29%0Aprint%28%22id%28t.lijst%29%3A%5Ct%5Ct%22,id%28t.lijst%29,%22%5Cnid%28t2.lijst%29%3A%5Ct%5Ct%22,id%28t2.lijst%29,%22%5Cnid%28tcopy.lijst%29%3A%5Ct%22,id%28tcopy.lijst%29,%22%5Cnid%28tdeepcopy.lijst%29%3A%5Ct%22,id%28tdeepcopy.lijst%29%29%0A%0At.add%281%29%0Aprint%28t.slijst%28%29,t2.slijst%28%29,tcopy.slijst%28%29,tdeepcopy.slijst%28%29%29%0At2.add%282%29%0Aprint%28t.slijst%28%29,t2.slijst%28%29,tcopy.slijst%28%29,tdeepcopy.slijst%28%29%29%0Atcopy.add%283%29%0Aprint%28t.slijst%28%29,t2.slijst%28%29,tcopy.slijst%28%29,tdeepcopy.slijst%28%29%29%0Atdeepcopy.add%284%29%0Aprint%28t.slijst%28%29,t2.slijst%28%29,tcopy.slijst%28%29,tdeepcopy.slijst%28%29%29%0A%0At.empty%28%29%0Aprint%28t.slijst%28%29,t2.slijst%28%29,tcopy.slijst%28%29,tdeepcopy.slijst%28%29%29%0At.add%281%29%0Aprint%28t.slijst%28%29,t2.slijst%28%29,tcopy.slijst%28%29,tdeepcopy.slijst%28%29%29%0At2.add%282%29%0Aprint%28t.slijst%28%29,t2.slijst%28%29,tcopy.slijst%28%29,tdeepcopy.slijst%28%29%29%0Atcopy.add%283%29%0Aprint%28t.slijst%28%29,t2.slijst%28%29,tcopy.slijst%28%29,tdeepcopy.slijst%28%29%29%0Atdeepcopy.add%284%29%0Aprint%28t.slijst%28%29,t2.slijst%28%29,tcopy.slijst%28%29,tdeepcopy.slijst%28%29%29&cumulative=false&curInstr=9&heapPrimitives=false&mode=display&origin=opt-frontend.js&py=3&rawInputLstJSON=%5B%5D&textReferences=false).\n",
    "Als je dit voorbeeld goed begrijpt, ben je helemaal mee met copy, deepcopy en mutable. We lichten enkele essentiële lijnen code toe: \n",
    "- met `t2=t` laten we variabele `t2` naar hetzelfde `test` object verwijzen als `t`. Alles wat met `t` gebeurt, gebeurt dus ook met `t2` en vice versa. \n",
    "- `tcopy` is een ondiepe kopij van `t` (en dus ook van `t2`); het is een nieuw object, maar `tcopy.lijst` verwijst naar hetzelfde lijstobject als `t` en `t2`. Alles wat er dus met `tcopy.lijst` gebeurt, gebeurt ook met `t.lijst` en `t2.lijst`.\n",
    "- Voor `tdeepcopy` geldt dit niet; `tdeepcopy` staat volledig los van de andere drie `test` objecten en deelt zelfs de lijst niet.\n",
    "- Wanneer we `t.empty()` uitvoeren, wordt `t.lijst=[]` uitgevoerd. Dat wil zeggen: vanaf dat punt verwijst `t.lijst` niet langer naar de lijst waarnaar die verwees, maar naar een nieuwe, lege lijst. Omdat `t2` gewoon een andere naam is voor `t`, is dit ook het geval voor `t2`. `t.lijst` en `t2.lijst` wijzen vanaf nu naar dezelfde, nieuwe lege lijst.\n",
    "- Voor `tcopy` is dit niet het geval. `tcopy` is een ander object dan `t` en heeft haar eigen variabele `lijst`, die nog steeds naar de originele lijst met elementen `[1, 2, 3, 4]` wijst."
   ]
  },
  {
   "cell_type": "markdown",
   "metadata": {},
   "source": [
    "In de meeste gevallen, echter, kunnen we niet zomaar `copy` of `deepcopy` gebruiken maar zullen we een eigen functie moeten schrijven die een object op een correcte manier kopieert. Denken we bijvoorbeeld aan onze klasse student; als we een kopij maken van student, dan willen we dat elke student zijn of haar eigen lijst met vakken heeft, maar de vakken in die lijst moeten verwijzingen zijn naar het vakobject en geen kopij. In dit geval werkt dus helaas noch het gebruik van `copy`, noch het gebruik van `deepcopy`."
   ]
  },
  {
   "cell_type": "code",
   "execution_count": null,
   "metadata": {},
   "outputs": [],
   "source": []
  }
 ],
 "metadata": {
  "kernelspec": {
   "display_name": "Python 3",
   "language": "python",
   "name": "python3"
  },
  "language_info": {
   "codemirror_mode": {
    "name": "ipython",
    "version": 3
   },
   "file_extension": ".py",
   "mimetype": "text/x-python",
   "name": "python",
   "nbconvert_exporter": "python",
   "pygments_lexer": "ipython3",
   "version": "3.8.3"
  }
 },
 "nbformat": 4,
 "nbformat_minor": 4
}
