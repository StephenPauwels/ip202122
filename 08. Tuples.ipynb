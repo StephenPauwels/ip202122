{
 "cells": [
  {
   "cell_type": "markdown",
   "metadata": {},
   "source": [
    "# Tuples\n",
    "\n",
    "Een tuple is in Python een manier om meerdere waardes te combineren. Je kan het beschouwen als een constante lijst; eens aangemaakt kan je er niets meer aan wijzigen. Verder kan je wel de individuele elementen opvragen met *\\[\\]*, maar je kan ze niet veranderen. Een tuple maak je aan met ronde haken \"(\" en \")\" in plaats van vierkante haken bij lijsten:"
   ]
  },
  {
   "cell_type": "code",
   "execution_count": 1,
   "metadata": {},
   "outputs": [
    {
     "name": "stdout",
     "output_type": "stream",
     "text": [
      "(1, 'a', 7) 1 a (1, 'a')\n"
     ]
    }
   ],
   "source": [
    "t=(1,\"a\",7)\n",
    "print(t,t[0],t[-2],t[0:2])"
   ]
  },
  {
   "cell_type": "code",
   "execution_count": 2,
   "metadata": {},
   "outputs": [
    {
     "ename": "TypeError",
     "evalue": "'tuple' object does not support item assignment",
     "output_type": "error",
     "traceback": [
      "\u001b[1;31m---------------------------------------------------------------------------\u001b[0m",
      "\u001b[1;31mTypeError\u001b[0m                                 Traceback (most recent call last)",
      "\u001b[1;32m<ipython-input-2-306aef3316bd>\u001b[0m in \u001b[0;36m<module>\u001b[1;34m\u001b[0m\n\u001b[1;32m----> 1\u001b[1;33m \u001b[0mt\u001b[0m\u001b[1;33m[\u001b[0m\u001b[1;36m1\u001b[0m\u001b[1;33m]\u001b[0m\u001b[1;33m=\u001b[0m\u001b[1;36m5\u001b[0m \u001b[1;31m# geeft error!\u001b[0m\u001b[1;33m\u001b[0m\u001b[1;33m\u001b[0m\u001b[0m\n\u001b[0m",
      "\u001b[1;31mTypeError\u001b[0m: 'tuple' object does not support item assignment"
     ]
    }
   ],
   "source": [
    "t[1]=5 # geeft error!"
   ]
  },
  {
   "cell_type": "markdown",
   "metadata": {},
   "source": [
    "Tuples worden vaak gebruikt om meerdere waarden tegelijk terug te geven in een functie. Kijk bijvoorbeeld naar volgende code om gemiddelde en standaardafwijking terug te geven:"
   ]
  },
  {
   "cell_type": "code",
   "execution_count": 3,
   "metadata": {},
   "outputs": [
    {
     "name": "stdout",
     "output_type": "stream",
     "text": [
      "(6.8, 3.7013511046643495)\n",
      "m= 6.8 s= 3.7013511046643495\n"
     ]
    }
   ],
   "source": [
    "import math\n",
    "\n",
    "# \"getallen\" is een lijst getallen.\n",
    "# De functie geeft (m,s) terug waarbij m het gemiddelde van L is en s de standaardafwijking van de steekproef\n",
    "# Voor uitleg over de code, zie de notebook over lijsten.\n",
    "def statistieken(getallen):\n",
    "    som=0.0\n",
    "    for x in getallen:\n",
    "        som=som+x\n",
    "    gemiddelde=som/len(getallen)\n",
    "\n",
    "\n",
    "    ssom=0.0\n",
    "    for x in getallen:\n",
    "        ssom=ssom+(x-gemiddelde)**2  # ** is machtsverheffing\n",
    "    sigma=math.sqrt(ssom/(len(getallen)-1))\n",
    "    \n",
    "    return (gemiddelde,sigma)\n",
    "\n",
    "L=[2,5,7,12,8]\n",
    "t=statistieken(L)\n",
    "print(t)\n",
    "print(\"m=\",t[0],\"s=\",t[1])"
   ]
  },
  {
   "cell_type": "markdown",
   "metadata": {},
   "source": [
    "Python voorziet ook volgende handige manier om de waarden in een tuple \"uit te pakken\":"
   ]
  },
  {
   "cell_type": "code",
   "execution_count": 9,
   "metadata": {},
   "outputs": [
    {
     "name": "stdout",
     "output_type": "stream",
     "text": [
      "m= 6.8 s= 3.7013511046643495\n"
     ]
    }
   ],
   "source": [
    "(m,s)=statistieken(L)\n",
    "print(\"m=\",m,\"s=\",s)"
   ]
  },
  {
   "cell_type": "markdown",
   "metadata": {},
   "source": [
    "**Extra** Je vraagt je mischien af waarom in Python het tuple type voorzien is terwijl we ook lijsten hebben die strikt krachtiger zijn; waarom is het nuttig om een constant type te hebben? De reden komt later nog aan bod en heeft te maken met het feit dat we tuples kunnen gebruiken als een zoeksleutel om te zoeken in datatypes zoals de *dictionary* die we in de volgende notebook bespreken. Die datastructuren bewaren de data bijvoorbeeld gesorteerd op sleutel om snel zoeken mogelijk te maken. Bij zoeksleutels is het echter belangrijk dat de waarden constant zijn, zodat de zoeksleutel *in* de datastructuur niet per ongeluk veranderd kan worden waardoor de datastructuur intern corrupt wordt."
   ]
  },
  {
   "cell_type": "code",
   "execution_count": null,
   "metadata": {},
   "outputs": [],
   "source": []
  }
 ],
 "metadata": {
  "kernelspec": {
   "display_name": "Python 3",
   "language": "python",
   "name": "python3"
  },
  "language_info": {
   "codemirror_mode": {
    "name": "ipython",
    "version": 3
   },
   "file_extension": ".py",
   "mimetype": "text/x-python",
   "name": "python",
   "nbconvert_exporter": "python",
   "pygments_lexer": "ipython3",
   "version": "3.8.3"
  }
 },
 "nbformat": 4,
 "nbformat_minor": 4
}
