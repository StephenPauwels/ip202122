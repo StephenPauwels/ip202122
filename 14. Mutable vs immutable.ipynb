{
 "cells": [
  {
   "cell_type": "markdown",
   "metadata": {},
   "source": [
    "# Mutable en immutable\n",
    "\n",
    "In Python kan je een variabele conceptueel het beste beschouwen als een verwijzing naar een *object*. Als we schrijven `x=5` vragen we aan Python om variabele `x` naar het object `5`te laten verwijzen. Verder onderscheidt Python twee soorten objecten; *mutable* (wijzigbare) objecten en *immutable* (niet-wijzigbare) objecten. Een voorbeeld van een mutable object is een lijst; als we met `L.append(element)` een element toevoegen aan een lijst, dan is dat nog steeds dezelfde lijst, maar is die lijst wel veranderd.\n",
    "\n",
    "Waarom is dit belangrijk? Omdat dit erg verwarrend kan zijn als we ons hier niet bewust van zijn. Beschouw bijvoorbeeld volgende regels code (Zie ook [Python tutor](https://pythontutor.com/visualize.html#code=L%3D%5B%5D%20%20%23%20L%20verwijst%20naar%20een%20nieuwe,%20lege%20lijst%0AK%3DL%20%20%20%23%20K%20verwijst%20naar%20*dezelfde*%20lijst%0A%0AL.append%281%29%0Aprint%28K%29&cumulative=false&curInstr=3&heapPrimitives=nevernest&mode=display&origin=opt-frontend.js&py=3&rawInputLstJSON=%5B%5D&textReferences=false)):"
   ]
  },
  {
   "cell_type": "code",
   "execution_count": 1,
   "metadata": {},
   "outputs": [
    {
     "name": "stdout",
     "output_type": "stream",
     "text": [
      "[1]\n"
     ]
    }
   ],
   "source": [
    "L=[]  # L verwijst naar een nieuwe, lege lijst\n",
    "K=L   # K verwijst naar *dezelfde* lijst\n",
    "\n",
    "L.append(1)\n",
    "print(K)"
   ]
  },
  {
   "cell_type": "markdown",
   "metadata": {},
   "source": [
    "Wat gebeurt hier? Telkens als we een uitdrukking `variable=waarde` gebruiken, vergeten we waarnaar `variabele` verwijst en laten we vanaf dan `variabele` wijzen naar object `waarde`. Wanneer we `L=[]` schrijven, maken we een nieuwe lijst aan, en laten we `L` hiernaar verwijzen. Als we in de volgende regel dan `K=L` schrijven, laten we `K` verwijzen naar de lijst `L`. Variabelen `K` en `L` verwijzen dus beiden naar *dezelfde* lijst. Dus, als we vervolgens lijst `L` \"muteren\" door er een element aan toe te voegen, dan verandert dus ook `K`. Of beter gezegd: aangezien `K` naar dezelfde lijst verwijst als `L`, zal het wijzigen van de lijst waar `L` naar verwijst tot gevolg hebben dat ook de lijst waar `K` naar verwijst, gewijzigd is."
   ]
  },
  {
   "cell_type": "markdown",
   "metadata": {},
   "source": [
    "## Matrix maken\n",
    "\n",
    "Bekijk even volgende foutief voorbeeld om een eenheidsmatrix aan te maken, waarbij de interpretatie van mutable en variabelen die naar hetzelfde lijst-object verwijzen, grondig misloopt (Zie ook [Python tutor](https://pythontutor.com/visualize.html#code=n%3D5%0Anulrij%3D%5B0%5D*n%0AM%3D%5B%5D%0Afor%20i%20in%20range%28n%29%3A%0A%20%20%20%20rij%3Dnulrij%0A%20%20%20%20rij%5Bi%5D%3D1%0A%20%20%20%20M.append%28rij%29%0A%20%20%20%20%0Aprint%28M%29&cumulative=false&curInstr=25&heapPrimitives=nevernest&mode=display&origin=opt-frontend.js&py=3&rawInputLstJSON=%5B%5D&textReferences=false))."
   ]
  },
  {
   "cell_type": "code",
   "execution_count": 2,
   "metadata": {},
   "outputs": [
    {
     "name": "stdout",
     "output_type": "stream",
     "text": [
      "[[1, 1, 1, 1, 1], [1, 1, 1, 1, 1], [1, 1, 1, 1, 1], [1, 1, 1, 1, 1], [1, 1, 1, 1, 1]]\n"
     ]
    }
   ],
   "source": [
    "n=5\n",
    "nulrij=[0]*n\n",
    "M=[]\n",
    "for i in range(n):\n",
    "    rij=nulrij\n",
    "    rij[i]=1\n",
    "    M.append(rij)\n",
    "    \n",
    "print(M)"
   ]
  },
  {
   "cell_type": "markdown",
   "metadata": {},
   "source": [
    "Het probleem hier is dat rij=nulrij geen nieuwe rij aanmaakt, maar rij laat verwijzen naar hetzelfde lijst-object als nulrij. Willen we dit vermijden kunnen we gebruik maken van `copy` (uit module `copy`), of `nulrij[:]` gebruiken; de slicing operator genereert een nieuwe lijst; hier in dit geval een lijst die toevallig exact even groot is als de oorspronkelijke lijst (omdat begin- en eindindex ontbreken in de notatie `[:]` worden standaard het begin en het einde van de lijst genomen) (Zie ook [Python tutor](https://pythontutor.com/visualize.html#code=n%3D5%0Anulrij%3D%5B0%5D*n%0AM%3D%5B%5D%0Afor%20i%20in%20range%28n%29%3A%0A%20%20%20%20rij%3Dnulrij%5B%3A%5D%0A%20%20%20%20rij%5Bi%5D%3D1%0A%20%20%20%20M.append%28rij%29%0A%20%20%20%20%0Aprint%28M%29&cumulative=false&curInstr=25&heapPrimitives=nevernest&mode=display&origin=opt-frontend.js&py=3&rawInputLstJSON=%5B%5D&textReferences=false))."
   ]
  },
  {
   "cell_type": "code",
   "execution_count": 3,
   "metadata": {},
   "outputs": [
    {
     "name": "stdout",
     "output_type": "stream",
     "text": [
      "[[1, 0, 0, 0, 0], [0, 1, 0, 0, 0], [0, 0, 1, 0, 0], [0, 0, 0, 1, 0], [0, 0, 0, 0, 1]]\n"
     ]
    }
   ],
   "source": [
    "n=5\n",
    "nulrij=[0]*n\n",
    "M=[]\n",
    "for i in range(n):\n",
    "    rij=nulrij[:]\n",
    "    rij[i]=1\n",
    "    M.append(rij)\n",
    "    \n",
    "print(M)"
   ]
  },
  {
   "cell_type": "markdown",
   "metadata": {},
   "source": [
    "of ook:"
   ]
  },
  {
   "cell_type": "code",
   "execution_count": 4,
   "metadata": {},
   "outputs": [
    {
     "name": "stdout",
     "output_type": "stream",
     "text": [
      "[[1, 0, 0, 0, 0], [0, 1, 0, 0, 0], [0, 0, 1, 0, 0], [0, 0, 0, 1, 0], [0, 0, 0, 0, 1]]\n"
     ]
    }
   ],
   "source": [
    "from copy import copy\n",
    "\n",
    "n=5\n",
    "nulrij=[0]*n\n",
    "M=[]\n",
    "for i in range(n):\n",
    "    rij=copy(nulrij)\n",
    "    rij[i]=1\n",
    "    M.append(rij)\n",
    "    \n",
    "print(M)"
   ]
  },
  {
   "cell_type": "markdown",
   "metadata": {},
   "source": [
    "Volgende visualisatie vat het aanmaken van een matrix samen:\n",
    "![alt text](images/matrixMaken.jpg \"Aanmaken matrix\")"
   ]
  },
  {
   "cell_type": "markdown",
   "metadata": {},
   "source": [
    "## Kopij maken van een matrix\n",
    "\n",
    "Een gelijkaardig probleem krijgen we als we een matrix willen kopiëren (Zie ook [Python Tutor](https://pythontutor.com/visualize.html#code=from%20copy%20import%20copy%0A%0An%3D5%0Anulrij%3D%5B0%5D*n%0AM%3D%5B%5D%0Afor%20i%20in%20range%28n%29%3A%0A%20%20%20%20rij%3Dcopy%28nulrij%29%0A%20%20%20%20rij%5Bi%5D%3D1%0A%20%20%20%20M.append%28rij%29%0A%0AN%3DM%0AN%5B0%5D%5B0%5D%3D2%0Aprint%28M%29&cumulative=false&curInstr=28&heapPrimitives=nevernest&mode=display&origin=opt-frontend.js&py=3&rawInputLstJSON=%5B%5D&textReferences=false)):"
   ]
  },
  {
   "cell_type": "code",
   "execution_count": 5,
   "metadata": {},
   "outputs": [
    {
     "name": "stdout",
     "output_type": "stream",
     "text": [
      "[[2, 0, 0, 0, 0], [0, 1, 0, 0, 0], [0, 0, 1, 0, 0], [0, 0, 0, 1, 0], [0, 0, 0, 0, 1]]\n"
     ]
    }
   ],
   "source": [
    "n=5\n",
    "nulrij=[0]*n\n",
    "M=[]\n",
    "for i in range(n):\n",
    "    rij=copy(nulrij)\n",
    "    rij[i]=1\n",
    "    M.append(rij)\n",
    "\n",
    "N=M\n",
    "N[0][0]=2\n",
    "print(M)"
   ]
  },
  {
   "cell_type": "markdown",
   "metadata": {},
   "source": [
    "Opnieuw moeten we een kopij maken, maar we moeten er wel op letten dat we een *diepe* kopij maken. Volgend stukje code doet dit niet, en dat loopt fout (Zie ook [Python Tutor](https://pythontutor.com/visualize.html#code=from%20copy%20import%20copy%0A%0An%3D5%0Anulrij%3D%5B0%5D*n%0AM%3D%5B%5D%0Afor%20i%20in%20range%28n%29%3A%0A%20%20%20%20rij%3Dcopy%28nulrij%29%0A%20%20%20%20rij%5Bi%5D%3D1%0A%20%20%20%20M.append%28rij%29%0A%0AN%3DM%5B%3A%5D%0AN%5B0%5D%5B0%5D%3D2%0Aprint%28M%29&cumulative=false&curInstr=28&heapPrimitives=nevernest&mode=display&origin=opt-frontend.js&py=3&rawInputLstJSON=%5B%5D&textReferences=false)):"
   ]
  },
  {
   "cell_type": "code",
   "execution_count": 6,
   "metadata": {},
   "outputs": [
    {
     "name": "stdout",
     "output_type": "stream",
     "text": [
      "[[2, 0, 0, 0, 0], [0, 1, 0, 0, 0], [0, 0, 1, 0, 0], [0, 0, 0, 1, 0], [0, 0, 0, 0, 1]]\n"
     ]
    }
   ],
   "source": [
    "n=5\n",
    "nulrij=[0]*n\n",
    "M=[]\n",
    "for i in range(n):\n",
    "    rij=copy(nulrij)\n",
    "    rij[i]=1\n",
    "    M.append(rij)\n",
    "\n",
    "N=M[:]\n",
    "N[0][0]=2\n",
    "print(M)"
   ]
  },
  {
   "cell_type": "markdown",
   "metadata": {},
   "source": [
    "Wat loopt er hier fout? `N` is effectief een kopij van `M`, maar `N` bevat verwijzingen naar dezelfde rijen. Met andere woorden, we moeten niet de inhoud van `M` enkel een kopij maken van de inhoud van `M`, maar ook een kopij van de rijen in `M`; dat noemen we een *diepe kopij*. Dit kan bijvoorbeeld als volgt (Zie ook [Python Tutor](https://pythontutor.com/visualize.html#code=from%20copy%20import%20copy%0An%3D5%0Anulrij%3D%5B0%5D*n%0AM%3D%5B%5D%0Afor%20i%20in%20range%28n%29%3A%0A%20%20%20%20rij%3Dcopy%28nulrij%29%0A%20%20%20%20rij%5Bi%5D%3D1%0A%20%20%20%20M.append%28rij%29%0A%0AN%3D%5B%5D%0Afor%20rij%20in%20M%3A%0A%20%20%20%20N.append%28copy%28rij%29%29%20%23%20voeg%20een%20kopij%20van%20de%20rij%20toe&cumulative=false&curInstr=37&heapPrimitives=nevernest&mode=display&origin=opt-frontend.js&py=3&rawInputLstJSON=%5B%5D&textReferences=false)):"
   ]
  },
  {
   "cell_type": "code",
   "execution_count": 7,
   "metadata": {},
   "outputs": [],
   "source": [
    "n=5\n",
    "nulrij=[0]*n\n",
    "M=[]\n",
    "for i in range(n):\n",
    "    rij=copy(nulrij)\n",
    "    rij[i]=1\n",
    "    M.append(rij)\n",
    "\n",
    "N=[]\n",
    "for rij in M:\n",
    "    N.append(copy(rij)) # voeg een kopij van de rij toe"
   ]
  },
  {
   "cell_type": "markdown",
   "metadata": {},
   "source": [
    "Merk op dat we ook een diepe kopij kunnen maken met de functie `deepcopy` van de module `copy`:"
   ]
  },
  {
   "cell_type": "code",
   "execution_count": 8,
   "metadata": {},
   "outputs": [],
   "source": [
    "from copy import deepcopy\n",
    "\n",
    "n=5\n",
    "nulrij=[0]*n\n",
    "M=[]\n",
    "for i in range(n):\n",
    "    rij=copy(nulrij)\n",
    "    rij[i]=1\n",
    "    M.append(rij)\n",
    "\n",
    "N=deepcopy(M)"
   ]
  },
  {
   "cell_type": "markdown",
   "metadata": {},
   "source": [
    "Volgende visualisatie vat het maken van een kopij van een matrix samen:\n",
    "![alt text](images/matrixCopy.jpg \"Kopij maken van een matrix\")"
   ]
  },
  {
   "cell_type": "code",
   "execution_count": null,
   "metadata": {},
   "outputs": [],
   "source": []
  }
 ],
 "metadata": {
  "kernelspec": {
   "display_name": "Python 3",
   "language": "python",
   "name": "python3"
  },
  "language_info": {
   "codemirror_mode": {
    "name": "ipython",
    "version": 3
   },
   "file_extension": ".py",
   "mimetype": "text/x-python",
   "name": "python",
   "nbconvert_exporter": "python",
   "pygments_lexer": "ipython3",
   "version": "3.8.3"
  }
 },
 "nbformat": 4,
 "nbformat_minor": 4
}
