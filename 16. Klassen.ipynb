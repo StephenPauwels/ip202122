{
 "cells": [
  {
   "cell_type": "markdown",
   "metadata": {},
   "source": [
    "# Klassen\n",
    "\n",
    "In een van de vorige notebooks zagen we hoe we door types te combineren complexe datastructuren konden opbouwen. Dit heeft echter ook nadelen, zoals dat we overal in onze code moeten weten hoe deze datastructuur exact in elkaar zit. \n",
    "\n",
    "Stel bijvoorbeeld dat we een programma maken dat informatie over studenten bijhoudt, en over hun vakken en hun punten voor die vakken. Dan zouden we volgende data-structuren kunnen gebruiken:"
   ]
  },
  {
   "cell_type": "code",
   "execution_count": 1,
   "metadata": {},
   "outputs": [],
   "source": [
    "student1=[20201234,\"Joske\",\"Vermeulen\",\"Tramezantlei 122\", \"Schoten\",\n",
    "          [(\"Inleiding programmeren\",11),(\"Gegevensabstractie en -structuren\",13)]]\n",
    "student2=[20201235,\"Sander\",\"Slisse\",\"Autolei 14\", \"Mortsel\",\n",
    "          [(\"Inleiding programmeren\",15),(\"Computer Systemen en Architectuur\",13)]]"
   ]
  },
  {
   "cell_type": "markdown",
   "metadata": {},
   "source": [
    "De puntenlijst van een student kunnen we dan afdrukken met volgende functie:"
   ]
  },
  {
   "cell_type": "code",
   "execution_count": 2,
   "metadata": {},
   "outputs": [
    {
     "name": "stdout",
     "output_type": "stream",
     "text": [
      "Punten van J. Vermeulen (20201234)\n",
      "Inleiding programmeren \t 11\n",
      "Gegevensabstractie en -structuren \t 13\n"
     ]
    }
   ],
   "source": [
    "def printPuntenLijst(s):\n",
    "    print(\"Punten van \"+s[1][0]+\". \"+s[2]+\" (\"+str(s[0])+\")\")\n",
    "    for (vak,punt) in s[-1]:\n",
    "        print(vak,\"\\t\",punt)\n",
    "        \n",
    "printPuntenLijst(student1)"
   ]
  },
  {
   "cell_type": "markdown",
   "metadata": {},
   "source": [
    "Zoals we zien is om deze code te schrijven een goede kennis van de datastructuur vereist. Bovendien, als we wijzigingen aanbrengen aan de datastructuur, dan heeft dit gevolgen voor alle plekken in het programma waar de datastructuur gebruikt wordt. \n",
    "\n",
    "Bijvoorbeeld, stel dat we niet enkel het punt willen opslaan, maar ook de datum waarop dit punt behaald werd:"
   ]
  },
  {
   "cell_type": "code",
   "execution_count": 3,
   "metadata": {},
   "outputs": [],
   "source": [
    "student1=[20201234,\"Joske\",\"Vermeulen\",\"Tramezantlei 122\", \"Schoten\",\n",
    "          [(\"Inleiding programmeren\",11,(18,1,2020)),(\"Gegevensabstractie en -structuren\",13,(10,1,2020))]]\n",
    "student2=[20201235,\"Sander\",\"Slisse\",\"Autolei 14\", \"Mortsel\",\n",
    "          [(\"Inleiding programmeren\",15,(10,1,2020)),(\"Computer Systemen en Architectuur\",13,(25,1,2020))]]"
   ]
  },
  {
   "cell_type": "markdown",
   "metadata": {},
   "source": [
    "Door deze aanpassing werkt onze functie `printPuntenLijst` echter niet meer:"
   ]
  },
  {
   "cell_type": "code",
   "execution_count": 4,
   "metadata": {},
   "outputs": [
    {
     "name": "stdout",
     "output_type": "stream",
     "text": [
      "Punten van J. Vermeulen (20201234)\n"
     ]
    },
    {
     "ename": "ValueError",
     "evalue": "too many values to unpack (expected 2)",
     "output_type": "error",
     "traceback": [
      "\u001b[1;31m---------------------------------------------------------------------------\u001b[0m",
      "\u001b[1;31mValueError\u001b[0m                                Traceback (most recent call last)",
      "\u001b[1;32m<ipython-input-4-eb3647ff1d18>\u001b[0m in \u001b[0;36m<module>\u001b[1;34m\u001b[0m\n\u001b[1;32m----> 1\u001b[1;33m \u001b[0mprintPuntenLijst\u001b[0m\u001b[1;33m(\u001b[0m\u001b[0mstudent1\u001b[0m\u001b[1;33m)\u001b[0m\u001b[1;33m\u001b[0m\u001b[1;33m\u001b[0m\u001b[0m\n\u001b[0m",
      "\u001b[1;32m<ipython-input-2-bce04c3b211a>\u001b[0m in \u001b[0;36mprintPuntenLijst\u001b[1;34m(s)\u001b[0m\n\u001b[0;32m      1\u001b[0m \u001b[1;32mdef\u001b[0m \u001b[0mprintPuntenLijst\u001b[0m\u001b[1;33m(\u001b[0m\u001b[0ms\u001b[0m\u001b[1;33m)\u001b[0m\u001b[1;33m:\u001b[0m\u001b[1;33m\u001b[0m\u001b[1;33m\u001b[0m\u001b[0m\n\u001b[0;32m      2\u001b[0m     \u001b[0mprint\u001b[0m\u001b[1;33m(\u001b[0m\u001b[1;34m\"Punten van \"\u001b[0m\u001b[1;33m+\u001b[0m\u001b[0ms\u001b[0m\u001b[1;33m[\u001b[0m\u001b[1;36m1\u001b[0m\u001b[1;33m]\u001b[0m\u001b[1;33m[\u001b[0m\u001b[1;36m0\u001b[0m\u001b[1;33m]\u001b[0m\u001b[1;33m+\u001b[0m\u001b[1;34m\". \"\u001b[0m\u001b[1;33m+\u001b[0m\u001b[0ms\u001b[0m\u001b[1;33m[\u001b[0m\u001b[1;36m2\u001b[0m\u001b[1;33m]\u001b[0m\u001b[1;33m+\u001b[0m\u001b[1;34m\" (\"\u001b[0m\u001b[1;33m+\u001b[0m\u001b[0mstr\u001b[0m\u001b[1;33m(\u001b[0m\u001b[0ms\u001b[0m\u001b[1;33m[\u001b[0m\u001b[1;36m0\u001b[0m\u001b[1;33m]\u001b[0m\u001b[1;33m)\u001b[0m\u001b[1;33m+\u001b[0m\u001b[1;34m\")\"\u001b[0m\u001b[1;33m)\u001b[0m\u001b[1;33m\u001b[0m\u001b[1;33m\u001b[0m\u001b[0m\n\u001b[1;32m----> 3\u001b[1;33m     \u001b[1;32mfor\u001b[0m \u001b[1;33m(\u001b[0m\u001b[0mvak\u001b[0m\u001b[1;33m,\u001b[0m\u001b[0mpunt\u001b[0m\u001b[1;33m)\u001b[0m \u001b[1;32min\u001b[0m \u001b[0ms\u001b[0m\u001b[1;33m[\u001b[0m\u001b[1;33m-\u001b[0m\u001b[1;36m1\u001b[0m\u001b[1;33m]\u001b[0m\u001b[1;33m:\u001b[0m\u001b[1;33m\u001b[0m\u001b[1;33m\u001b[0m\u001b[0m\n\u001b[0m\u001b[0;32m      4\u001b[0m         \u001b[0mprint\u001b[0m\u001b[1;33m(\u001b[0m\u001b[0mvak\u001b[0m\u001b[1;33m,\u001b[0m\u001b[1;34m\"\\t\"\u001b[0m\u001b[1;33m,\u001b[0m\u001b[0mpunt\u001b[0m\u001b[1;33m)\u001b[0m\u001b[1;33m\u001b[0m\u001b[1;33m\u001b[0m\u001b[0m\n\u001b[0;32m      5\u001b[0m \u001b[1;33m\u001b[0m\u001b[0m\n",
      "\u001b[1;31mValueError\u001b[0m: too many values to unpack (expected 2)"
     ]
    }
   ],
   "source": [
    "printPuntenLijst(student1)"
   ]
  },
  {
   "cell_type": "markdown",
   "metadata": {},
   "source": [
    "Dit soort problemen kunnen we vermijden door op 1 plaats functies te voorzien die de verschillende componenten van student teruggeven en aanpassen:"
   ]
  },
  {
   "cell_type": "code",
   "execution_count": 5,
   "metadata": {},
   "outputs": [
    {
     "name": "stdout",
     "output_type": "stream",
     "text": [
      "Punten van J. Vermeulen (20201234)\n",
      "Inleiding programmeren \t 11\n",
      "Gegevensabstractie en -structuren \t 13\n"
     ]
    }
   ],
   "source": [
    "def nieuweStudent(ID,vnaam,anaam,straat,gemeente,vakken):\n",
    "    return [ID,vnaam,anaam,straat,gemeente,vakken]\n",
    "\n",
    "def getID(student):\n",
    "    return student[0]\n",
    "\n",
    "def getVNaam(student):\n",
    "    return student[1]\n",
    "\n",
    "def getANaam(student):\n",
    "    return student[2]\n",
    "\n",
    "def getVakken(student):\n",
    "    return student[-1]\n",
    "\n",
    "def getVakNaam(vak):\n",
    "    return vak[0]\n",
    "\n",
    "def getVakPunt(vak):\n",
    "    return vak[1]\n",
    "\n",
    "def getVakExamenDatum(vak):\n",
    "    return vak[-1]\n",
    "\n",
    "def printPuntenLijst(student):\n",
    "    print(\"Punten van \"+getVNaam(student)[0]+\". \"+getANaam(student)+\" (\"+str(getID(student))+\")\")\n",
    "    for vak in getVakken(student):\n",
    "        print(getVakNaam(vak),\"\\t\",getVakPunt(vak))\n",
    "        \n",
    "student1=nieuweStudent(20201234,\"Joske\",\"Vermeulen\",\"Tramezantlei 122\", \"Schoten\",\n",
    "          [(\"Inleiding programmeren\",11,(18,1,2020)),(\"Gegevensabstractie en -structuren\",13,(10,1,2020))])\n",
    "student2=nieuweStudent(20201235,\"Sander\",\"Slisse\",\"Autolei 14\", \"Mortsel\",\n",
    "          [(\"Inleiding programmeren\",15,(10,1,2020)),(\"Computer Systemen en Architectuur\",13,(25,1,2020))])\n",
    "\n",
    "printPuntenLijst(student1)\n"
   ]
  },
  {
   "cell_type": "markdown",
   "metadata": {},
   "source": [
    "We hebben dus langs de ene kant data en aan de andere kant functies die op die data werken en die bij elkaar horen. In zekere zin vormen de data en functies samen een nieuw *type* student. Dit kunnen we expliciet maken door die data en functies samen te voegen in een *klasse* (*class*) student. Alle studenten die we in ons programma gaan gebruiken worden dan *instanties* of *objecten* van die klasse. Net zoals `\"abcd\"` een instantie is van klasse string, en `s.lower()` een functie is die op een string `s` werkt, worden in het volgende programmaatje `student1` en `student2` instanties van klasse `student`. Bekijk deze code even om het idee te vatten; we bekijken de individuele componenten erna."
   ]
  },
  {
   "cell_type": "code",
   "execution_count": 6,
   "metadata": {},
   "outputs": [
    {
     "name": "stdout",
     "output_type": "stream",
     "text": [
      "Punten van J. Vermeulen (20201234)\n",
      "Inleiding programmeren \t 11\n",
      "Gegevensabstractie en -structuren \t 13\n"
     ]
    }
   ],
   "source": [
    "def getVakNaam(vak):\n",
    "    return vak[0]\n",
    "\n",
    "def getVakPunt(vak):\n",
    "    return vak[1]\n",
    "\n",
    "def getVakExamenDatum(vak):\n",
    "    return vak[-1]\n",
    "\n",
    "\n",
    "class student:\n",
    "    def nieuweStudent(self,ID,vnaam,anaam,straat,gemeente,vakken):\n",
    "        self.ID=ID\n",
    "        self.vnaam=vnaam\n",
    "        self.anaam=anaam\n",
    "        self.straat=straat\n",
    "        self.gemeente=gemeente\n",
    "        self.vakken=vakken\n",
    "\n",
    "    def getID(self):\n",
    "        return self.ID\n",
    "\n",
    "    def getVNaam(self):\n",
    "        return self.vnaam\n",
    "\n",
    "    def getANaam(self):\n",
    "        return self.anaam\n",
    "\n",
    "    def getVakken(self):\n",
    "        return self.vakken\n",
    "\n",
    "    def printPuntenLijst(self):\n",
    "        print(\"Punten van \"+self.getVNaam()[0]+\". \"+self.getANaam()+\" (\"+str(self.getID())+\")\")\n",
    "        for vak in self.getVakken():\n",
    "            print(getVakNaam(vak),\"\\t\",getVakPunt(vak))\n",
    "\n",
    "\n",
    "            \n",
    "student1=student()\n",
    "student1.nieuweStudent(20201234,\"Joske\",\"Vermeulen\",\"Tramezantlei 122\", \"Schoten\",\n",
    "          [(\"Inleiding programmeren\",11,(18,1,2020)),(\"Gegevensabstractie en -structuren\",13,(10,1,2020))])\n",
    "student2=student()\n",
    "student2.nieuweStudent(20201235,\"Sander\",\"Slisse\",\"Autolei 14\", \"Mortsel\",\n",
    "          [(\"Inleiding programmeren\",15,(10,1,2020)),(\"Computer Systemen en Architectuur\",13,(25,1,2020))])\n",
    "\n",
    "student1.printPuntenLijst()  "
   ]
  },
  {
   "cell_type": "markdown",
   "metadata": {},
   "source": [
    "## Definitie van een klasse\n",
    "\n",
    "Met het keyword `class` duiden we aan dat wat volgt de *definitie* is van een klasse. Net zoals bij een functie doet een definitie zelf niets. `class` wordt gevolgd door de naam van de klasse, student in dit geval, en een dubbele punt. De definitie van de klasse is nu het ingesprongen gedeelte na de dubbele punt.\n",
    "\n",
    "We bouwen ons voorbeeld op startende van een lege klasse. Omdat Python geen lege blokken toestaat, schrijven we na de definitie van onze klasse `pass`; wat zoveel betekent als: niets te zien hier, loop maar door."
   ]
  },
  {
   "cell_type": "code",
   "execution_count": 7,
   "metadata": {},
   "outputs": [],
   "source": [
    "class vb:\n",
    "    pass"
   ]
  },
  {
   "cell_type": "markdown",
   "metadata": {},
   "source": [
    "### Instanties van een klasse maken\n",
    "\n",
    "We kunnen nu *instanties* of *objecten* van deze klasse aanmaken door de naam van de klasse te nemen gevolgd door lege haken. Dus, in ons minimaal voorbeeld: `vb()`. Dit creëert een nieuw object van onze klasse. Dit object kunnen we toekennen aan een variabele, meegeven als parameter aan een functie, enzovoort. Het is een waarde net als `5`, `\"abc\"`, `[]`, of `{'a':1}`.  "
   ]
  },
  {
   "cell_type": "code",
   "execution_count": 8,
   "metadata": {},
   "outputs": [
    {
     "name": "stdout",
     "output_type": "stream",
     "text": [
      "<__main__.vb object at 0x000001B9773DA5E0> <__main__.vb object at 0x000001B9773DA730> <__main__.vb object at 0x000001B9773DA3D0>\n"
     ]
    }
   ],
   "source": [
    "v1=vb()\n",
    "v2=vb()\n",
    "print(vb(),v1,v2)"
   ]
  },
  {
   "cell_type": "markdown",
   "metadata": {},
   "source": [
    "In de uitvoer van de `print` in vorig voorbeeldje zie je dat er drie verschillende objecten van klasse `vb` werden aangemaakt. Je kan zien dat het verschillende objecten zijn aan de hand van hun geheugenadres dat volgt na `at`.\n",
    "Een andere manier om de identiteit van objecten te testen is via de functie `id` die van elk object de unieke identifier geeft; zeg maar het paspoortnummer. "
   ]
  },
  {
   "cell_type": "code",
   "execution_count": 33,
   "metadata": {},
   "outputs": [
    {
     "name": "stdout",
     "output_type": "stream",
     "text": [
      "2418581742496 2418581741728 2418581743792\n"
     ]
    }
   ],
   "source": [
    "print(id(v1),id(v2),id(vb()))"
   ]
  },
  {
   "cell_type": "markdown",
   "metadata": {},
   "source": [
    "### Data aan een object koppelen\n",
    "\n",
    "We kunnen de inhoud van een object inspecteren via de dot (`.`) operatie. Onze objecten zijn momenteel nog leeg, dus kunnen we ook niets inspecteren.\n",
    "\n",
    "In Python is het erg eenvoudig om aan een object data te koppelen, opnieuw door gebruik te maken van `.`. We kunnen bijvoorbeeld variabelen `x` en `y` toevoegen aan object `v1`:"
   ]
  },
  {
   "cell_type": "code",
   "execution_count": 34,
   "metadata": {},
   "outputs": [
    {
     "name": "stdout",
     "output_type": "stream",
     "text": [
      "3 7\n"
     ]
    }
   ],
   "source": [
    "v1.x=3\n",
    "v1.y=7\n",
    "print(v1.x,v1.y)"
   ]
  },
  {
   "cell_type": "markdown",
   "metadata": {},
   "source": [
    "### Methods\n",
    "\n",
    "Meestal gaan we echter niet rechtstreeks variabelen toevoegen aan objecten van een klasse, maar gaan we dat doen via functies die voor de hele klasse gedefinieerd zijn. Een definitie van een klasse bestaat dan typisch ook uit een verzameling functies, ook wel de *methods* van de klasse genoemd. Elke *method* heeft een verplichte eerste parameter die het object zelf weergeeft. De conventie is om die eerste parameter altijd `self` te noemen. Op die manier kunnen de methods makkelijk de data van het object benaderen.\n",
    "\n",
    "Een method aanroepen op een object doen we opnieuw via de dot operator. Bij het aanroepen van een method van een klasse op een object van die klasse hoeven we niet zelf een argument te geven voor de parameter `self`. Python zal die zelf invullen.\n",
    "Anders gezegd: als `o` een object is van klasse `C` en klasse `C` heeft een method `m`, dan is de eerste parameter van de method `m` steeds `self`. Als dit de enige parameter is van deze method, dan roepen we `m` aan voor object `o` als volgt:\n",
    "`o.m()`, dus zonder parameter. Python vult dit zelf aan (en maakt er intern `C.m(o)` van).\n",
    "\n",
    "Volgend voorbeeld illustreert het toevoegen en gebruiken van methods."
   ]
  },
  {
   "cell_type": "code",
   "execution_count": 11,
   "metadata": {},
   "outputs": [
    {
     "name": "stdout",
     "output_type": "stream",
     "text": [
      "1 2\n",
      "3 4\n"
     ]
    }
   ],
   "source": [
    "class vb:\n",
    "    def addData(self,x,y):\n",
    "        self.x=x\n",
    "        self.y=y\n",
    "    \n",
    "    def printData(self):\n",
    "        print(self.x,self.y)\n",
    "        \n",
    "        \n",
    "v1=vb()\n",
    "v2=vb()\n",
    "v1.addData(1,2)   # geen argument voor self nodig! \n",
    "v2.addData(3,4)   # geen argument voor self nodig!\n",
    "\n",
    "v1.printData()   # geen argument voor self nodig!\n",
    "v2.printData()   # geen argument voor self nodig!"
   ]
  },
  {
   "cell_type": "markdown",
   "metadata": {},
   "source": [
    "Zorg ervoor dat je nooit vergeet om in de defintie van een method `self` als eerste parameter op te nemen. Als je dat vergeet, zal namelijk nog steeds de eerste parameter hiervoor gebruikt worden met eigenaardige foutmeldingen tot gevolg: "
   ]
  },
  {
   "cell_type": "code",
   "execution_count": 12,
   "metadata": {},
   "outputs": [
    {
     "ename": "TypeError",
     "evalue": "addData() takes 2 positional arguments but 3 were given",
     "output_type": "error",
     "traceback": [
      "\u001b[1;31m---------------------------------------------------------------------------\u001b[0m",
      "\u001b[1;31mTypeError\u001b[0m                                 Traceback (most recent call last)",
      "\u001b[1;32m<ipython-input-12-b36ae911cc67>\u001b[0m in \u001b[0;36m<module>\u001b[1;34m\u001b[0m\n\u001b[0;32m     10\u001b[0m \u001b[0mv1\u001b[0m\u001b[1;33m=\u001b[0m\u001b[0mvb\u001b[0m\u001b[1;33m(\u001b[0m\u001b[1;33m)\u001b[0m\u001b[1;33m\u001b[0m\u001b[1;33m\u001b[0m\u001b[0m\n\u001b[0;32m     11\u001b[0m \u001b[0mv2\u001b[0m\u001b[1;33m=\u001b[0m\u001b[0mvb\u001b[0m\u001b[1;33m(\u001b[0m\u001b[1;33m)\u001b[0m\u001b[1;33m\u001b[0m\u001b[1;33m\u001b[0m\u001b[0m\n\u001b[1;32m---> 12\u001b[1;33m \u001b[0mv1\u001b[0m\u001b[1;33m.\u001b[0m\u001b[0maddData\u001b[0m\u001b[1;33m(\u001b[0m\u001b[1;36m1\u001b[0m\u001b[1;33m,\u001b[0m\u001b[1;36m2\u001b[0m\u001b[1;33m)\u001b[0m\u001b[1;33m\u001b[0m\u001b[1;33m\u001b[0m\u001b[0m\n\u001b[0m\u001b[0;32m     13\u001b[0m \u001b[0mv2\u001b[0m\u001b[1;33m.\u001b[0m\u001b[0maddData\u001b[0m\u001b[1;33m(\u001b[0m\u001b[1;36m3\u001b[0m\u001b[1;33m,\u001b[0m\u001b[1;36m4\u001b[0m\u001b[1;33m)\u001b[0m\u001b[1;33m\u001b[0m\u001b[1;33m\u001b[0m\u001b[0m\n\u001b[0;32m     14\u001b[0m \u001b[1;33m\u001b[0m\u001b[0m\n",
      "\u001b[1;31mTypeError\u001b[0m: addData() takes 2 positional arguments but 3 were given"
     ]
    }
   ],
   "source": [
    "class vb:\n",
    "    def addData(x,y):  # self vergeten !!!\n",
    "        self.x=x\n",
    "        self.y=y\n",
    "    \n",
    "    def printData():  # self vergeten !!!\n",
    "        print(self.x,self.y)\n",
    "        \n",
    "        \n",
    "v1=vb()\n",
    "v2=vb()\n",
    "v1.addData(1,2)   \n",
    "v2.addData(3,4)  \n",
    "\n",
    "v1.printData()   \n",
    "v2.printData()  \n"
   ]
  },
  {
   "cell_type": "markdown",
   "metadata": {},
   "source": [
    "Je krijgt hier de fout dat `addData` maar 2 parameters heeft en jij 3 argumenten hebt gegeven. Erg verwarrend, maar dit komt omdat Python intern `v1.addData(1,2)` omzet naar `vb.addData(v1,1,2)`. \n",
    "\n",
    "Vergeet ook niet om `self.` te zetten voor de variabelen die bij het object horen. Als je `self.` vergeet, dan wordt de waarde niet in het object opgeslagen, maar in een lokale variabele van jouw method. Deze lokale variabele verdwijnt dan vervolgens eens de functie is afgelopen. Dit gebeurt in volgend stukje code:"
   ]
  },
  {
   "cell_type": "code",
   "execution_count": 13,
   "metadata": {},
   "outputs": [
    {
     "ename": "AttributeError",
     "evalue": "'vb' object has no attribute 'y'",
     "output_type": "error",
     "traceback": [
      "\u001b[1;31m---------------------------------------------------------------------------\u001b[0m",
      "\u001b[1;31mAttributeError\u001b[0m                            Traceback (most recent call last)",
      "\u001b[1;32m<ipython-input-13-ad328834f170>\u001b[0m in \u001b[0;36m<module>\u001b[1;34m\u001b[0m\n\u001b[0;32m     10\u001b[0m \u001b[0mv1\u001b[0m\u001b[1;33m=\u001b[0m\u001b[0mvb\u001b[0m\u001b[1;33m(\u001b[0m\u001b[1;33m)\u001b[0m\u001b[1;33m\u001b[0m\u001b[1;33m\u001b[0m\u001b[0m\n\u001b[0;32m     11\u001b[0m \u001b[0mv1\u001b[0m\u001b[1;33m.\u001b[0m\u001b[0maddData\u001b[0m\u001b[1;33m(\u001b[0m\u001b[1;36m1\u001b[0m\u001b[1;33m,\u001b[0m\u001b[1;36m2\u001b[0m\u001b[1;33m)\u001b[0m\u001b[1;33m\u001b[0m\u001b[1;33m\u001b[0m\u001b[0m\n\u001b[1;32m---> 12\u001b[1;33m \u001b[0mv1\u001b[0m\u001b[1;33m.\u001b[0m\u001b[0mprintData\u001b[0m\u001b[1;33m(\u001b[0m\u001b[1;33m)\u001b[0m\u001b[1;33m\u001b[0m\u001b[1;33m\u001b[0m\u001b[0m\n\u001b[0m",
      "\u001b[1;32m<ipython-input-13-ad328834f170>\u001b[0m in \u001b[0;36mprintData\u001b[1;34m(self)\u001b[0m\n\u001b[0;32m      5\u001b[0m \u001b[1;33m\u001b[0m\u001b[0m\n\u001b[0;32m      6\u001b[0m     \u001b[1;32mdef\u001b[0m \u001b[0mprintData\u001b[0m\u001b[1;33m(\u001b[0m\u001b[0mself\u001b[0m\u001b[1;33m)\u001b[0m\u001b[1;33m:\u001b[0m\u001b[1;33m\u001b[0m\u001b[1;33m\u001b[0m\u001b[0m\n\u001b[1;32m----> 7\u001b[1;33m         \u001b[0mprint\u001b[0m\u001b[1;33m(\u001b[0m\u001b[0mself\u001b[0m\u001b[1;33m.\u001b[0m\u001b[0mx\u001b[0m\u001b[1;33m,\u001b[0m\u001b[0mself\u001b[0m\u001b[1;33m.\u001b[0m\u001b[0my\u001b[0m\u001b[1;33m)\u001b[0m\u001b[1;33m\u001b[0m\u001b[1;33m\u001b[0m\u001b[0m\n\u001b[0m\u001b[0;32m      8\u001b[0m \u001b[1;33m\u001b[0m\u001b[0m\n\u001b[0;32m      9\u001b[0m \u001b[1;33m\u001b[0m\u001b[0m\n",
      "\u001b[1;31mAttributeError\u001b[0m: 'vb' object has no attribute 'y'"
     ]
    }
   ],
   "source": [
    "class vb:\n",
    "    def addData(self,x1,y1):\n",
    "        self.x=x1  \n",
    "        y=y1    # We zijn de self. vergeten voor y; y is dus een lokale variabele\n",
    "    \n",
    "    def printData(self):\n",
    "        print(self.x,self.y)\n",
    "        \n",
    "        \n",
    "v1=vb()\n",
    "v1.addData(1,2)\n",
    "v1.printData()"
   ]
  },
  {
   "cell_type": "markdown",
   "metadata": {},
   "source": [
    "### Initialiser\n",
    "\n",
    "Merk op dat we de data van de objecten van klasse `vb` expliciet moeten toevoegen via een aanroep van de method `addData`. Als we dat vergeten dan kunnen we een andere method, `printData`, niet correct gebruiken omdat die veronderstelt dat data variabelen `x` en `y` aan ons object gekoppeld zijn. Eigenlijk willen we in dit geval dat de functie `addData` altijd een keer wordt uitgevoerd voordat we het object voor de eerste keer gebruiken. Dit is exact de functie van een *initialiser* in een klasse. Een initializer heeft steeds de naam `__init__` (twee *underscores* (\\_) gevolgd door *init* gevolgd door opnieuw twee *underscores*) en heeft als parameters steeds de obligate `self` en vervolgens alle bijkomende parameters die jij nodig acht.\n",
    "\n",
    "Voor onze klasse `vb` zouden we bijvoorbeeld kunnen zeggen dat steeds wanneer een object van deze klasse wordt aangemaakt, er beginwaarden voor `x` en `y` gegeven moeten worden. Dat ziet er dan als volgt uit:"
   ]
  },
  {
   "cell_type": "code",
   "execution_count": 38,
   "metadata": {},
   "outputs": [
    {
     "name": "stdout",
     "output_type": "stream",
     "text": [
      "1 2\n"
     ]
    }
   ],
   "source": [
    "class vb:\n",
    "    def __init__(self,x,y):\n",
    "        self.x=x\n",
    "        self.y=y\n",
    "    \n",
    "    def addData(self,x1,y1):\n",
    "        self.x=x1  \n",
    "        self.y=y1\n",
    "    \n",
    "    def printData(self):\n",
    "        print(self.x,self.y)\n",
    "        \n",
    "        \n",
    "v1=vb(1,2)    # omdat de initializer twee parameters heeft, zijn we nu \n",
    "              # verplicht om 2 argumenten mee te geven bij creatie van een object\n",
    "v1.printData()"
   ]
  },
  {
   "cell_type": "markdown",
   "metadata": {},
   "source": [
    "Python zal standaard een lege initializer maken als wij er zelf geen voorzien. Dit verklaart waarom we lege haken hadden in onze eerste voorbeelden. Dit komt eigenlijk neer op volgende code:"
   ]
  },
  {
   "cell_type": "code",
   "execution_count": 39,
   "metadata": {},
   "outputs": [],
   "source": [
    "class vb:\n",
    "    def __init__(self):\n",
    "        pass\n",
    "    \n",
    "    def addData(self,x1,y1):\n",
    "        self.x=x1  \n",
    "        self.y=y1\n",
    "    \n",
    "    def printData(self):\n",
    "        print(self.x,self.y)\n",
    "        \n",
    "        \n",
    "v1=vb()\n",
    "#v1.printData()  # deze laten we nu weg want die geeft een fout omdat v1.x en v1.y niet bestaan"
   ]
  },
  {
   "cell_type": "markdown",
   "metadata": {},
   "source": [
    "Een initialiser is enorm handig om te vermijden dat de inhoud van objecten geen correcte toestand weergeven. Een incorrecte toestand is bijvoorbeeld een ontbrekende variabele. \n",
    "\n",
    "### Methods die andere methods aanroepen\n",
    "\n",
    "Een method kan ook een andere method aanroepen door gebruik te maken van `self.methodenaam(argumenten)`. Merk op dat we hier niet zelf een argument moeten geven voor de `self` parameter omdat we gebruik maken van de dot notatie bij de aanroep (`self` dot `methodenaam`). We kunnen bijvoorbeeld de initialiser in het vorige voorbeeld `addData` laten aanroepen in plaats van zelf de variabelen `self.x` en `self.y` toe te wijzen."
   ]
  },
  {
   "cell_type": "code",
   "execution_count": 40,
   "metadata": {},
   "outputs": [
    {
     "name": "stdout",
     "output_type": "stream",
     "text": [
      "0 0\n"
     ]
    }
   ],
   "source": [
    "class vb:\n",
    "    def __init__(self):\n",
    "        self.addData(0,0)  # vanuit een method een andere method aanroepen\n",
    "    \n",
    "    def addData(self,x1,y1):\n",
    "        self.x=x1  \n",
    "        self.y=y1\n",
    "    \n",
    "    def printData(self):\n",
    "        print(self.x,self.y)\n",
    "        \n",
    "        \n",
    "v1=vb()\n",
    "v1.printData()  "
   ]
  },
  {
   "cell_type": "markdown",
   "metadata": {},
   "source": [
    "## Voorbeeld: student\n",
    "\n",
    "Met wat we net zagen kunnen we het voorbeeld van de klasse student volledig begrijpen. We herhalen het voorbeeld hier even ter referentie:"
   ]
  },
  {
   "cell_type": "code",
   "execution_count": 14,
   "metadata": {},
   "outputs": [
    {
     "name": "stdout",
     "output_type": "stream",
     "text": [
      "Punten van J. Vermeulen (20201234)\n",
      "Inleiding programmeren \t 11\n",
      "Gegevensabstractie en -structuren \t 13\n"
     ]
    }
   ],
   "source": [
    "def getVakNaam(vak):\n",
    "    return vak[0]\n",
    "\n",
    "def getVakPunt(vak):\n",
    "    return vak[1]\n",
    "\n",
    "def getVakExamenDatum(vak):\n",
    "    return vak[-1]\n",
    "\n",
    "\n",
    "class student:\n",
    "    def nieuweStudent(self,ID,vnaam,anaam,straat,gemeente,vakken):\n",
    "        self.ID=ID\n",
    "        self.vnaam=vnaam\n",
    "        self.anaam=anaam\n",
    "        self.straat=straat\n",
    "        self.gemeente=gemeente\n",
    "        self.vakken=vakken\n",
    "\n",
    "    def getID(self):\n",
    "        return self.ID\n",
    "\n",
    "    def getVNaam(self):\n",
    "        return self.vnaam\n",
    "\n",
    "    def getANaam(self):\n",
    "        return self.anaam\n",
    "\n",
    "    def getVakken(self):\n",
    "        return self.vakken\n",
    "\n",
    "    def printPuntenLijst(self):\n",
    "        print(\"Punten van \"+self.getVNaam()[0]+\". \"+self.getANaam()+\" (\"+str(self.getID())+\")\")\n",
    "        for vak in self.getVakken():\n",
    "            print(getVakNaam(vak),\"\\t\",getVakPunt(vak))\n",
    "\n",
    "\n",
    "            \n",
    "student1=student()\n",
    "student1.nieuweStudent(20201234,\"Joske\",\"Vermeulen\",\"Tramezantlei 122\", \"Schoten\",\n",
    "          [(\"Inleiding programmeren\",11,(18,1,2020)),(\"Gegevensabstractie en -structuren\",13,(10,1,2020))])\n",
    "student2=student()\n",
    "student2.nieuweStudent(20201235,\"Sander\",\"Slisse\",\"Autolei 14\", \"Mortsel\",\n",
    "          [(\"Inleiding programmeren\",15,(10,1,2020)),(\"Computer Systemen en Architectuur\",13,(25,1,2020))])\n",
    "\n",
    "student1.printPuntenLijst()"
   ]
  },
  {
   "cell_type": "markdown",
   "metadata": {},
   "source": [
    "Merk op dat we de klasse student nu kunnen gebruiken als een type. Dit is niet enkel alsof; een klasse definieert een nieuw type dat we kunnen gebruiken net als elk ander type. Zo kunnen we bijvoorbeeld studentenlijsten maken:"
   ]
  },
  {
   "cell_type": "code",
   "execution_count": 70,
   "metadata": {},
   "outputs": [],
   "source": [
    "BA1=[student1,student2]  # een klein jaar blijkbaar ..."
   ]
  },
  {
   "cell_type": "markdown",
   "metadata": {},
   "source": [
    "We zouden ook verder kunnen gaan en van vak ook een klasse maken, en in plaats van de naam van een vak op te slaan, het vak bij de student op te slaan. Verder hebben we de initialiser aangepast; om student correct te kunnen gebruiken hoeft er niet per se een vak te zijn dus laten we dit uit de initialiser weg en voegen we in de plaats daarvan methods toe om vakken en punten toe te voegen."
   ]
  },
  {
   "cell_type": "code",
   "execution_count": 71,
   "metadata": {},
   "outputs": [
    {
     "name": "stdout",
     "output_type": "stream",
     "text": [
      "Punten van J. Vermeulen (20201234)\n",
      "Inleiding Programmeren \t 11\n",
      "Gegevensabstractie en datastructuren \t 13\n"
     ]
    }
   ],
   "source": [
    "class vak:\n",
    "    def __init__(self,code,naam):\n",
    "        self.code=code\n",
    "        self.naam=naam\n",
    "\n",
    "    def getCode(self):\n",
    "        return self.code\n",
    "        \n",
    "    def getVakNaam(self):\n",
    "        return self.naam\n",
    "\n",
    "\n",
    "class student:\n",
    "    def __init__(self,ID,vnaam,anaam,straat,gemeente):\n",
    "        self.ID=ID\n",
    "        self.vnaam=vnaam\n",
    "        self.anaam=anaam\n",
    "        self.straat=straat\n",
    "        self.gemeente=gemeente\n",
    "        self.vakken=[]\n",
    "        self.punten={}  # lege dictionary die vakcodes koppelt aan punten\n",
    "\n",
    "    def getID(self):\n",
    "        return self.ID\n",
    "\n",
    "    def getVNaam(self):\n",
    "        return self.vnaam\n",
    "\n",
    "    def getANaam(self):\n",
    "        return self.anaam\n",
    "\n",
    "    def getVakken(self):\n",
    "        return self.vakken\n",
    "\n",
    "    def addVak(self,vak):\n",
    "        self.vakken.append(vak)\n",
    "    \n",
    "    def addGrade(self,v,g):\n",
    "        self.punten[v.getCode()]=g\n",
    "    \n",
    "    def getGrade(self,v):\n",
    "        return self.punten.get(v.getCode(),\"-\")\n",
    "    \n",
    "    def printPuntenLijst(self):\n",
    "        print(\"Punten van \"+self.getVNaam()[0]+\". \"+self.getANaam()+\" (\"+str(self.getID())+\")\")\n",
    "        for v in self.getVakken():\n",
    "            print(v.getVakNaam(),\"\\t\",self.getGrade(v))\n",
    "\n",
    "IP=vak(\"IP\",\"Inleiding Programmeren\")\n",
    "GAS=vak(\"GAS\",\"Gegevensabstractie en -structuren\")\n",
    "CSA=vak(\"CSA\",\"Computer Systemen en Architectuur\")\n",
    "\n",
    "student1=student(20201234,\"Joske\",\"Vermeulen\",\"Tramezantlei 122\", \"Schoten\")\n",
    "student1.addVak(IP)\n",
    "student1.addVak(GAS)\n",
    "student1.addGrade(IP,11)\n",
    "student1.addGrade(GAS,13)\n",
    "\n",
    "student2=student(20201235,\"Sander\",\"Slisse\",\"Autolei 14\", \"Mortsel\")\n",
    "student2.addVak(IP)\n",
    "student2.addVak(CSA)\n",
    "student2.addGrade(IP,15)\n",
    "student2.addGrade(CSA,13)\n",
    "\n",
    "student1.printPuntenLijst()"
   ]
  },
  {
   "cell_type": "markdown",
   "metadata": {},
   "source": [
    "Je vraagt je nu misschien af wat het grote nut was om in dit voorbeeld klassen te gebruiken. Het programmeren met klassen, ook wel *object-georiënteerd programmeren* genoemd, is essentieel om projecten met grotere complexiteit beheersbaar te houden. Zonder nu reeds al te veel in te gaan op de inhoud van de verschillende Software-engineering vakken die jullie verder in de opleiding nog gaan krijgen, sommen we hier enkele voordelen op:\n",
    "- de opbouw van jouw programma wordt logischer, met functies die de data van een klasse beheren dicht bij de definitie van de klasse. Je maakt een eigen type aan, met methods om objecten van dit type te beheren.\n",
    "- een andere programmeur, of jijzelf, kan de objecten van de klasse gebruiken zonder te hoeven weten hoe deze objecten er intern uit zien en aan welke voorwaarden ze moeten voldoen. Bijvoorbeeld: zonder te weten wat de method `append` van de klasse `list` intern exact doet, kan jij ze toch gebruiken. Achteraf kan je aan de elementen die je in de lijst zette ook aan, via de operator `[index]`, die eigenlijk niet meer is dan een method met een ietwat bijzondere naam en manier van argumenten doorgeven.\n",
    "- zolang de *interface* (verzameling van methods om de inhoud van een object te beheren) niet van vorm wijzigt, kan je de hele interne structuur van een object wijzigen, zoals bijvoorbeeld functionaliteit toevoegen, zonder dat je ergens anders in jouw programma ook maar een letter code moet wijzigen.\n",
    "\n",
    "Dit laaste punt illusteren we even. Stel dat we aan een vak ook een docent willen toevoegen, dan kunnen we de definitie van vak wijzigen. De rest van onze code hoeft echter niet te wijzigen omdat we de bestaande interface volledig behouden. We breiden hem enkel uit: "
   ]
  },
  {
   "cell_type": "code",
   "execution_count": 15,
   "metadata": {},
   "outputs": [
    {
     "name": "stdout",
     "output_type": "stream",
     "text": [
      "Punten van J. Vermeulen (20201234)\n",
      "Inleiding Programmeren \t 11\n",
      "Gegevensabstractie en -structuren \t 13\n"
     ]
    }
   ],
   "source": [
    "class vak:\n",
    "    def __init__(self,code,naam):\n",
    "        self.code=code\n",
    "        self.naam=naam\n",
    "        self.docent=\"\"\n",
    "\n",
    "    def getCode(self):\n",
    "        return self.code\n",
    "        \n",
    "    def getVakNaam(self):\n",
    "        return self.naam\n",
    "    \n",
    "    def addDocent(self,d):\n",
    "        self.docent=d\n",
    "        \n",
    "    def getDocent(self):\n",
    "        return self.docent\n",
    "    \n",
    "    \n",
    "######  Onder deze regel wijzigde niets  #################\n",
    "\n",
    "class student:\n",
    "    def __init__(self,ID,vnaam,anaam,straat,gemeente):\n",
    "        self.ID=ID\n",
    "        self.vnaam=vnaam\n",
    "        self.anaam=anaam\n",
    "        self.straat=straat\n",
    "        self.gemeente=gemeente\n",
    "        self.vakken=[]\n",
    "        self.punten={}  # lege dictionary die vakcodes koppelt aan punten\n",
    "\n",
    "    def getID(self):\n",
    "        return self.ID\n",
    "\n",
    "    def getVNaam(self):\n",
    "        return self.vnaam\n",
    "\n",
    "    def getANaam(self):\n",
    "        return self.anaam\n",
    "\n",
    "    def getVakken(self):\n",
    "        return self.vakken\n",
    "\n",
    "    def addVak(self,vak):\n",
    "        self.vakken.append(vak)\n",
    "    \n",
    "    def addGrade(self,v,g):\n",
    "        self.punten[v.getCode()]=g\n",
    "    \n",
    "    def getGrade(self,v):\n",
    "        return self.punten.get(v.getCode(),\"-\")\n",
    "    \n",
    "    def printPuntenLijst(self):\n",
    "        print(\"Punten van \"+self.getVNaam()[0]+\". \"+self.getANaam()+\" (\"+str(self.getID())+\")\")\n",
    "        for v in self.getVakken():\n",
    "            print(v.getVakNaam(),\"\\t\",self.getGrade(v))\n",
    "\n",
    "IP=vak(\"IP\",\"Inleiding Programmeren\")\n",
    "GAS=vak(\"GAS\",\"Gegevensabstractie en -structuren\")\n",
    "CSA=vak(\"CSA\",\"Computer Systemen en Architectuur\")\n",
    "\n",
    "student1=student(20201234,\"Joske\",\"Vermeulen\",\"Tramezantlei 122\", \"Schoten\")\n",
    "student1.addVak(IP)\n",
    "student1.addVak(GAS)\n",
    "student1.addGrade(IP,11)\n",
    "student1.addGrade(GAS,13)\n",
    "\n",
    "student2=student(20201235,\"Sander\",\"Slisse\",\"Autolei 14\", \"Mortsel\")\n",
    "student2.addVak(IP)\n",
    "student2.addVak(CSA)\n",
    "student2.addGrade(IP,15)\n",
    "student2.addGrade(CSA,13)\n",
    "\n",
    "student1.printPuntenLijst()"
   ]
  }
 ],
 "metadata": {
  "kernelspec": {
   "display_name": "Python 3",
   "language": "python",
   "name": "python3"
  },
  "language_info": {
   "codemirror_mode": {
    "name": "ipython",
    "version": 3
   },
   "file_extension": ".py",
   "mimetype": "text/x-python",
   "name": "python",
   "nbconvert_exporter": "python",
   "pygments_lexer": "ipython3",
   "version": "3.8.3"
  }
 },
 "nbformat": 4,
 "nbformat_minor": 4
}
