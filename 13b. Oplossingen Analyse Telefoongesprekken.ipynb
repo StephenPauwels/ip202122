{
 "cells": [
  {
   "cell_type": "markdown",
   "metadata": {},
   "source": [
    "# Oplossingen Analyse Telefoongesprekken\n",
    "\n",
    "Deze notebook bevat de oplossingen van de vragen in de notebook \"Extra oefening samengestelde datatypes: analyse telefoongesprekken\". Lees eerst die notebook en probeer zelf de vragen op te lossen voordat je hier verder leest.\n",
    "\n",
    "Het bestand \"call.txt\" bevat een lijst van paren van namen. Dit zijn beller en opgebelde in een telefoongesprek. Voer volgende lijnen code uit om het bestand in te lezen:"
   ]
  },
  {
   "cell_type": "code",
   "execution_count": 1,
   "metadata": {},
   "outputs": [],
   "source": [
    "def leesCallsIn():\n",
    "    f=open(\"calls.txt\",\"r\")\n",
    "    pairs=[]\n",
    "    for line in f:\n",
    "        if len(line)==0:\n",
    "            continue\n",
    "        if line[-1]=='\\n':\n",
    "            line=line[:-1]\n",
    "\n",
    "        pair=line.split()\n",
    "        tuple=(pair[0],pair[1])\n",
    "        pairs.append(tuple)\n",
    "    f.close()\n",
    "    return pairs\n",
    "\n",
    "pairs=leesCallsIn()"
   ]
  },
  {
   "cell_type": "markdown",
   "metadata": {},
   "source": [
    "Dit was het startpunt van de opgaves. Verwijder de commentaar en voer volgende lijn uit om je te beperken tot de eerste 8 gesprekken; dit was zo voorzien in de opgaves om debugging te vereenvoudigen."
   ]
  },
  {
   "cell_type": "code",
   "execution_count": 2,
   "metadata": {},
   "outputs": [],
   "source": [
    "#pairs=pairs[:8]  # Voer deze lijn uit om het aantal gesprekken te beperken tot de eerste 8. "
   ]
  },
  {
   "cell_type": "markdown",
   "metadata": {},
   "source": [
    "Hieronder volgen de correcte antwoorden. Mogelijk bereik je hetzelfde antwoord op een andere manier. In het geval je twijfelt aan de correctheid van jouw stukje code, of je de fout in jouw stukje code niet begrijpt, contacteer dan de docent of een van de assistenten van het vak."
   ]
  },
  {
   "cell_type": "markdown",
   "metadata": {},
   "source": [
    "1. Hoeveel personen zijn er in totaal? "
   ]
  },
  {
   "cell_type": "code",
   "execution_count": 3,
   "metadata": {},
   "outputs": [
    {
     "name": "stdout",
     "output_type": "stream",
     "text": [
      "67\n"
     ]
    }
   ],
   "source": [
    "personen=set()   # we gebruiken een set om duplicaten automatisch te vermijden\n",
    "for tupel in pairs:\n",
    "    beller=tupel[0]\n",
    "    opgebelde=tupel[1]\n",
    "    personen.add(beller)\n",
    "    personen.add(opgebelde)\n",
    "    \n",
    "print(len(personen))\n",
    "#print(\"De personen zijn:\",personen)"
   ]
  },
  {
   "cell_type": "markdown",
   "metadata": {},
   "source": [
    "Je kan ook rechtstreeks tijdens de *for*-loop het tupel \"uitpakken\":"
   ]
  },
  {
   "cell_type": "code",
   "execution_count": 4,
   "metadata": {},
   "outputs": [
    {
     "name": "stdout",
     "output_type": "stream",
     "text": [
      "67\n"
     ]
    }
   ],
   "source": [
    "personen=set()\n",
    "for (beller,opgebelde) in pairs:\n",
    "    personen.add(beller)\n",
    "    personen.add(opgebelde)\n",
    "    \n",
    "print(len(personen))\n",
    "#print(\"De personen zijn:\",personen)"
   ]
  },
  {
   "cell_type": "markdown",
   "metadata": {},
   "source": [
    "2. Wat is het totale aantal gesprekken en wat is het aantal *unieke* gesprekken. Bij unieke gesprekken gaan we twee gesprekken met dezelfde beller en opgebelde slechts 1 maal tellen. Een gesprek van *a* naar *b* is echter wel een ander gesprek dan een gesprek van *b* naar *a*. "
   ]
  },
  {
   "cell_type": "code",
   "execution_count": 5,
   "metadata": {},
   "outputs": [
    {
     "name": "stdout",
     "output_type": "stream",
     "text": [
      "Aantal gesprekken: 10008\n",
      "Aantal unieke gesprekken: 3983\n"
     ]
    }
   ],
   "source": [
    "print(\"Aantal gesprekken:\",len(pairs))\n",
    "uniekeGesprekken=set(pairs)\n",
    "print(\"Aantal unieke gesprekken:\",len(uniekeGesprekken))"
   ]
  },
  {
   "cell_type": "markdown",
   "metadata": {},
   "source": [
    "3. Welke personen waren bij het grootste aantal gesprekken betrokken (als beller of als opgebelde) en bij hoeveel gesprekken is dat ? "
   ]
  },
  {
   "cell_type": "code",
   "execution_count": 6,
   "metadata": {},
   "outputs": [
    {
     "name": "stdout",
     "output_type": "stream",
     "text": [
      "Maximum aantal gesprekken is 333 en werd bereikt door {'Stephen'}\n"
     ]
    }
   ],
   "source": [
    "aantalGesprekkenVan={}\n",
    "for beller,opgebelde in pairs:\n",
    "    if not beller in aantalGesprekkenVan:  # key bestaat nog niet\n",
    "        aantalGesprekkenVan[beller]=0         # maak hem aan en associeer met 0\n",
    "    if not opgebelde in aantalGesprekkenVan:  # key bestaat nog niet\n",
    "        aantalGesprekkenVan[opgebelde]=0         # maak hem aan en associeer met 0\n",
    "    aantalGesprekkenVan[beller]+=1     # verhoog met 1 voor beller ...\n",
    "    aantalGesprekkenVan[opgebelde]+=1  # ... idem voor opgebelde\n",
    "\n",
    "# We hebben van iedereen nu het aantal keer dat die in een gesprek betrokken was\n",
    "# Nu moeten we nog het maximum zoeken:\n",
    "maximumTotNu=0\n",
    "personenMetMaximum=set()\n",
    "for persoon in aantalGesprekkenVan:\n",
    "    if aantalGesprekkenVan[persoon]==maximumTotNu:\n",
    "        personenMetMaximum.add(persoon)\n",
    "    elif aantalGesprekkenVan[persoon]>maximumTotNu:\n",
    "        maximumTotNu=aantalGesprekkenVan[persoon]\n",
    "        personenMetMaximum = {persoon}\n",
    "\n",
    "print(\"Maximum aantal gesprekken is\",maximumTotNu,\"en werd bereikt door\",personenMetMaximum)"
   ]
  },
  {
   "cell_type": "markdown",
   "metadata": {},
   "source": [
    "Merk op dat we een dictionary vaak gebruiken om frequenties te tellen. Daarbij is de volgende constructie heel populair:\n",
    "1. maak een lege dictionary `d`\n",
    "2. een nieuw element `e` moet geteld worden\n",
    "3. is `e` al een key in `d`?\n",
    " - Indien neen: voeg de key toe aan `d`, met geassocieerde waarde `0`: `d[e]=0`\n",
    "4. verhoog de waarde `d[e]` met 1: `d[e]=d[e]+1`\n",
    "\n",
    "De test op lijn 3 is noodzakelijk omdat anders voor een nieuw element `e`, regel 4 niet kan uitgevoerd worden omdat `d[e]+1` moet berekend worden en de key `e` niet gekend is. We krijgen dan een keyerror:"
   ]
  },
  {
   "cell_type": "code",
   "execution_count": 75,
   "metadata": {},
   "outputs": [
    {
     "ename": "KeyError",
     "evalue": "'a'",
     "output_type": "error",
     "traceback": [
      "\u001b[1;31m---------------------------------------------------------------------------\u001b[0m",
      "\u001b[1;31mKeyError\u001b[0m                                  Traceback (most recent call last)",
      "\u001b[1;32m<ipython-input-75-b73b205abf19>\u001b[0m in \u001b[0;36m<module>\u001b[1;34m\u001b[0m\n\u001b[0;32m      1\u001b[0m \u001b[0md\u001b[0m\u001b[1;33m=\u001b[0m\u001b[1;33m{\u001b[0m\u001b[1;33m}\u001b[0m \u001b[1;31m# lege dictionary\u001b[0m\u001b[1;33m\u001b[0m\u001b[1;33m\u001b[0m\u001b[0m\n\u001b[1;32m----> 2\u001b[1;33m \u001b[0md\u001b[0m\u001b[1;33m[\u001b[0m\u001b[1;34m'a'\u001b[0m\u001b[1;33m]\u001b[0m\u001b[1;33m=\u001b[0m\u001b[0md\u001b[0m\u001b[1;33m[\u001b[0m\u001b[1;34m'a'\u001b[0m\u001b[1;33m]\u001b[0m\u001b[1;33m+\u001b[0m\u001b[1;36m1\u001b[0m\u001b[1;33m\u001b[0m\u001b[1;33m\u001b[0m\u001b[0m\n\u001b[0m",
      "\u001b[1;31mKeyError\u001b[0m: 'a'"
     ]
    }
   ],
   "source": [
    "d={} # lege dictionary\n",
    "d['a']=d['a']+1"
   ]
  },
  {
   "cell_type": "markdown",
   "metadata": {},
   "source": [
    "Daarom maken we gebruik van volgend stukje code:"
   ]
  },
  {
   "cell_type": "code",
   "execution_count": 76,
   "metadata": {},
   "outputs": [],
   "source": [
    "d={} # lege dictionary\n",
    "if not 'a' in d:\n",
    "        d['a']=0\n",
    "d['a']=d['a']+1"
   ]
  },
  {
   "cell_type": "markdown",
   "metadata": {},
   "source": [
    "Omdat deze constructie zodanig veel voorkomt werd aan dictionaries de method `get(key,default)` teogevoegd die de waarde geassoceerd met `key` teruggeeft, behalve als die key niet bestaat; dan geeft die `default` terug. Bovenstaand stukje code kan dan herschreven worden als:"
   ]
  },
  {
   "cell_type": "code",
   "execution_count": 77,
   "metadata": {},
   "outputs": [],
   "source": [
    "d={} # lege dictionary\n",
    "d['a']=d.get('a',0)+1"
   ]
  },
  {
   "cell_type": "markdown",
   "metadata": {},
   "source": [
    "De eerste 8 lijnen van de code voor de oplossing van deze vraag kan dus herschreven worden als volgt:"
   ]
  },
  {
   "cell_type": "code",
   "execution_count": 78,
   "metadata": {},
   "outputs": [],
   "source": [
    "aantalGesprekkenVan={}\n",
    "for beller,opgebelde in pairs:\n",
    "    #if not beller in aantalGesprekkenVan:  # key bestaat nog niet\n",
    "    #    aantalGesprekkenVan[beller]=0         # maak hem aan en associeer met 0\n",
    "    #if not opgebelde in aantalGesprekkenVan:  # key bestaat nog niet\n",
    "    #    aantalGesprekkenVan[opgebelde]=0         # maak hem aan en associeer met 0\n",
    "    #aantalGesprekkenVan[beller]+=1     # verhoog met 1 voor beller ...\n",
    "    #aantalGesprekkenVan[opgebelde]+=1  # ... idem voor opgebelde\n",
    "    aantalGesprekkenVan[beller]=aantalGesprekkenVan.get(beller,0)+1\n",
    "    aantalGesprekkenVan[opgebelde]=aantalGesprekkenVan.get(opgebelde,0)+1"
   ]
  },
  {
   "cell_type": "markdown",
   "metadata": {},
   "source": [
    "4. Welke persoon werden het minste opgebeld ? Hoeveel keer was dat ?  "
   ]
  },
  {
   "cell_type": "markdown",
   "metadata": {},
   "source": [
    "Zorg ervoor dat oplossing voor vraag 1 werd uitgevoerd, want we hebben een set met alle personen nodig! Die werd in cel met de oplossing van vraag 1 berekend en in de variabele personen bewaard."
   ]
  },
  {
   "cell_type": "code",
   "execution_count": 80,
   "metadata": {},
   "outputs": [
    {
     "name": "stdout",
     "output_type": "stream",
     "text": [
      "Minst aantal keer gebeld is 114 voor personen {'Jens'}\n"
     ]
    }
   ],
   "source": [
    "# eerst bekijken we hoeveel maal iedereen opgebeld werd\n",
    "# omdat dit 0 kan zijn (!!!) maken we eerst al voor elke persoon een key aan in de dictionary\n",
    "# 0 als aantal maal opgebeld.\n",
    "aantalOpgebeld={}\n",
    "for persoon in personen:\n",
    "    aantalOpgebeld[persoon]=0\n",
    "    \n",
    "# nu gaan we over alle gesprekken en verhogen de teller van de opgebelde\n",
    "for beller,opgebelde in pairs:\n",
    "    aantalOpgebeld[opgebelde]+=1  # we hebben de constructie met get hier niet nodig want de key bestaat zeker!\n",
    "\n",
    "# we hebben nu per persoon hoe vaak die opgebeld werd. Nu moeten we berekenen wie het minste werd opgebeld\n",
    "minimumTotNu=len(pairs)  # zorg ervoor dat dit groot genoeg is!\n",
    "personenMetMinimum=set()\n",
    "for persoon in aantalOpgebeld:\n",
    "    if aantalOpgebeld[persoon]==minimumTotNu:\n",
    "        personenMetMinimum.add(persoon)\n",
    "    elif aantalOpgebeld[persoon]<minimumTotNu:\n",
    "        personenMetMinimum={persoon}\n",
    "        minimumTotNu=aantalOpgebeld[persoon]\n",
    "        \n",
    "print(\"Minst aantal keer gebeld is\",minimumTotNu,\"voor personen\",personenMetMinimum)"
   ]
  },
  {
   "cell_type": "markdown",
   "metadata": {},
   "source": [
    "5. Hoeveel maal wordt iemand gemiddeld opgebeld ? "
   ]
  },
  {
   "cell_type": "markdown",
   "metadata": {},
   "source": [
    "Zorg dat de code voor vraag 4 werd uitgevoerd, want we hebben de dictionary `aantalOpgebeld` nodig."
   ]
  },
  {
   "cell_type": "code",
   "execution_count": 81,
   "metadata": {},
   "outputs": [
    {
     "name": "stdout",
     "output_type": "stream",
     "text": [
      "Gemiddeld aantal maal opgebeld is: 10008 / 67 ( 149.37313432835822 )\n"
     ]
    }
   ],
   "source": [
    "som=0\n",
    "for persoon in aantalOpgebeld:\n",
    "    som+=aantalOpgebeld[persoon]\n",
    "print(\"Gemiddeld aantal maal opgebeld is:\",som,\"/\",len(personen),\"(\",som/len(personen),\")\")"
   ]
  },
  {
   "cell_type": "markdown",
   "metadata": {},
   "source": [
    "6. Welke personen hadden contact met het grootste aantal andere mensen (als *a*, *b* opbelt, heeft *a* contact gehad met *b* en omgekeerd. Het maakt bij deze  vraag niet uit hoe vaak *a*, *b* opbelde). Hoeveel contactpersonen hebben deze mensen? "
   ]
  },
  {
   "cell_type": "code",
   "execution_count": 82,
   "metadata": {},
   "outputs": [
    {
     "name": "stdout",
     "output_type": "stream",
     "text": [
      "Maximum aantal contactpersonen is 66 en dit wordt bereikt door {'Saartje', 'Daniel', 'Alexander', 'Manjock', 'Zlatko', 'Arno', 'Felix', 'Recep', 'Jeff', 'Omar', 'Tom', 'Edmond', 'Niels', 'Sander', 'Eliza', 'Erhan', 'Tycho', 'Giorgi', 'Stephen', 'Lukas', 'Noah', 'Ferit', 'Mohamed', 'Mano', 'Rafik', 'Khalil', 'Jord', 'Isabelle', 'Arthur', 'Joshua', 'Lars', 'Aymane', 'Jasper', 'Bas'}\n"
     ]
    }
   ],
   "source": [
    "contactpersonenVan={}\n",
    "for beller,opgebelde in pairs:\n",
    "    if not beller in contactpersonenVan:   # als de key beller nog net bestaat\n",
    "        contactpersonenVan[beller]=set()   # voeg hem dan toe en associeer met een lege verzameling\n",
    "    if not opgebelde in contactpersonenVan:   # als de key beller nog net bestaat\n",
    "        contactpersonenVan[opgebelde]=set()   # voeg hem dan toe en associeer met een lege verzameling\n",
    "    contactpersonenVan[beller].add(opgebelde)  # opgebelde is contactpersoon van beller\n",
    "    contactpersonenVan[opgebelde].add(beller)  # en omgekeerd\n",
    "\n",
    "# Nu hebben we per persoon de contactpersonen; nu moeten we enkel nog diegenen met het grootste aantal vinden\n",
    "maximumTotNu=0\n",
    "personenMetMaximum=set()\n",
    "for persoon in contactpersonenVan:  # itereer over alle keys\n",
    "    if len(contactpersonenVan[persoon]) == maximumTotNu:\n",
    "        personenMetMaximum.add(persoon)\n",
    "    elif len(contactpersonenVan[persoon]) > maximumTotNu:\n",
    "        maximumTotNu=len(contactpersonenVan[persoon])\n",
    "        personenMetMaximum={persoon}\n",
    "        \n",
    "print(\"Maximum aantal contactpersonen is\",maximumTotNu,\"en dit wordt bereikt door\",personenMetMaximum)"
   ]
  },
  {
   "cell_type": "markdown",
   "metadata": {},
   "source": [
    "7. Welke paren van mensen hadden het meeste contact met elkaar? Hoe vaak hadden deze personen contact ? "
   ]
  },
  {
   "cell_type": "markdown",
   "metadata": {},
   "source": [
    "Bij deze vraag moeten we paren tellen. Merk op dat de paren `(a,b)` en `(b,a)` als hetzelfde paar worden beschouwd. Het is dan ook verleidelijk om een dictionary te maken met de *set* `{a,b}` als key. Dit is echter niet mogelijk in Python, omdat sets *mutable* zijn (we zien later wat dit betekent). Daarom zullen we een van de tupels `(a,b)` en `(b,a)` kiezen en daarmee werken om het paar voor te stellen. Om dubbele tellingen te voorkomen zullen we het paar voorstellen door het tupel waarin de namen in alfabetische volgorde staan. We kunnen twee strings `s1` en `s2` vergelijken met behulp van `s1<s2`; dit is `True` als `s1` voor `s2` komt in alfabetische volgorde. "
   ]
  },
  {
   "cell_type": "code",
   "execution_count": 83,
   "metadata": {},
   "outputs": [
    {
     "name": "stdout",
     "output_type": "stream",
     "text": [
      "Maximaal aantal contacten: 15 voor paren {('Arbesa', 'Thibault')}\n"
     ]
    }
   ],
   "source": [
    "aantalContactenVan={} # lege dictionary\n",
    "for beller,opgebelde in pairs:\n",
    "    if beller<opgebelde:  # zorg ervoor dat paar de namen in alfabetische volgorde bevat\n",
    "        paar=(beller,opgebelde)\n",
    "    else:\n",
    "        paar=(opgebelde,beller)\n",
    "    aantalContactenVan[paar]=aantalContactenVan.get(paar,0)+1   # verhoog de teller van paar\n",
    "    \n",
    "# We hebben nu alle paren en het aantal keer dat ze elkaar belden. Nu moeten we het maximum berekenen\n",
    "maximumTotNu=0\n",
    "parenMetMaximum=set()\n",
    "for paar in aantalContactenVan:\n",
    "    if aantalContactenVan[paar]==maximumTotNu:\n",
    "        parenMetMaximum.add(paar)\n",
    "    elif aantalContactenVan[paar]>maximumTotNu:\n",
    "        parenMetMaximum={paar}\n",
    "        maximumTotNu=aantalContactenVan[paar]\n",
    "print(\"Maximaal aantal contacten:\",maximumTotNu,\"voor paren\",parenMetMaximum)"
   ]
  },
  {
   "cell_type": "markdown",
   "metadata": {},
   "source": [
    "8. Bij welke mensen is het verschil tussen gevoerde en ontvangen gesprekken het grootst? Hoe groot is dit verschil ? Hoe vaak werden deze personen zelf gebeld, respectievelijk belden ze zelf? "
   ]
  },
  {
   "cell_type": "code",
   "execution_count": 84,
   "metadata": {},
   "outputs": [
    {
     "name": "stdout",
     "output_type": "stream",
     "text": [
      "Het grootste verschil is 52 en werd bereikt door:\n",
      "Mohamed (zelf gebeld: 185 , opgebeld: 133 )\n"
     ]
    }
   ],
   "source": [
    "# We maken tellers voor opgebeld en zelfgebeld voor alle personen\n",
    "# we initialiseren die op 0\n",
    "opgebeld={}\n",
    "zelfgebeld={}\n",
    "for persoon in personen:\n",
    "    opgebeld[persoon]=0\n",
    "    zelfgebeld[persoon]=0\n",
    "\n",
    "# Nu gaan we over alle gesprekkken en tellen:\n",
    "for beller,opgebelde in pairs:\n",
    "    opgebeld[opgebelde]=opgebeld.get(opgebelde,0)+1\n",
    "    zelfgebeld[beller]=zelfgebeld.get(beller,0)+1\n",
    "    \n",
    "# en nu moeten we het grootste verschil zoeken\n",
    "grootsteVerschilTotNu=0\n",
    "personenMetGrootsteVerschil=set()\n",
    "for persoon in personen:\n",
    "    verschil=abs(opgebeld[persoon]-zelfgebeld[persoon])\n",
    "    if verschil==grootsteVerschilTotNu:\n",
    "        personenMetGrootsteVerschil.add(persoon)\n",
    "    elif verschil>grootsteVerschilTotNu:\n",
    "        grootsteVerschilTotNu=verschil\n",
    "        personenMetGrootsteVerschil={persoon}\n",
    "\n",
    "# rapporteren:\n",
    "print(\"Het grootste verschil is\",grootsteVerschilTotNu,\"en werd bereikt door:\")\n",
    "for persoon in personenMetGrootsteVerschil:\n",
    "    print(persoon,\"(zelf gebeld:\",zelfgebeld[persoon],\", opgebeld:\",opgebeld[persoon],\")\")\n"
   ]
  },
  {
   "cell_type": "code",
   "execution_count": null,
   "metadata": {},
   "outputs": [],
   "source": []
  }
 ],
 "metadata": {
  "kernelspec": {
   "display_name": "Python 3",
   "language": "python",
   "name": "python3"
  },
  "language_info": {
   "codemirror_mode": {
    "name": "ipython",
    "version": 3
   },
   "file_extension": ".py",
   "mimetype": "text/x-python",
   "name": "python",
   "nbconvert_exporter": "python",
   "pygments_lexer": "ipython3",
   "version": "3.8.3"
  }
 },
 "nbformat": 4,
 "nbformat_minor": 4
}
