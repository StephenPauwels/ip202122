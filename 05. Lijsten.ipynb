{
 "cells": [
  {
   "cell_type": "markdown",
   "metadata": {},
   "source": [
    "# Lijsten\n",
    "\n",
    "Tot nogtoe zagen we reeds enkele datatypes:\n",
    "- integer\n",
    "- float\n",
    "- string\n",
    "- boolean\n",
    "\n",
    "Deze datatypes hebben allen de eigenschap dat ze 1 waarde kunnen bevatten. Wat als we meerdere waarden tegelijk moeten bewaren? We kunnen dan verschillende variabelen gebruiken, maar dat is niet optimaal. Stel bijvoorbeeld dat we namen van studenten willen bewaren:"
   ]
  },
  {
   "cell_type": "code",
   "execution_count": 1,
   "metadata": {},
   "outputs": [
    {
     "name": "stdout",
     "output_type": "stream",
     "text": [
      "geef een lege naam om te stoppen\n",
      "Geef naam student 1 : stephen\n",
      "Geef naam student 2 : daphne\n",
      "Geef naam student 3 : tom\n",
      "Geef naam student 4 : \n",
      "lijst van studenten : \n",
      "stephen\n",
      "daphne\n",
      "tom\n"
     ]
    }
   ],
   "source": [
    "student1=\"\"\n",
    "student2=\"\"\n",
    "student3=\"\"\n",
    "student4=\"\"\n",
    "\n",
    "# inlezen studentennamen\n",
    "print(\"geef een lege naam om te stoppen\")\n",
    "student1=input(\"Geef naam student 1 : \")\n",
    "if student1!=\"\":\n",
    "    student2=input(\"Geef naam student 2 : \")\n",
    "    if student2!=\"\":\n",
    "        student3=input(\"Geef naam student 3 : \")  \n",
    "        if student3!=\"\":\n",
    "            student4=input(\"Geef naam student 4 : \")\n",
    "\n",
    "print(\"lijst van studenten : \")\n",
    "if (student1!=\"\"):\n",
    "    print(student1)\n",
    "    if (student2!=\"\"):\n",
    "        print(student2)\n",
    "        if (student3!=\"\"):\n",
    "            print(student3)\n",
    "            if (student4!=\"\"):\n",
    "                print(student4)"
   ]
  },
  {
   "cell_type": "markdown",
   "metadata": {},
   "source": [
    "Dit is uiteraard erg onhandig. Bovendien werkt dit enkel als we op voorhand weten *hoeveel* studenten we *maximaal* kunnen verwachten. Om dit soort situaties op te vangen hebben we een zogenaamd **container type** nodig. Een container type is een type waarin we meerdere waarden kunnen opslaan en dat kan groeien als we meer en meer elementen toevoegen. \n",
    "\n",
    "Het *list* type is een geordende lijst van willekeurige grootte waarin we alle soorten waarden kunnen opslaan zonder beperking op het aantal waardes. Een lijst aanmaken doen we als volgt: "
   ]
  },
  {
   "cell_type": "code",
   "execution_count": 2,
   "metadata": {},
   "outputs": [
    {
     "name": "stdout",
     "output_type": "stream",
     "text": [
      "['a', 1, 2, 'bcd', True, 1]\n"
     ]
    }
   ],
   "source": [
    "L=[\"a\",1,2,\"bcd\",True,1]\n",
    "print(L)"
   ]
  },
  {
   "cell_type": "markdown",
   "metadata": {},
   "source": [
    "Met deze regel maken we een lijst aan met 6 elementen. Merk op dat de elementen niet noodzakelijk van hetzelfde type moeten zijn, al zal dat in jouw programma's meestal wel het geval zijn. Ook kan een lijst meerdere keren dezelfde waarde bevatten. Bovendien is de volgorde van de elementen in een lijst van belang; de lijst *\\[1,2,3\\]* is verschillend van de lijsten *\\[3,2,1\\]* en *\\[1,1,2,3,3\\]*.\n",
    "\n",
    "## Een element toevoegen aan een lijst\n",
    "\n",
    "Het is een goed idee om de studentenlijst op te slaan als een *list*. Om dat te doen starten we van een lege lijst (*\\[\\]*) waarin we één voor één de namen van de studenten toevoegen. Een element toevoegen aan een lijst doen we via de functie *L.append(item)*, waarbij *L* de lijst is waaraan we een item willen toevoegen; de lijst van daarnet kunnen we dus ook maken als volgt:"
   ]
  },
  {
   "cell_type": "code",
   "execution_count": 3,
   "metadata": {},
   "outputs": [
    {
     "name": "stdout",
     "output_type": "stream",
     "text": [
      "['a', 1, 2, 'bcd', True, 1]\n"
     ]
    }
   ],
   "source": [
    "L=[]\n",
    "L.append(\"a\")\n",
    "L.append(1)\n",
    "L.append(2)\n",
    "L.append(\"bcd\")\n",
    "L.append(True)\n",
    "L.append(1)\n",
    "print(L)"
   ]
  },
  {
   "cell_type": "markdown",
   "metadata": {},
   "source": [
    "We kunnen de lijst van studenten dus als volgt opbouwen:"
   ]
  },
  {
   "cell_type": "code",
   "execution_count": 4,
   "metadata": {},
   "outputs": [
    {
     "name": "stdout",
     "output_type": "stream",
     "text": [
      "geef een lege naam om te stoppen\n",
      "Geef naam student : tom\n",
      "Geef naam student : toon\n",
      "Geef naam student : daphne\n",
      "Geef naam student : stephen\n",
      "Geef naam student : \n",
      "['tom', 'toon', 'daphne', 'stephen']\n"
     ]
    }
   ],
   "source": [
    "L=[]\n",
    "next=True\n",
    "print(\"geef een lege naam om te stoppen\")\n",
    "while next:\n",
    "    naam=input(\"Geef naam student : \")\n",
    "    if naam==\"\":\n",
    "        next=False\n",
    "    else:\n",
    "        L.append(naam)\n",
    "\n",
    "print(L)"
   ]
  },
  {
   "cell_type": "markdown",
   "metadata": {},
   "source": [
    "## Individuele elementen in een lijst identificeren\n",
    "\n",
    "Als we de namen één voor één willen afdrukken, elk op een nieuwe lijn, daan moeten we de elementen in de lijst kunnen overlopen. Dat kan makkelijk met de notatie *L\\[i\\]* waarbij we het *i+1*-ste element van de lijst ophalen. Bij een lijst met *5* elementen zijn de items in de lijst dus: *L\\[0\\]*, *L\\[1\\]*, *L\\[2\\]*, *L\\[3\\]*, *L\\[4\\]*. Een list afdrukken kan dus zo:"
   ]
  },
  {
   "cell_type": "code",
   "execution_count": 5,
   "metadata": {},
   "outputs": [
    {
     "name": "stdout",
     "output_type": "stream",
     "text": [
      "Op positie 0 staat 1\n",
      "Op positie 1 staat 2\n",
      "Op positie 2 staat 3\n",
      "Op positie 3 staat 4\n",
      "Op positie 4 staat 5\n"
     ]
    }
   ],
   "source": [
    "L2=[1,2,3,4,5]\n",
    "for i in range(5):\n",
    "    print(\"Op positie\",i,\"staat\",L2[i])"
   ]
  },
  {
   "cell_type": "markdown",
   "metadata": {},
   "source": [
    "De positie *i* in *L\\[i\\]* noemen we de *index* van dat element. Merk op dat *range(n)* gaat van *0* tot en met *n-1*, zijnde de geldige *indices* van elementen in *L*. Dat is niet toevallig.\n",
    "\n",
    "De lengte van een lijst *L* kunnen we opvragen met *len(L)*. Alle namen afdrukken kunnen we met volgende code:"
   ]
  },
  {
   "cell_type": "code",
   "execution_count": 6,
   "metadata": {},
   "outputs": [
    {
     "name": "stdout",
     "output_type": "stream",
     "text": [
      "tom\n",
      "toon\n",
      "daphne\n",
      "stephen\n"
     ]
    }
   ],
   "source": [
    "for i in range(len(L)):\n",
    "    print(L[i])"
   ]
  },
  {
   "cell_type": "markdown",
   "metadata": {},
   "source": [
    "Over alle elementen in een lijst *itereren* (ze één voor één aflopen) is zo een veel voorkomende operatie dat er in Python ook een directere, intuïtieve manier voor bestaat:"
   ]
  },
  {
   "cell_type": "code",
   "execution_count": 7,
   "metadata": {},
   "outputs": [
    {
     "name": "stdout",
     "output_type": "stream",
     "text": [
      "tom\n",
      "toon\n",
      "daphne\n",
      "stephen\n"
     ]
    }
   ],
   "source": [
    "for naam in L:\n",
    "    print(naam)"
   ]
  },
  {
   "cell_type": "markdown",
   "metadata": {},
   "source": [
    "Verder zijn er nog enkele handige afkortingen in Python; zo kunnen we negatieve indices gebruiken om de lijst van achteren naar voren te indexeren. Het laatste element van een lijst *L* met *n* elementen krijgen we via *L\\[-1\\]*, het voorlaatste met *L\\[-2\\]* enzovoort tot het eerste met *L\\[-n\\]*.\n",
    "\n",
    "Met volgende code maken we een lijst *K* die de elementen van lijst *L* in omgekeerde volgorde bevat:"
   ]
  },
  {
   "cell_type": "code",
   "execution_count": 8,
   "metadata": {},
   "outputs": [
    {
     "name": "stdout",
     "output_type": "stream",
     "text": [
      "[1, 2, 3, 4] [4, 3, 2, 1]\n"
     ]
    }
   ],
   "source": [
    "L=[1,2,3,4]\n",
    "K=[]\n",
    "for i in range(-1,-len(L)-1,-1):\n",
    "    # print(i,L[i])  ## Haal commentaar weg voor deze regel om stap per stap te zien wat wordt toegevoegd\n",
    "    K.append(L[i])\n",
    "    \n",
    "print(L,K)"
   ]
  },
  {
   "cell_type": "markdown",
   "metadata": {},
   "source": [
    "Let wel op dat je steeds een geldige index gebruikt, anders krijg je een foutmelding:"
   ]
  },
  {
   "cell_type": "code",
   "execution_count": 9,
   "metadata": {},
   "outputs": [
    {
     "ename": "IndexError",
     "evalue": "list index out of range",
     "output_type": "error",
     "traceback": [
      "\u001b[1;31m---------------------------------------------------------------------------\u001b[0m",
      "\u001b[1;31mIndexError\u001b[0m                                Traceback (most recent call last)",
      "\u001b[1;32m<ipython-input-9-3b4d3a268acd>\u001b[0m in \u001b[0;36m<module>\u001b[1;34m\u001b[0m\n\u001b[0;32m      1\u001b[0m \u001b[0mL\u001b[0m\u001b[1;33m=\u001b[0m\u001b[1;33m[\u001b[0m\u001b[1;36m0\u001b[0m\u001b[1;33m,\u001b[0m\u001b[1;36m1\u001b[0m\u001b[1;33m,\u001b[0m\u001b[1;36m2\u001b[0m\u001b[1;33m,\u001b[0m\u001b[1;36m3\u001b[0m\u001b[1;33m]\u001b[0m\u001b[1;33m\u001b[0m\u001b[1;33m\u001b[0m\u001b[0m\n\u001b[1;32m----> 2\u001b[1;33m \u001b[0mprint\u001b[0m\u001b[1;33m(\u001b[0m\u001b[0mL\u001b[0m\u001b[1;33m[\u001b[0m\u001b[1;36m4\u001b[0m\u001b[1;33m]\u001b[0m\u001b[1;33m)\u001b[0m  \u001b[1;31m# 4 geeft het 5-de element wat niet bestaat\u001b[0m\u001b[1;33m\u001b[0m\u001b[1;33m\u001b[0m\u001b[0m\n\u001b[0m",
      "\u001b[1;31mIndexError\u001b[0m: list index out of range"
     ]
    }
   ],
   "source": [
    "L=[0,1,2,3]\n",
    "print(L[4])  # 4 geeft het 5-de element wat niet bestaat"
   ]
  },
  {
   "cell_type": "markdown",
   "metadata": {},
   "source": [
    "## Elementen weghalen uit een lijst\n",
    "\n",
    "We kunnen ook elementen terug weghalen uit een lijst. Als we een element in het midden weghalen wordt de lege plaats gewoon uit de lijst gehaald. Er zijn twee manieren om een element te verwijderen uit een lijst *L*:\n",
    "- op basis van de index *i* met *del(L[i])*\n",
    "- op basis van het item ; *L.remove(x)* verwijdert het eerste voorkomen van *x* uit de lijst"
   ]
  },
  {
   "cell_type": "code",
   "execution_count": 10,
   "metadata": {},
   "outputs": [
    {
     "name": "stdout",
     "output_type": "stream",
     "text": [
      "[1, 2, 3, 5, 6]\n"
     ]
    }
   ],
   "source": [
    "L=[1,2,3,4,5,6]\n",
    "del(L[3])\n",
    "print(L)"
   ]
  },
  {
   "cell_type": "code",
   "execution_count": 11,
   "metadata": {},
   "outputs": [
    {
     "name": "stdout",
     "output_type": "stream",
     "text": [
      "[1, 3, 2, 4]\n"
     ]
    }
   ],
   "source": [
    "L=[1,2,3,2,4]\n",
    "L.remove(2)\n",
    "print(L)"
   ]
  },
  {
   "cell_type": "markdown",
   "metadata": {},
   "source": [
    "Zorg ervoor dat je met *remove* enkel elementen uit de lijst weghaalt die ook werkelijk in de lijst voorkomen. Met \"*x in L*\" kan je testen of een element voorkomt. Als je een element probeert weg te halen dat niet in de lijst zit, dan krijg je een foutmelding: "
   ]
  },
  {
   "cell_type": "code",
   "execution_count": 12,
   "metadata": {},
   "outputs": [
    {
     "name": "stdout",
     "output_type": "stream",
     "text": [
      "Element om weg te halen : 42\n",
      "o o ...\n"
     ]
    },
    {
     "ename": "ValueError",
     "evalue": "list.remove(x): x not in list",
     "output_type": "error",
     "traceback": [
      "\u001b[1;31m---------------------------------------------------------------------------\u001b[0m",
      "\u001b[1;31mValueError\u001b[0m                                Traceback (most recent call last)",
      "\u001b[1;32m<ipython-input-12-11e861d4679b>\u001b[0m in \u001b[0;36m<module>\u001b[1;34m\u001b[0m\n\u001b[0;32m      6\u001b[0m     \u001b[0mprint\u001b[0m\u001b[1;33m(\u001b[0m\u001b[1;34m\"o o ...\"\u001b[0m\u001b[1;33m)\u001b[0m\u001b[1;33m\u001b[0m\u001b[1;33m\u001b[0m\u001b[0m\n\u001b[0;32m      7\u001b[0m \u001b[1;33m\u001b[0m\u001b[0m\n\u001b[1;32m----> 8\u001b[1;33m \u001b[0mL\u001b[0m\u001b[1;33m.\u001b[0m\u001b[0mremove\u001b[0m\u001b[1;33m(\u001b[0m\u001b[0mx\u001b[0m\u001b[1;33m)\u001b[0m\u001b[1;33m\u001b[0m\u001b[1;33m\u001b[0m\u001b[0m\n\u001b[0m\u001b[0;32m      9\u001b[0m \u001b[0mprint\u001b[0m\u001b[1;33m(\u001b[0m\u001b[0mL\u001b[0m\u001b[1;33m)\u001b[0m\u001b[1;33m\u001b[0m\u001b[1;33m\u001b[0m\u001b[0m\n",
      "\u001b[1;31mValueError\u001b[0m: list.remove(x): x not in list"
     ]
    }
   ],
   "source": [
    "L=[1,2,3,4]\n",
    "x=int(input(\"Element om weg te halen : \"))\n",
    "if x in L:\n",
    "    print(\"OK!\")\n",
    "else:\n",
    "    print(\"o o ...\")\n",
    "    \n",
    "L.remove(x)\n",
    "print(L)"
   ]
  },
  {
   "cell_type": "markdown",
   "metadata": {},
   "source": [
    "## Lijsten samenvoegen\n",
    "\n",
    "Met behulp van de operatie *+* kunnen we twee lijsten samenvoegen. Dit noemen we *concatenatie* van twee lijsten. Concatenatie van twee lijsten creëert een nieuwe lijst die bestaat uit de samenvoeging van beide lijsten:"
   ]
  },
  {
   "cell_type": "code",
   "execution_count": 13,
   "metadata": {},
   "outputs": [
    {
     "name": "stdout",
     "output_type": "stream",
     "text": [
      "[1, 2, 3, 4, 5, 6]\n"
     ]
    }
   ],
   "source": [
    "K=[1,2,3]\n",
    "L=[4,5,6]\n",
    "KL=K+L\n",
    "print(KL)"
   ]
  },
  {
   "cell_type": "markdown",
   "metadata": {},
   "source": [
    "Merk op dat we op deze manier ook een nieuw element kunnen toevoegen aan een lijst, door de lijst te concateneren met de lijst die bestaat uit het ene element dat we willen toevoegen."
   ]
  },
  {
   "cell_type": "code",
   "execution_count": 14,
   "metadata": {},
   "outputs": [
    {
     "name": "stdout",
     "output_type": "stream",
     "text": [
      "[1, 2, 3, 4, 5]\n"
     ]
    }
   ],
   "source": [
    "L=[1,2,3]\n",
    "L.append(4)\n",
    "L=L+[5]\n",
    "print(L)"
   ]
  },
  {
   "cell_type": "markdown",
   "metadata": {},
   "source": [
    "De *append* functie is echter efficiënter dan concatenatie, omdat dan de lijst wordt uitgebreid in plaats van een volledig nieuwe lijst te maken. Later zullen we dieper ingaan op het verschil tussen het gebruik van append en concatenatie, wanneer we over *mutable* en *immutable* data types zullen spreken."
   ]
  },
  {
   "cell_type": "markdown",
   "metadata": {},
   "source": [
    "## Deellijsten nemen\n",
    "\n",
    "Met de vierkante haken kunnen we niet enkel 1 specifiek element uit de lijst selecteren, maar kunnen we ook een deellijst nemen. *L\\[i:j\\]* maakt een nieuwe lijst aan die bestaat uit de elementen vanaf index *i* tot index *j*; het element op index *j* zelf is niet inbegrepen. *i* en *j* kunnen weggelaten worden uit *L\\[i:j\\]*, en dan betekent dat respectievelijk *i=0* en *j=len(L)*."
   ]
  },
  {
   "cell_type": "code",
   "execution_count": 15,
   "metadata": {},
   "outputs": [
    {
     "name": "stdout",
     "output_type": "stream",
     "text": [
      "[2, 3, 4] [0, 1, 2] [4, 5, 6, 7, 8]\n"
     ]
    }
   ],
   "source": [
    "L=[0,1,2,3,4,5,6,7,8]\n",
    "K1=L[2:5]\n",
    "K2=L[:3]\n",
    "K3=L[4:]\n",
    "print(K1,K2,K3)"
   ]
  },
  {
   "cell_type": "markdown",
   "metadata": {},
   "source": [
    "We zouden deellijsten als volgt kunnen gebruiken om het element op positie *i* uit de lijst te verwijderen:"
   ]
  },
  {
   "cell_type": "code",
   "execution_count": 16,
   "metadata": {},
   "outputs": [
    {
     "name": "stdout",
     "output_type": "stream",
     "text": [
      "[0, 1, 3, 4, 5, 6]\n"
     ]
    }
   ],
   "source": [
    "L=[0,1,2,3,4,5,6]\n",
    "i=2\n",
    "\n",
    "# Verwijder element op index i\n",
    "L=L[:i] + L[i+1:]\n",
    "\n",
    "print(L)"
   ]
  },
  {
   "cell_type": "markdown",
   "metadata": {},
   "source": [
    "## Lijst sorteren\n",
    "\n",
    "Een handige operatie is *L.sort()* dat een lijst *L* sorteert:"
   ]
  },
  {
   "cell_type": "code",
   "execution_count": 17,
   "metadata": {},
   "outputs": [
    {
     "name": "stdout",
     "output_type": "stream",
     "text": [
      "[1, 2, 3, 4, 6, 8, 9]\n"
     ]
    }
   ],
   "source": [
    "L=[6,4,8,1,9,2,3]\n",
    "L.sort()\n",
    "print(L)"
   ]
  },
  {
   "cell_type": "markdown",
   "metadata": {},
   "source": [
    "## Voorbeelden\n",
    "\n",
    "We bekijken nu een aantal voorbeelden met lijsten.\n",
    "In het eerste voorbeeld lezen we een lijst getallen in. Afsluiten doen we door een lege invoer te geven:"
   ]
  },
  {
   "cell_type": "code",
   "execution_count": 18,
   "metadata": {},
   "outputs": [
    {
     "name": "stdout",
     "output_type": "stream",
     "text": [
      "Volgend getal ? 1\n",
      "Volgend getal ? 3.141592\n",
      "Volgend getal ? 42\n",
      "Volgend getal ? \n",
      "[1.0, 3.141592, 42.0]\n"
     ]
    }
   ],
   "source": [
    "getallen=[]\n",
    "next=True\n",
    "\n",
    "while next:\n",
    "    s=input(\"Volgend getal ? \")\n",
    "    if s==\"\":\n",
    "        next=False\n",
    "    else:\n",
    "        getallen.append(float(s))  # s is een string; met float(s) converteren we dat naar een komma-getal\n",
    "\n",
    "print(getallen)"
   ]
  },
  {
   "cell_type": "markdown",
   "metadata": {},
   "source": [
    "We bereken het gemiddelde van een lijst getallen $x_1,x_2, \\ldots, x_n$ met de formule $$\\overline{x}=\\frac{\\sum_{i=1}^n x_i}{n}$$"
   ]
  },
  {
   "cell_type": "code",
   "execution_count": 19,
   "metadata": {
    "scrolled": true
   },
   "outputs": [
    {
     "name": "stdout",
     "output_type": "stream",
     "text": [
      "Het gemiddelde is:  15.380530666666667\n"
     ]
    }
   ],
   "source": [
    "som=0.0\n",
    "for x in getallen:\n",
    "    som=som+x\n",
    "gemiddelde=som/len(getallen)\n",
    "    \n",
    "print(\"Het gemiddelde is: \",gemiddelde)"
   ]
  },
  {
   "cell_type": "markdown",
   "metadata": {},
   "source": [
    "Vervolgens kunnen we de standaardafwijking berekenen met volgende formule: $$\\sigma=\\sqrt{\\frac{\\sum_{i=1}^n(x-x_i)^2}{n-1}}$$"
   ]
  },
  {
   "cell_type": "code",
   "execution_count": 20,
   "metadata": {},
   "outputs": [
    {
     "name": "stdout",
     "output_type": "stream",
     "text": [
      "Standaardafwijking is: 23.077992000276396\n"
     ]
    }
   ],
   "source": [
    "import math\n",
    "\n",
    "ssom=0.0\n",
    "for x in getallen:\n",
    "    ssom=ssom+(x-gemiddelde)**2  # ** is machtsverheffing\n",
    "sigma=math.sqrt(ssom/(len(getallen)-1))\n",
    "    \n",
    "print(\"Standaardafwijking is:\", sigma )"
   ]
  },
  {
   "cell_type": "markdown",
   "metadata": {},
   "source": [
    "## Strings zijn constante lijsten\n",
    "\n",
    "Merk op dat we strings als constante lijsten kunnen beschouwen; alle operaties die op lijsten uitgevoerd kunnen worden zonder de lijst te veranderen, werken ook op strings:\n",
    "- i-de element van een string:"
   ]
  },
  {
   "cell_type": "code",
   "execution_count": 21,
   "metadata": {},
   "outputs": [
    {
     "name": "stdout",
     "output_type": "stream",
     "text": [
      "c\n"
     ]
    }
   ],
   "source": [
    "s=\"abcd\"\n",
    "print(s[2])"
   ]
  },
  {
   "cell_type": "markdown",
   "metadata": {},
   "source": [
    "- twee strings \"concateneren\":"
   ]
  },
  {
   "cell_type": "code",
   "execution_count": 22,
   "metadata": {},
   "outputs": [
    {
     "name": "stdout",
     "output_type": "stream",
     "text": [
      "abba\n"
     ]
    }
   ],
   "source": [
    "s=\"ab\"+\"ba\"\n",
    "print(s)"
   ]
  },
  {
   "cell_type": "markdown",
   "metadata": {},
   "source": [
    "- Testen of een karakter voorkomt in een string:"
   ]
  },
  {
   "cell_type": "code",
   "execution_count": 23,
   "metadata": {},
   "outputs": [
    {
     "name": "stdout",
     "output_type": "stream",
     "text": [
      "False\n"
     ]
    }
   ],
   "source": [
    "print(\"a\" in \"bdfdfs\")"
   ]
  },
  {
   "cell_type": "markdown",
   "metadata": {},
   "source": [
    "- deelstring nemen:"
   ]
  },
  {
   "cell_type": "code",
   "execution_count": 24,
   "metadata": {},
   "outputs": [
    {
     "name": "stdout",
     "output_type": "stream",
     "text": [
      "ef\n"
     ]
    }
   ],
   "source": [
    "s=\"abcdefg\"\n",
    "print(s[4:-1])"
   ]
  },
  {
   "cell_type": "markdown",
   "metadata": {},
   "source": [
    "We kunnen strings echter niet aanpassen:"
   ]
  },
  {
   "cell_type": "code",
   "execution_count": 25,
   "metadata": {},
   "outputs": [],
   "source": [
    "s=\"bdcsdc\"\n",
    "# s.sort()  # werkt niet\n",
    "# s[2]=\"f\"  # werkt niet\n",
    "# s.append(\"c\") # werkt niet"
   ]
  },
  {
   "cell_type": "markdown",
   "metadata": {},
   "source": [
    "Als we bijvoorbeeld het i-de karakter van een string willen wissen, dan moeten we een nieuwe string aanmaken zonder dat karakter. Die nieuwe string kunnen we dan opnieuw toekennen aan dezelfde variabele:"
   ]
  },
  {
   "cell_type": "code",
   "execution_count": 26,
   "metadata": {},
   "outputs": [
    {
     "name": "stdout",
     "output_type": "stream",
     "text": [
      "abd\n"
     ]
    }
   ],
   "source": [
    "s=\"abcd\"\n",
    "\n",
    "# verwijder element op index 2 ('c')\n",
    "s=s[:2]+s[3:]\n",
    "print(s)"
   ]
  },
  {
   "cell_type": "markdown",
   "metadata": {},
   "source": [
    "Een handige functie die we in een aantal voorbeelden gaan gebruiken, is de functie *split* die we op een string kunnen toepassen. Als *s* een string is, dan is *s.split()* de string *s* gesplitst op witruimte (spaties, tabs, ...). Het resultaat wordt gegeven als een lijst van strings die samen *s* vormen:"
   ]
  },
  {
   "cell_type": "code",
   "execution_count": 27,
   "metadata": {},
   "outputs": [
    {
     "name": "stdout",
     "output_type": "stream",
     "text": [
      "['Wat', 'is', 'de', 'zin', 'van', 'deze', 'zin?', 'Het', 'is', 'onzin.']\n",
      "3de woord:  de\n"
     ]
    }
   ],
   "source": [
    "s=\"Wat is de zin van deze zin? Het is onzin.\"\n",
    "L=s.split()\n",
    "print(L)\n",
    "print(\"3de woord: \",L[2])"
   ]
  },
  {
   "cell_type": "markdown",
   "metadata": {},
   "source": [
    "Als je een ander karakter als splitsing wil gebruiken, kan je dat als argument meegeven:"
   ]
  },
  {
   "cell_type": "code",
   "execution_count": 28,
   "metadata": {},
   "outputs": [
    {
     "name": "stdout",
     "output_type": "stream",
     "text": [
      "['CV', 'screening', '20/2/20', 'final']\n"
     ]
    }
   ],
   "source": [
    "s=\"CV-screening-20/2/20-final\"\n",
    "print(s.split(\"-\"))"
   ]
  },
  {
   "cell_type": "markdown",
   "metadata": {},
   "source": [
    "Wil je een hoop strings terug aan elkaar plakken, dan kan dat met *separator.join(lijst)*:"
   ]
  },
  {
   "cell_type": "code",
   "execution_count": 29,
   "metadata": {},
   "outputs": [
    {
     "name": "stdout",
     "output_type": "stream",
     "text": [
      "CV screening 20/2/20 final\n"
     ]
    }
   ],
   "source": [
    "s=\"CV-screening-20/2/20-final\"\n",
    "L=s.split(\"-\")\n",
    "s2=\" \".join(L)\n",
    "print(s2)     "
   ]
  },
  {
   "cell_type": "markdown",
   "metadata": {},
   "source": [
    "## Speciale \"lijsten\"\n",
    "\n",
    "Merk op dat we in de *for*-loop soms gebruik maken van de functie *range*. Je kan aan deze functie beschouwen alsof ze een lijst teruggeeft (in werkelijkheid maakt ze niet de hele lijst aan in het geheugen, maar is het een object dat een voor een de elementen geeft, maar dat is momenteel niet belangrijk).\n",
    "\n",
    "Inderdaad; volgende stukjes code doen exact hetzelfde:"
   ]
  },
  {
   "cell_type": "code",
   "execution_count": 30,
   "metadata": {},
   "outputs": [
    {
     "name": "stdout",
     "output_type": "stream",
     "text": [
      "0 1 2 3 4 \n",
      "0\n",
      "1\n",
      "2\n",
      "3\n",
      "4\n",
      "range(5)= [0, 1, 2, 3, 4]\n"
     ]
    }
   ],
   "source": [
    "for i in range(5):\n",
    "    print(i, end=\" \")  # end = \" \" zorgt dat na de output een spatie komt i.p.v. een newline\n",
    "print()\n",
    "for i in [0,1,2,3,4]:\n",
    "    print(i)\n",
    "    \n",
    "print(\"range(5)=\",list(range(5)))  # je moet list toepassen om range ineens alles te laten berekenen"
   ]
  },
  {
   "cell_type": "markdown",
   "metadata": {},
   "source": [
    "*range* heeft nog wat extra parameters en kan in een van de volgende vormen gebruikt worden:\n",
    "- *range(n)* betekent *\\[0,1,...,n-1\\]*\n",
    "- *range(s,e)* betekent *\\[s,s+1,s+2,...,e-1\\]*\n",
    "- *range(s,e,d)* betekent *\\[s,s+d,s+2*d,...,s+k*d\\]* waarbij *s+k\\*d<e<=s+(k+1)\\*d*"
   ]
  },
  {
   "cell_type": "markdown",
   "metadata": {},
   "source": [
    "## Oefeningen\n",
    "\n",
    "**Oefening 1:** \n",
    "\n",
    "Schrijf een functie die van een lijst de cumulatieve som berekent. Dat is, gegeven een lijst *L*, bereken een lijst *C* die even lang is als *L* en zodat *C\\[i\\]=L\\[0\\]+L\\[1\\]+...+L\\[i\\]*. Als *L=\\[2,2,5\\]*, dan moet *C* gelijk zijn aan: *\\[2,4,9\\]*."
   ]
  },
  {
   "cell_type": "code",
   "execution_count": 31,
   "metadata": {},
   "outputs": [],
   "source": [
    "# Jouw antwoord hier"
   ]
  },
  {
   "cell_type": "markdown",
   "metadata": {},
   "source": [
    "**Oefening 2:**\n",
    "    \n",
    "Gegeven een string *s*, geef de omgekeerde string. Dus als *s='bcd'*, dan bereken je *'dcb'*"
   ]
  },
  {
   "cell_type": "code",
   "execution_count": 32,
   "metadata": {},
   "outputs": [],
   "source": [
    "# Jouw antwoord hier"
   ]
  },
  {
   "cell_type": "markdown",
   "metadata": {},
   "source": [
    "**Oefening 3:**\n",
    "\n",
    "Ga na of een gegeven string een *palindroom* is. Een palindroom is een string die gelijk is aan zijn omgekeerde. Enkele voorbeelden: abba, legovogel, levensnevel, maandnaam, meetsysteem, ... "
   ]
  },
  {
   "cell_type": "code",
   "execution_count": 33,
   "metadata": {},
   "outputs": [],
   "source": [
    "# Jouw antwoord hier"
   ]
  },
  {
   "cell_type": "code",
   "execution_count": null,
   "metadata": {},
   "outputs": [],
   "source": []
  }
 ],
 "metadata": {
  "kernelspec": {
   "display_name": "Python 3",
   "language": "python",
   "name": "python3"
  },
  "language_info": {
   "codemirror_mode": {
    "name": "ipython",
    "version": 3
   },
   "file_extension": ".py",
   "mimetype": "text/x-python",
   "name": "python",
   "nbconvert_exporter": "python",
   "pygments_lexer": "ipython3",
   "version": "3.8.3"
  }
 },
 "nbformat": 4,
 "nbformat_minor": 4
}
