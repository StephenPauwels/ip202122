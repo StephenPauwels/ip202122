{
 "cells": [
  {
   "cell_type": "markdown",
   "metadata": {},
   "source": [
    "# Voorbeeld van het gebruik van lijsten: Zeef van Eratosthenes"
   ]
  },
  {
   "cell_type": "markdown",
   "metadata": {},
   "source": [
    "Priemgetallen werden reeds door de Grieken bestudeerd. Zij ontwikkelden een methode om priemgetallen op te lijsten die efficiënter is dan volgend algoritme dat we schreven in het deel over functies:"
   ]
  },
  {
   "cell_type": "code",
   "execution_count": 1,
   "metadata": {},
   "outputs": [],
   "source": [
    "def priem(x):\n",
    "    if x<2:\n",
    "        return False  # 0 en 1 zijn geen priemgetallen\n",
    "    for d in range(2,x):\n",
    "        if x%d==0:  # als d een deler is van x ...\n",
    "            return False  # ... is het geen priemgetal\n",
    "    return True # als we uit de for geraken zonder een return tegen te komen is het wel een priemgetal"
   ]
  },
  {
   "cell_type": "markdown",
   "metadata": {},
   "source": [
    "De Griekse methode die we gaan implementeren heet *de zeef van Eratosthenes* en werkt als volgt. Om alle priemgetallen van *1* tot *N* te berekenen:\n",
    "- schrijf alle getallen van 2 tot *N* neer in een tabel\n",
    "- ga alle getallen in het rooster een voor een af\n",
    "    - als het getal niet doorgestreept is:\n",
    "        - je hebt een priemgetal gevonden\n",
    "        - streep alle veelvouden van dit getal door\n",
    "\n",
    "Als we bijvoorbeeld alle priemgetallen kleiner dan 10 willen, schrijven we alle getallen van 2 tot 9 op:\n",
    "\n",
    "2 3 4 5 6 7 8 9\n",
    "\n",
    "Vervolgens starten we met het kleinste getal (2); dit is een priemgetal. We strepen alle getallen door die een veelvoud zijn van dat getal:\n",
    "\n",
    "2 3 / 5 / 7 / 9\n",
    "\n",
    "Dan gaan we verder tot we het volgende niet doorstreepte getal tegenkomen (3). Dit is opnieuw een priemgetal. We strepen opnieuw alle veelvouden door:\n",
    "\n",
    "2 3 / 5 / 7 / /\n",
    "\n",
    "enzovoort ...  Volgende illustratie geeft deze procedure weer voor alle getallen tot 120.\n",
    "\n",
    "![alt text](images/Sieve_of_Eratosthenes_animation.gif \"Zeef van Eratosthenes\")\n",
    "CC BY-SA 3.0, https://commons.wikimedia.org/w/index.php?curid=2810935"
   ]
  },
  {
   "cell_type": "markdown",
   "metadata": {},
   "source": [
    "We gaan deze zeef nu zelf implementeren in Python. Onze eerste keuze is welke *datastructuur* we gaan gebruiken. Het ligt voor de hand om een lijst te gebruiken om de zeef voor te stellen. We zouden in deze lijst alle getallen van 2 tot *N* kunnen stoppen:"
   ]
  },
  {
   "cell_type": "code",
   "execution_count": 2,
   "metadata": {},
   "outputs": [
    {
     "name": "stdout",
     "output_type": "stream",
     "text": [
      "[2, 3, 4, 5, 6, 7, 8, 9, 10, 11, 12, 13, 14, 15, 16, 17, 18, 19, 20, 21, 22, 23, 24, 25, 26, 27, 28, 29, 30, 31, 32, 33, 34, 35, 36, 37, 38, 39, 40, 41, 42, 43, 44, 45, 46, 47, 48, 49, 50, 51, 52, 53, 54, 55, 56, 57, 58, 59, 60, 61, 62, 63, 64, 65, 66, 67, 68, 69, 70, 71, 72, 73, 74, 75, 76, 77, 78, 79, 80, 81, 82, 83, 84, 85, 86, 87, 88, 89, 90, 91, 92, 93, 94, 95, 96, 97, 98, 99, 100, 101, 102, 103, 104, 105, 106, 107, 108, 109, 110, 111, 112, 113, 114, 115, 116, 117, 118, 119, 120]\n"
     ]
    }
   ],
   "source": [
    "def maakZeef(N):\n",
    "    Z=[]\n",
    "    for i in range(2,N+1):\n",
    "        Z.append(i)\n",
    "    return Z\n",
    "\n",
    "Zeef=maakZeef(120)\n",
    "print(Zeef)"
   ]
  },
  {
   "cell_type": "markdown",
   "metadata": {},
   "source": [
    "Vervolgens moeten we nadenken hoe we kunnen opslaan of een getal doorstreept is of niet. We zouden een doorstreept getal kunnen vervangen door -1. Bijvoorbeeld, alle veelvouden van 2 doorstrepen kan dan bijvoorbeeld als volgt:"
   ]
  },
  {
   "cell_type": "code",
   "execution_count": 3,
   "metadata": {},
   "outputs": [
    {
     "name": "stdout",
     "output_type": "stream",
     "text": [
      "[2, 3, -1, 5, -1, 7, -1, 9, -1, 11, -1, 13, -1, 15, -1, 17, -1, 19, -1, 21, -1, 23, -1, 25, -1, 27, -1, 29, -1, 31, -1, 33, -1, 35, -1, 37, -1, 39, -1, 41, -1, 43, -1, 45, -1, 47, -1, 49, -1, 51, -1, 53, -1, 55, -1, 57, -1, 59, -1, 61, -1, 63, -1, 65, -1, 67, -1, 69, -1, 71, -1, 73, -1, 75, -1, 77, -1, 79, -1, 81, -1, 83, -1, 85, -1, 87, -1, 89, -1, 91, -1, 93, -1, 95, -1, 97, -1, 99, -1, 101, -1, 103, -1, 105, -1, 107, -1, 109, -1, 111, -1, 113, -1, 115, -1, 117, -1, 119, -1]\n"
     ]
    }
   ],
   "source": [
    "N=120\n",
    "for i in range(3,N+1):  # We willen 2 zelf niet doorstrepen, dus starten bij 3\n",
    "    if i%2==0:  # rest bij deling door 2 = 0\n",
    "        # i staat op plaats i-2 in de zeef\n",
    "        Zeef[i-2]=-1\n",
    "\n",
    "print(Zeef)"
   ]
  },
  {
   "cell_type": "markdown",
   "metadata": {},
   "source": [
    "We kunnen ook rechtstreeks alle veelvouden van 2 doorstrepen; dus zonder de hele zeef af te lopen en telkens te testen of het een veelvoud van 2 is:"
   ]
  },
  {
   "cell_type": "code",
   "execution_count": 4,
   "metadata": {},
   "outputs": [
    {
     "name": "stdout",
     "output_type": "stream",
     "text": [
      "[2, 3, -1, 5, -1, 7, -1, 9, -1, 11, -1, 13, -1, 15, -1, 17, -1, 19, -1, 21, -1, 23, -1, 25, -1, 27, -1, 29, -1, 31, -1, 33, -1, 35, -1, 37, -1, 39, -1, 41, -1, 43, -1, 45, -1, 47, -1, 49, -1, 51, -1, 53, -1, 55, -1, 57, -1, 59, -1, 61, -1, 63, -1, 65, -1, 67, -1, 69, -1, 71, -1, 73, -1, 75, -1, 77, -1, 79, -1, 81, -1, 83, -1, 85, -1, 87, -1, 89, -1, 91, -1, 93, -1, 95, -1, 97, -1, 99, -1, 101, -1, 103, -1, 105, -1, 107, -1, 109, -1, 111, -1, 113, -1, 115, -1, 117, -1, 119, -1]\n"
     ]
    }
   ],
   "source": [
    "Zeef=maakZeef(120)\n",
    "\n",
    "for i in range(2*2,N+1,2):\n",
    "    Zeef[i-2]=-1\n",
    "    \n",
    "print(Zeef)"
   ]
  },
  {
   "cell_type": "markdown",
   "metadata": {},
   "source": [
    "Of, algemener, alle veelvouden van i schrappen:"
   ]
  },
  {
   "cell_type": "code",
   "execution_count": 5,
   "metadata": {},
   "outputs": [
    {
     "name": "stdout",
     "output_type": "stream",
     "text": [
      "[2, 3, -1, 5, -1, 7, -1, -1, -1, 11, -1, 13, -1, -1, -1, 17, -1, 19, -1, -1, -1, 23, -1, 25, -1, -1, -1, 29, -1, 31, -1, -1, -1, 35, -1, 37, -1, -1, -1, 41, -1, 43, -1, -1, -1, 47, -1, 49, -1, -1, -1, 53, -1, 55, -1, -1, -1, 59, -1, 61, -1, -1, -1, 65, -1, 67, -1, -1, -1, 71, -1, 73, -1, -1, -1, 77, -1, 79, -1, -1, -1, 83, -1, 85, -1, -1, -1, 89, -1, 91, -1, -1, -1, 95, -1, 97, -1, -1, -1, 101, -1, 103, -1, -1, -1, 107, -1, 109, -1, -1, -1, 113, -1, 115, -1, -1, -1, 119, -1]\n"
     ]
    }
   ],
   "source": [
    "# Schrap alle veelvouden van i uit de zeef Z die van 2 tot N gaat\n",
    "def schrap(Z,i,N):\n",
    "    for j in range(2*i,N+1,i):\n",
    "        Z[j-2]=-1\n",
    "\n",
    "Zeef=maakZeef(120)\n",
    "schrap(Zeef,2,120)\n",
    "schrap(Zeef,3,120)\n",
    "\n",
    "print(Zeef)"
   ]
  },
  {
   "cell_type": "markdown",
   "metadata": {},
   "source": [
    "Dat schrappen moeten we nu doen voor elk getal in de zeef, van klein naar groot, dat nog niet zelf geschrapt is:"
   ]
  },
  {
   "cell_type": "code",
   "execution_count": 6,
   "metadata": {},
   "outputs": [
    {
     "name": "stdout",
     "output_type": "stream",
     "text": [
      "2 is een priemgetal!\n",
      "3 is een priemgetal!\n",
      "5 is een priemgetal!\n",
      "7 is een priemgetal!\n",
      "11 is een priemgetal!\n",
      "13 is een priemgetal!\n",
      "17 is een priemgetal!\n",
      "19 is een priemgetal!\n",
      "23 is een priemgetal!\n",
      "29 is een priemgetal!\n",
      "31 is een priemgetal!\n",
      "37 is een priemgetal!\n",
      "41 is een priemgetal!\n",
      "43 is een priemgetal!\n",
      "47 is een priemgetal!\n",
      "53 is een priemgetal!\n",
      "59 is een priemgetal!\n",
      "61 is een priemgetal!\n",
      "67 is een priemgetal!\n",
      "71 is een priemgetal!\n",
      "73 is een priemgetal!\n",
      "79 is een priemgetal!\n",
      "83 is een priemgetal!\n",
      "89 is een priemgetal!\n",
      "97 is een priemgetal!\n",
      "101 is een priemgetal!\n",
      "103 is een priemgetal!\n",
      "107 is een priemgetal!\n",
      "109 is een priemgetal!\n",
      "113 is een priemgetal!\n"
     ]
    }
   ],
   "source": [
    "N=120\n",
    "Zeef=maakZeef(N)\n",
    "\n",
    "for getal in Zeef:\n",
    "    if getal!=-1:\n",
    "        print(getal,\"is een priemgetal!\")\n",
    "        schrap(Zeef,getal,N)"
   ]
  },
  {
   "cell_type": "markdown",
   "metadata": {},
   "source": [
    "Hiermee is ons programma af.\n",
    "\n",
    "## Alternatief\n",
    "Afhankelijk van welke datastructuur we gebruikten hadden we een variant gekregen van hetzelfde algoritme. Bijvoorbeeld, we konden ook volgende datastructuur gebruiken: een lijst met Booleaanse waarden (*True* of *False*), waarbij *Zeef\\[i\\]==True* betekent: *i* is doorstreept. we beginnen met de lijst *\\[False, False, True, True, ...\\]*, want *0* en *1* zijn sowieso geen priemgetallen. Vervolgens gaan we over alle getallen van 2 tot N en strepen de veelvouden door van niet-geschrapte getallen. Op het einde zijn alle getallen *i* zodat *Zeef\\[i\\]==False*, priemgetallen:"
   ]
  },
  {
   "cell_type": "code",
   "execution_count": 7,
   "metadata": {},
   "outputs": [
    {
     "name": "stdout",
     "output_type": "stream",
     "text": [
      "2 is priem\n",
      "3 is priem\n",
      "5 is priem\n",
      "7 is priem\n",
      "11 is priem\n",
      "13 is priem\n",
      "17 is priem\n",
      "19 is priem\n",
      "23 is priem\n",
      "29 is priem\n",
      "31 is priem\n",
      "37 is priem\n",
      "41 is priem\n",
      "43 is priem\n",
      "47 is priem\n",
      "53 is priem\n",
      "59 is priem\n",
      "61 is priem\n",
      "67 is priem\n",
      "71 is priem\n",
      "73 is priem\n",
      "79 is priem\n",
      "83 is priem\n",
      "89 is priem\n",
      "97 is priem\n",
      "101 is priem\n",
      "103 is priem\n",
      "107 is priem\n",
      "109 is priem\n",
      "113 is priem\n"
     ]
    }
   ],
   "source": [
    "N=120\n",
    "Zeef=[True,True]+[False]*(N-1)  # Net zoals bij strings kunnen we met * een lijst een aantal keer achter elkaar kopieren\n",
    "\n",
    "for i in range(2,N+1):\n",
    "    if not Zeef[i]:   # niet doorstreept\n",
    "        print(i,\"is priem\")\n",
    "        for j in range(2*i,N+1,i): # loop alle veelvouden van i af\n",
    "            Zeef[j]=True  # doorstreep het veelvoud"
   ]
  },
  {
   "cell_type": "code",
   "execution_count": null,
   "metadata": {},
   "outputs": [],
   "source": []
  },
  {
   "cell_type": "code",
   "execution_count": null,
   "metadata": {},
   "outputs": [],
   "source": []
  }
 ],
 "metadata": {
  "kernelspec": {
   "display_name": "Python 3",
   "language": "python",
   "name": "python3"
  },
  "language_info": {
   "codemirror_mode": {
    "name": "ipython",
    "version": 3
   },
   "file_extension": ".py",
   "mimetype": "text/x-python",
   "name": "python",
   "nbconvert_exporter": "python",
   "pygments_lexer": "ipython3",
   "version": "3.8.3"
  }
 },
 "nbformat": 4,
 "nbformat_minor": 4
}
