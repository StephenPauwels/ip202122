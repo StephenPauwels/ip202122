{
 "cells": [
  {
   "cell_type": "markdown",
   "metadata": {},
   "source": [
    "# Samengestelde datatypes\n",
    "\n",
    "In de vorige notebooks kwamen we reeds enkele enkelvoudige datatypes tegen:\n",
    "- bool\n",
    "- int\n",
    "- float\n",
    "- string\n",
    "\n",
    "en ook volgende containertypes:\n",
    "\n",
    "- list\n",
    "- set\n",
    "- dict\n",
    "\n",
    "De containertypes kunnen elk ander type bevatten, waaronder opnieuw een containertype. Op die manier kunnen we complexe datastructuren bouwen. We noemen dit *samengestelde datatypes*.\n",
    "\n",
    "Stel dat we een matrix van getallen willen voorstellen, bijvoorbeeld:\n",
    "\n",
    "$$\\begin{bmatrix} 1 & 2 & 1 \\\\ 3 & 0 & 1 \\\\ 0 & 2 & 4 \\end{bmatrix}$$\n",
    "\n",
    "We zouden dit kunnen doen door de rijen van de matrix achter elkaar in een lijst te stoppen en een functie te schrijven die het element op rij *i* en kolom *j* teruggeeft:"
   ]
  },
  {
   "cell_type": "code",
   "execution_count": 1,
   "metadata": {},
   "outputs": [
    {
     "name": "stdout",
     "output_type": "stream",
     "text": [
      "2\n",
      "4\n"
     ]
    }
   ],
   "source": [
    "def elementOp(L,i,j):\n",
    "    return L[(i-1)*3+(j-1)]\n",
    "\n",
    "L=[1,2,1,3,0,1,0,2,4]\n",
    "print(elementOp(L,1,2))\n",
    "print(elementOp(L,3,3))"
   ]
  },
  {
   "cell_type": "markdown",
   "metadata": {},
   "source": [
    "We kunnen er ook voor kiezen om de interne representatie (data structuur in het geheugen) dichter te laten aanleunen bij het object uit de \"echte wereld\" dat we willen voorstellen (de matrix). Bijvoorbeeld door de rijen van de matrix voor te stellen als lijsten, en de matrix zelf als een lijst van lijsten:"
   ]
  },
  {
   "cell_type": "code",
   "execution_count": 2,
   "metadata": {},
   "outputs": [
    {
     "name": "stdout",
     "output_type": "stream",
     "text": [
      "2\n",
      "4\n"
     ]
    }
   ],
   "source": [
    "rij1=[1,2,1]\n",
    "rij2=[3,0,1]\n",
    "rij3=[0,2,4]\n",
    "M=[rij1,rij2,rij3]\n",
    "\n",
    "# element op rij i en kolom j selecteren:\n",
    "print(M[0][1]) # rij 1, kolom 2\n",
    "print(M[2][2]) # rij 3, kolom 3"
   ]
  },
  {
   "cell_type": "markdown",
   "metadata": {},
   "source": [
    "Merk op dat in de code `M[0][1]` gezien wordt als `(M[0])[1]`; dat is: operator \"`[1]`\" wordt toegepast op het resultaat van `M[0]`. We kunnen onze datastructuur ook directer schrijven als volgt:"
   ]
  },
  {
   "cell_type": "code",
   "execution_count": 3,
   "metadata": {},
   "outputs": [],
   "source": [
    "M=[[1,2,1],[3,0,1],[0,2,4]]"
   ]
  },
  {
   "cell_type": "markdown",
   "metadata": {},
   "source": [
    "Deze manier om een matrix voor te stellen heeft bijkomend voordeel dat we de dimensies van de matrix kunnen afleiden uit de datastructuur; `len(M)` is het aantal rijen en bijvoorbeeld `len(M[0])` geeft het aantal kolommen.\n",
    "Volgende functie met parameter *n* geeft een eenheidmatrix van dimensie *n* x *n* terug:"
   ]
  },
  {
   "cell_type": "code",
   "execution_count": 4,
   "metadata": {},
   "outputs": [
    {
     "name": "stdout",
     "output_type": "stream",
     "text": [
      "[[1, 0, 0, 0, 0], [0, 1, 0, 0, 0], [0, 0, 1, 0, 0], [0, 0, 0, 1, 0], [0, 0, 0, 0, 1]]\n"
     ]
    }
   ],
   "source": [
    "def unitMatrix(n):\n",
    "    result=[]\n",
    "    for i in range(n):\n",
    "        rij=[0]*n\n",
    "        rij[i]=1\n",
    "        result.append(rij)    \n",
    "    return result\n",
    "\n",
    "print(unitMatrix(5))"
   ]
  },
  {
   "cell_type": "markdown",
   "metadata": {},
   "source": [
    "We kunnen de matrix ook mooi afdrukken:"
   ]
  },
  {
   "cell_type": "code",
   "execution_count": 5,
   "metadata": {},
   "outputs": [
    {
     "name": "stdout",
     "output_type": "stream",
     "text": [
      "1\t0\t0\t0\t0\t0\t0\t0\t0\t0\t\n",
      "0\t1\t0\t0\t0\t0\t0\t0\t0\t0\t\n",
      "0\t0\t1\t0\t0\t0\t0\t0\t0\t0\t\n",
      "0\t0\t0\t1\t0\t0\t0\t0\t0\t0\t\n",
      "0\t0\t0\t0\t1\t0\t0\t0\t0\t0\t\n",
      "0\t0\t0\t0\t0\t1\t0\t0\t0\t0\t\n",
      "0\t0\t0\t0\t0\t0\t1\t0\t0\t0\t\n",
      "0\t0\t0\t0\t0\t0\t0\t1\t0\t0\t\n",
      "0\t0\t0\t0\t0\t0\t0\t0\t1\t0\t\n",
      "0\t0\t0\t0\t0\t0\t0\t0\t0\t1\t\n"
     ]
    }
   ],
   "source": [
    "def printMatrix(M):\n",
    "    for rij in M:\n",
    "        for entry in rij:\n",
    "            print(entry,end=\"\\t\")  # Druk de entries af gescheiden door een tab-karakter om mooi uit te lijnen\n",
    "        print()\n",
    "\n",
    "M=unitMatrix(10)\n",
    "printMatrix(M)"
   ]
  },
  {
   "cell_type": "markdown",
   "metadata": {},
   "source": [
    "## Woordslang\n",
    "\n",
    "Het tweede voorbeeld dat we behandelen is \"woordslang\". Bij dit typische auto-spel begint een van de spelers met de naam van een dier te noemen. De volgende speler moet dan een nieuw dier opnoemen waarvan de naam begint met de laatste letter van de naam van het vorige dier. Dit gaat dan door tot een van de spelers de naam van een dier een tweede maal zegt, een niet-bestaande dierennaam zegt, of niet tijdig met een dierennaam op de proppen kan komen.\n",
    "\n",
    "We gaan dit spel nu in Python simuleren. We beginnnen eerst met het inlezen van een lijst dierennamen uit een bestand. Dat kan in Python eenvoudig op volgende wijze:"
   ]
  },
  {
   "cell_type": "code",
   "execution_count": 6,
   "metadata": {},
   "outputs": [
    {
     "name": "stdout",
     "output_type": "stream",
     "text": [
      "aap\n",
      "panda\n",
      "rat\n",
      "bosuil\n",
      "kat\n"
     ]
    }
   ],
   "source": [
    "f=open(\"dier.txt\",\"r\")  # open file \"dier.txt\" om te lezen (*r*ead)\n",
    "                        # f is het geopende bestand\n",
    "\n",
    "n=5\n",
    "for line in f: # itereer over de lijnen in f; lees ze een voor een\n",
    "    cleanLine=line.strip() # Haal overtollige spaties en \\n weg aan begin en einde van de ingelezen lijn\n",
    "    print(cleanLine)\n",
    "    n-=1      # We gaan niet het hele bestand afprinten, maar enkel de eerste n lijnen\n",
    "    if n==0:  # We verlagen n telkens en als n == 0 stoppen we\n",
    "        break  # break gaat de for-loop onmiddelijk stoppen\n",
    "        \n",
    "f.close() # sluit het bestand terug; anders gaan we volgende keer gewoon verder lezen waar we waren\n",
    "\n"
   ]
  },
  {
   "cell_type": "markdown",
   "metadata": {},
   "source": [
    "Bij woordslang moeten we onthouden welke woorden reeds gespeeld werden en of het gezegde woord een bestaand woord is. Dit kunnen we doen door de bestaande woorden en de gespeelde woorden bij te houden in een set."
   ]
  },
  {
   "cell_type": "code",
   "execution_count": 7,
   "metadata": {},
   "outputs": [
    {
     "name": "stdout",
     "output_type": "stream",
     "text": [
      "Speler 1 moet een dier noemen: aap\n",
      "Speler 2 moet een dier noemen: panda\n",
      "Speler 1 moet een dier noemen: \n"
     ]
    },
    {
     "ename": "IndexError",
     "evalue": "string index out of range",
     "output_type": "error",
     "traceback": [
      "\u001b[1;31m---------------------------------------------------------------------------\u001b[0m",
      "\u001b[1;31mIndexError\u001b[0m                                Traceback (most recent call last)",
      "\u001b[1;32m<ipython-input-7-44e2f7059e1d>\u001b[0m in \u001b[0;36m<module>\u001b[1;34m\u001b[0m\n\u001b[0;32m     12\u001b[0m \u001b[1;32mwhile\u001b[0m \u001b[1;32mnot\u001b[0m \u001b[0mfout\u001b[0m\u001b[1;33m:\u001b[0m\u001b[1;33m\u001b[0m\u001b[1;33m\u001b[0m\u001b[0m\n\u001b[0;32m     13\u001b[0m     \u001b[0ms\u001b[0m\u001b[1;33m=\u001b[0m\u001b[0minput\u001b[0m\u001b[1;33m(\u001b[0m\u001b[1;34m\"Speler \"\u001b[0m\u001b[1;33m+\u001b[0m\u001b[0mstr\u001b[0m\u001b[1;33m(\u001b[0m\u001b[0mspelerAanBeurt\u001b[0m\u001b[1;33m)\u001b[0m\u001b[1;33m+\u001b[0m\u001b[1;34m\" moet een dier noemen: \"\u001b[0m\u001b[1;33m)\u001b[0m\u001b[1;33m\u001b[0m\u001b[1;33m\u001b[0m\u001b[0m\n\u001b[1;32m---> 14\u001b[1;33m     \u001b[1;32mif\u001b[0m \u001b[0mvorige\u001b[0m\u001b[1;33m!=\u001b[0m\u001b[1;34m\"\"\u001b[0m \u001b[1;32mand\u001b[0m \u001b[0mvorige\u001b[0m\u001b[1;33m[\u001b[0m\u001b[1;33m-\u001b[0m\u001b[1;36m1\u001b[0m\u001b[1;33m]\u001b[0m\u001b[1;33m!=\u001b[0m\u001b[0ms\u001b[0m\u001b[1;33m[\u001b[0m\u001b[1;36m0\u001b[0m\u001b[1;33m]\u001b[0m\u001b[1;33m:\u001b[0m\u001b[1;33m\u001b[0m\u001b[1;33m\u001b[0m\u001b[0m\n\u001b[0m\u001b[0;32m     15\u001b[0m         \u001b[0mprint\u001b[0m\u001b[1;33m(\u001b[0m\u001b[1;34m\"Speler \"\u001b[0m\u001b[1;33m+\u001b[0m\u001b[0mstr\u001b[0m\u001b[1;33m(\u001b[0m\u001b[0mspelerAanBeurt\u001b[0m\u001b[1;33m)\u001b[0m\u001b[1;33m+\u001b[0m\u001b[1;34m\" verliest want de beginletter is fout!\"\u001b[0m\u001b[1;33m)\u001b[0m\u001b[1;33m\u001b[0m\u001b[1;33m\u001b[0m\u001b[0m\n\u001b[0;32m     16\u001b[0m         \u001b[0mfout\u001b[0m\u001b[1;33m=\u001b[0m\u001b[1;32mTrue\u001b[0m\u001b[1;33m\u001b[0m\u001b[1;33m\u001b[0m\u001b[0m\n",
      "\u001b[1;31mIndexError\u001b[0m: string index out of range"
     ]
    }
   ],
   "source": [
    "f=open(\"dier.txt\",\"r\")  \n",
    "dieren=set()\n",
    "for line in f:\n",
    "    cleanLine=line.strip()\n",
    "    dieren.add(cleanLine) # voeg het dier toe aan de set dieren\n",
    "f.close()\n",
    "\n",
    "spelerAanBeurt=1\n",
    "fout=False\n",
    "gespeeld=set()\n",
    "vorige=\"\"\n",
    "while not fout:\n",
    "    s=input(\"Speler \"+str(spelerAanBeurt)+\" moet een dier noemen: \")\n",
    "    if vorige!=\"\" and vorige[-1]!=s[0]:\n",
    "        print(\"Speler \"+str(spelerAanBeurt)+\" verliest want de beginletter is fout!\")\n",
    "        fout=True\n",
    "    elif not s in dieren:\n",
    "        print(\"Speler \"+str(spelerAanBeurt)+\" verliest want \"+s+\" bestaat niet.\")\n",
    "        fout=True\n",
    "    elif s in gespeeld:\n",
    "        fout=True\n",
    "        print(\"Speler \"+str(spelerAanBeurt)+\" verliest want \"+s+\" werd reeds gespeeld.\")\n",
    "    else:\n",
    "        gespeeld.add(s)\n",
    "    if spelerAanBeurt==1:\n",
    "        spelerAanBeurt=2\n",
    "    else:\n",
    "        spelerAanBeurt=1\n",
    "    vorige=s\n",
    "        \n",
    "print(\"Speler \"+str(spelerAanBeurt)+\" wint het spel!\")"
   ]
  },
  {
   "cell_type": "markdown",
   "metadata": {},
   "source": [
    "Stel dat we nu een computerspeler willen maken. Dan is het belangrijk om te weten met welke letter een woord begint, of nog beter, voor elke beginletter een lijstje met dieren te hebben die met die letter beginnen. Zulk een lijstje kunnen we met een samengesteld datatype maken:"
   ]
  },
  {
   "cell_type": "code",
   "execution_count": 8,
   "metadata": {},
   "outputs": [
    {
     "name": "stdout",
     "output_type": "stream",
     "text": [
      "{'aardwolf', 'afrikaanse eieretende slang', 'amerikaanse nerts', 'amerikaanse bizon', 'afrikaanse jacana', 'aap', 'alligatorschildpad', 'alpensneeuwhoen', 'aziatische goudkat', 'argalischaap', 'anaconda', 'amerikaanse zeearend', 'agoeti', 'amerikaanse rivierkreeft', 'afrikaanse goudkat', 'atlantische hagedisvis', 'afrikaanse olifant', 'afrikaanse buffel', 'axolotl', 'aasgier', 'amerikaanse lepelsteur', 'aziatische civetkat', 'afrikaanse zeearend', 'amazone-lamantijn', 'alk', 'atlantische sousa', 'aalscholver', 'alaskagrondeekhoorn', 'afrikaans boomschubdier', 'aziatische olifant', 'atlantische vlekdolfijn', 'arapaima', 'adder', 'amazonedolfijn', 'australische zeebeer', 'afrikaanse longvis', 'aziatische steenpatrijs', 'asthenosoma varium', 'amerikaanse das', 'alpaca', 'amerikaanse oehoe', 'amerikaanse marter', 'australische zeeleeuw', 'angwantibo', 'alpenmarmot', 'amerikaanse sneeuwhaas', 'afrikaanse civetkat', 'arowana', 'aziatische wilde ezel', 'afrikaanse bos-olifant', 'amerikaanse bever', 'antarctische zeebeer', 'apollovlinder', 'axishert', 'alpenlandsalamander', 'asgrauwe keverslak', 'afrikaanse steppenvaraan', 'afrikaanse wilde kat', 'antilopegrondeekhoorn', 'aardvarken'}\n"
     ]
    }
   ],
   "source": [
    "dierenMet={} # nieuwe dictionary\n",
    "for dier in dieren:\n",
    "    startLetter=dier[0]\n",
    "    if startLetter not in dierenMet:\n",
    "        dierenMet[startLetter]=set()\n",
    "    dierenMet[startLetter].add(dier)\n",
    "    \n",
    "print(dierenMet[\"a\"])"
   ]
  },
  {
   "cell_type": "markdown",
   "metadata": {},
   "source": [
    "De computer zal dus steeds een woord uit de jusite lijst halen en dat woord spelen. Verder wordt elk gespeeld woord uit de juiste lijst weggehaald:"
   ]
  },
  {
   "cell_type": "code",
   "execution_count": 9,
   "metadata": {},
   "outputs": [
    {
     "name": "stdout",
     "output_type": "stream",
     "text": [
      "Speler 1 moet een dier noemen: aap\n",
      "Computer speelt : patrijs\n",
      "Speler 1 moet een dier noemen: stier\n",
      "Speler 1 verliest want stier bestaat niet.\n",
      "Speler 2 wint het spel!\n"
     ]
    }
   ],
   "source": [
    "f=open(\"dier.txt\",\"r\")  \n",
    "dieren=set()\n",
    "for line in f:\n",
    "    cleanLine=line.strip()\n",
    "    dieren.add(cleanLine) # voeg het dier toe aan de set dieren\n",
    "f.close()\n",
    "\n",
    "dierenMet={} # nieuwe dictionary\n",
    "for dier in dieren:\n",
    "    startLetter=dier[0]\n",
    "    if startLetter not in dierenMet:\n",
    "        dierenMet[startLetter]=set()\n",
    "    dierenMet[startLetter].add(dier)\n",
    "\n",
    "spelerAanBeurt=1\n",
    "fout=False\n",
    "gespeeld=set()\n",
    "vorige=\"\"\n",
    "while not fout:\n",
    "    if spelerAanBeurt==1:\n",
    "        s=input(\"Speler \"+str(spelerAanBeurt)+\" moet een dier noemen: \")\n",
    "    else:\n",
    "        # computerspeler\n",
    "        dierenMet[vorige[0]].remove(vorige)\n",
    "        laatsteLetter=vorige[-1]\n",
    "        if len(dierenMet[laatsteLetter])==0:\n",
    "            # Computer kan niets meer spelen\n",
    "            fout=True\n",
    "            print(\"Computer weet geen dier meer dat begint met\",laatsteletter)\n",
    "        else:\n",
    "            s=dierenMet[laatsteLetter].pop()  # pop haalt een willekeurig element uit een lijst weg\n",
    "            print(\"Computer speelt :\",s)\n",
    "    if vorige!=\"\" and vorige[-1]!=s[0]:\n",
    "        print(\"Speler \"+str(spelerAanBeurt)+\" verliest want de beginletter is fout!\")\n",
    "        fout=True\n",
    "    elif not s in dieren:\n",
    "        print(\"Speler \"+str(spelerAanBeurt)+\" verliest want \"+s+\" bestaat niet.\")\n",
    "        fout=True\n",
    "    elif s in gespeeld:\n",
    "        fout=True\n",
    "        print(\"Speler \"+str(spelerAanBeurt)+\" verliest want \"+s+\" werd reeds gespeeld.\")\n",
    "    else:\n",
    "        gespeeld.add(s)\n",
    "    if spelerAanBeurt==1:\n",
    "        spelerAanBeurt=2\n",
    "    else:\n",
    "        spelerAanBeurt=1\n",
    "    vorige=s\n",
    "    \n",
    "print(\"Speler \"+str(spelerAanBeurt)+\" wint het spel!\")"
   ]
  },
  {
   "cell_type": "code",
   "execution_count": null,
   "metadata": {},
   "outputs": [],
   "source": []
  }
 ],
 "metadata": {
  "kernelspec": {
   "display_name": "Python 3",
   "language": "python",
   "name": "python3"
  },
  "language_info": {
   "codemirror_mode": {
    "name": "ipython",
    "version": 3
   },
   "file_extension": ".py",
   "mimetype": "text/x-python",
   "name": "python",
   "nbconvert_exporter": "python",
   "pygments_lexer": "ipython3",
   "version": "3.8.3"
  }
 },
 "nbformat": 4,
 "nbformat_minor": 4
}
