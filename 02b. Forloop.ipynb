{
 "cells": [
  {
   "cell_type": "markdown",
   "metadata": {},
   "source": [
    "# For loop\n",
    "\n",
    "Tijdens de eerste les zagen we de *while*-lus om dingen te herhalen. Een andere manier om code te herhalen is de *for*-lus. De *for*-lus kan je gebruiken indien je op voorhand weet hoe vaak je de lus moet uitvoeren.\n",
    "\n",
    "Volgende code drukt 3 maal de zin \"I love Python\" af:"
   ]
  },
  {
   "cell_type": "code",
   "execution_count": 22,
   "metadata": {},
   "outputs": [
    {
     "name": "stdout",
     "output_type": "stream",
     "text": [
      "I love Python\n",
      "I love Python\n",
      "I love Python\n"
     ]
    }
   ],
   "source": [
    "for i in range(3):\n",
    "    print(\"I love Python\")"
   ]
  },
  {
   "cell_type": "markdown",
   "metadata": {},
   "source": [
    "In de ´for i in range(3):´ is *i* een variabele die over \"range(3)\" gaat itereren; dit wil zeggen: de getallen 0, 1 en 2. *range(n)* is dus de reeks getallen van *0* tot en met *n-1*. Volgend stukje code laat zien dat *i* inderdaad de opeenvolgende waarden van de range aanneemt:"
   ]
  },
  {
   "cell_type": "code",
   "execution_count": 23,
   "metadata": {},
   "outputs": [
    {
     "name": "stdout",
     "output_type": "stream",
     "text": [
      "start van het stukje herhaalde code\n",
      "i = 0\n",
      "einde van het stukje herhaalde code\n",
      "start van het stukje herhaalde code\n",
      "i = 1\n",
      "einde van het stukje herhaalde code\n",
      "start van het stukje herhaalde code\n",
      "i = 2\n",
      "einde van het stukje herhaalde code\n"
     ]
    }
   ],
   "source": [
    "for i in range(3):\n",
    "    print(\"start van het stukje herhaalde code\")\n",
    "    print(\"i =\",i)\n",
    "    print(\"einde van het stukje herhaalde code\")"
   ]
  },
  {
   "cell_type": "markdown",
   "metadata": {},
   "source": [
    "De betekenis van bovenstaande code is dus: voer het ingesprongen stukje uit voor achtereenvolgens *i* gelijk aan 0, 1, 2. Met andere woorden, het is equivalent aan:"
   ]
  },
  {
   "cell_type": "code",
   "execution_count": 24,
   "metadata": {},
   "outputs": [
    {
     "name": "stdout",
     "output_type": "stream",
     "text": [
      "start van het stukje herhaalde code\n",
      "i = 0\n",
      "einde van het stukje herhaalde code\n",
      "start van het stukje herhaalde code\n",
      "i = 1\n",
      "einde van het stukje herhaalde code\n",
      "start van het stukje herhaalde code\n",
      "i = 2\n",
      "einde van het stukje herhaalde code\n"
     ]
    }
   ],
   "source": [
    "i=0\n",
    "print(\"start van het stukje herhaalde code\")\n",
    "print(\"i =\",i)\n",
    "print(\"einde van het stukje herhaalde code\")\n",
    "i=1\n",
    "print(\"start van het stukje herhaalde code\")\n",
    "print(\"i =\",i)\n",
    "print(\"einde van het stukje herhaalde code\")\n",
    "i=2\n",
    "print(\"start van het stukje herhaalde code\")\n",
    "print(\"i =\",i)\n",
    "print(\"einde van het stukje herhaalde code\")"
   ]
  },
  {
   "cell_type": "markdown",
   "metadata": {},
   "source": [
    "Met de variabele *i* kan je nu ook gaan rekenen; we kunnen bijvoorbeeld de maaltafel van 3 afdrukken:"
   ]
  },
  {
   "cell_type": "code",
   "execution_count": 25,
   "metadata": {},
   "outputs": [
    {
     "name": "stdout",
     "output_type": "stream",
     "text": [
      "0 maal 3 is 0\n",
      "1 maal 3 is 3\n",
      "2 maal 3 is 6\n",
      "3 maal 3 is 9\n",
      "4 maal 3 is 12\n",
      "5 maal 3 is 15\n",
      "6 maal 3 is 18\n",
      "7 maal 3 is 21\n",
      "8 maal 3 is 24\n",
      "9 maal 3 is 27\n",
      "10 maal 3 is 30\n"
     ]
    }
   ],
   "source": [
    "for i in range(11):\n",
    "    print(i,\"maal 3 is\",3*i)"
   ]
  },
  {
   "cell_type": "markdown",
   "metadata": {},
   "source": [
    "Hier is de betekenis dus gelijk aan:"
   ]
  },
  {
   "cell_type": "code",
   "execution_count": 26,
   "metadata": {},
   "outputs": [
    {
     "name": "stdout",
     "output_type": "stream",
     "text": [
      "0 maal 3 is 0\n",
      "1 maal 3 is 3\n",
      "2 maal 3 is 6\n",
      "3 maal 3 is 9\n",
      "4 maal 3 is 12\n",
      "5 maal 3 is 15\n",
      "6 maal 3 is 18\n",
      "7 maal 3 is 21\n",
      "8 maal 3 is 24\n",
      "9 maal 3 is 27\n",
      "10 maal 3 is 30\n"
     ]
    }
   ],
   "source": [
    "i=0\n",
    "print(i,\"maal 3 is\",3*i)\n",
    "i=1\n",
    "print(i,\"maal 3 is\",3*i)\n",
    "i=2\n",
    "print(i,\"maal 3 is\",3*i)\n",
    "i=3\n",
    "print(i,\"maal 3 is\",3*i)\n",
    "i=4\n",
    "print(i,\"maal 3 is\",3*i)\n",
    "i=5\n",
    "print(i,\"maal 3 is\",3*i)\n",
    "i=6\n",
    "print(i,\"maal 3 is\",3*i)\n",
    "i=7\n",
    "print(i,\"maal 3 is\",3*i)\n",
    "i=8\n",
    "print(i,\"maal 3 is\",3*i)\n",
    "i=9\n",
    "print(i,\"maal 3 is\",3*i)\n",
    "i=10\n",
    "print(i,\"maal 3 is\",3*i)"
   ]
  },
  {
   "cell_type": "markdown",
   "metadata": {},
   "source": [
    "We kunnen de maaltafel ook omgekeerd afdrukken:"
   ]
  },
  {
   "cell_type": "code",
   "execution_count": 27,
   "metadata": {},
   "outputs": [
    {
     "name": "stdout",
     "output_type": "stream",
     "text": [
      "10 maal 3 is 30\n",
      "9 maal 3 is 27\n",
      "8 maal 3 is 24\n",
      "7 maal 3 is 21\n",
      "6 maal 3 is 18\n",
      "5 maal 3 is 15\n",
      "4 maal 3 is 12\n",
      "3 maal 3 is 9\n",
      "2 maal 3 is 6\n",
      "1 maal 3 is 3\n",
      "0 maal 3 is 0\n"
     ]
    }
   ],
   "source": [
    "for i in range(11):\n",
    "    j=10-i\n",
    "    print(j,\"maal 3 is\",3*j)"
   ]
  },
  {
   "cell_type": "markdown",
   "metadata": {},
   "source": [
    "Naast de vorm *range(n)* die een reeks getallen van 0 tot en met *n-1* genereert, bestaan ook de volgende vormen:\n",
    "- *range(start,einde)* : generator voor de reeks getallen *start*, *start+1*, ..., *einde-1*\n",
    "- *range(start,einde,stap)* : generator voor de reeks getallen *start*, *start+stap*, *start+2*stap*, ... en deze reeks gaat door zolang je niet voorbij *einde* gaat. Merk op dat *stap* ook negatief mag zijn.\n",
    "\n",
    "Enkele voorbeelden:"
   ]
  },
  {
   "cell_type": "code",
   "execution_count": 28,
   "metadata": {},
   "outputs": [
    {
     "name": "stdout",
     "output_type": "stream",
     "text": [
      "1\n",
      "2\n",
      "3\n",
      "4\n",
      "5\n"
     ]
    }
   ],
   "source": [
    "# getallen 1 tot en met 5:\n",
    "for i in range(1,6):\n",
    "    print(i)"
   ]
  },
  {
   "cell_type": "code",
   "execution_count": 29,
   "metadata": {},
   "outputs": [
    {
     "name": "stdout",
     "output_type": "stream",
     "text": [
      "4\n",
      "6\n",
      "8\n",
      "10\n"
     ]
    }
   ],
   "source": [
    "# veelvouden van 2, beginnend van 4, tot 12 (niet inbegrepen):\n",
    "for i in range(4,12,2):\n",
    "    print(i)"
   ]
  },
  {
   "cell_type": "code",
   "execution_count": 30,
   "metadata": {},
   "outputs": [
    {
     "name": "stdout",
     "output_type": "stream",
     "text": [
      "10\n",
      "9\n",
      "8\n",
      "7\n",
      "6\n",
      "5\n",
      "4\n",
      "3\n",
      "2\n",
      "1\n"
     ]
    }
   ],
   "source": [
    "# Countdown van 10 tot 1:\n",
    "for i in range(10,0,-1):\n",
    "    print(i)"
   ]
  },
  {
   "cell_type": "code",
   "execution_count": 31,
   "metadata": {},
   "outputs": [
    {
     "name": "stdout",
     "output_type": "stream",
     "text": [
      "100\n",
      "90\n",
      "80\n",
      "70\n",
      "60\n",
      "50\n",
      "40\n",
      "30\n",
      "20\n",
      "10\n"
     ]
    }
   ],
   "source": [
    "# Countdown van 100 tot 10, maar in stappen van 10:\n",
    "for i in range(100,0,-10):\n",
    "    print(i)"
   ]
  },
  {
   "cell_type": "markdown",
   "metadata": {},
   "source": [
    "## Verschil while en for loop\n",
    "\n",
    "In elke situatie waarin je de *for*-loop kan gebruiken, kan je ook de *while*-loop gebruiken; je moet dan wel zelf de index-variabele initialiseren, verhogen en de stop conditie coderen. Volgende stukken code zijn bijvoorbeeld equivalent: "
   ]
  },
  {
   "cell_type": "code",
   "execution_count": 32,
   "metadata": {},
   "outputs": [
    {
     "name": "stdout",
     "output_type": "stream",
     "text": [
      "0\n",
      "1\n",
      "2\n",
      "3\n",
      "4\n",
      "0\n",
      "1\n",
      "2\n",
      "3\n",
      "4\n"
     ]
    }
   ],
   "source": [
    "for i in range(5):\n",
    "    print(i)\n",
    "    \n",
    "i=0\n",
    "while i<5:\n",
    "    print(i)\n",
    "    i=i+1"
   ]
  },
  {
   "cell_type": "markdown",
   "metadata": {},
   "source": [
    "Bijvoorbeeld, onze maaltafel van 3 kan ook als volgt gemaakt worden:"
   ]
  },
  {
   "cell_type": "code",
   "execution_count": 33,
   "metadata": {},
   "outputs": [
    {
     "name": "stdout",
     "output_type": "stream",
     "text": [
      "0 maal 3 is 0\n",
      "1 maal 3 is 3\n",
      "2 maal 3 is 6\n",
      "3 maal 3 is 9\n",
      "4 maal 3 is 12\n",
      "5 maal 3 is 15\n",
      "6 maal 3 is 18\n",
      "7 maal 3 is 21\n",
      "8 maal 3 is 24\n",
      "9 maal 3 is 27\n",
      "10 maal 3 is 30\n"
     ]
    }
   ],
   "source": [
    "i=0\n",
    "while i<11:\n",
    "    print(i,\"maal 3 is\",3*i)\n",
    "    i=i+1"
   ]
  },
  {
   "cell_type": "markdown",
   "metadata": {},
   "source": [
    "**Let op!** Vaak voorkomende fouten:\n",
    "- vergeten de variabele i te initialiseren (`i=0` vergeten) met als resultaat dat Python de conditie `i<11` niet kan evalueren\n",
    "- vergeten de teller te verhogen (`i=i+1` vergeten) met als resultaat dat de *while*-lus oneindig voortgaat.\n"
   ]
  },
  {
   "cell_type": "markdown",
   "metadata": {},
   "source": [
    "We kunnen een *for*-lus dus steeds vervangen door een *while*-lus. Het omgekeerde is echter niet waar; er bestaan situaties waarin we geen *for*-lus kunnen gebruiken, namelijk als we bij aanvang van de lus niet kunnen zeggen hoe vaak de lus uitgevoerd zal moeten worden.\n",
    "\n",
    "Een voorbeeld van zulk een situatie: *Lees getallen in van de gebruiker, totdat die 0 ingeeft*:"
   ]
  },
  {
   "cell_type": "code",
   "execution_count": null,
   "metadata": {},
   "outputs": [],
   "source": [
    "getal=-1  # eender welke waarde behalve 0 zodat de while minstens 1 maal wordt uigevoerd\n",
    "while getal != 0:   # != betekent \"niet gelijk aan\"\n",
    "    getal=int(input(\"Geef een getal (0 om af te sluiten) :\"))"
   ]
  },
  {
   "cell_type": "markdown",
   "metadata": {},
   "source": [
    "We kunnen nu bijvoorbeeld de som en het aantal getallen bijhouden om het gemiddelde te berekenen:"
   ]
  },
  {
   "cell_type": "code",
   "execution_count": null,
   "metadata": {},
   "outputs": [],
   "source": [
    "getal=-1  # eender welke waarde behalve 0 zodat de while minstens 1 maal wordt uigevoerd\n",
    "som=0\n",
    "aantal=0\n",
    "while getal != 0:   # != betekent \"niet gelijk aan\"\n",
    "    getal=int(input(\"Geef een getal (0 om af te sluiten) :\"))\n",
    "    som=som+getal\n",
    "    aantal=aantal+1\n",
    "print(\"Gemidddelde:\",som/(aantal-1))"
   ]
  },
  {
   "cell_type": "markdown",
   "metadata": {},
   "source": [
    "(weet je waarom er `aantal-1` staat?)"
   ]
  },
  {
   "cell_type": "markdown",
   "metadata": {},
   "source": [
    "We kunnen de *for*-lus echter *wel* gebruiken als we eerst aan de gebruiker vragen hoeveel getallen hij of zij wil inlezen:"
   ]
  },
  {
   "cell_type": "code",
   "execution_count": null,
   "metadata": {},
   "outputs": [],
   "source": [
    "aantal=int(input(\"Hoeveel getallen wil je inlezen?\"))\n",
    "som=0\n",
    "for i in range(aantal):\n",
    "    getal=int(input(\"Geef een getal (0 om af te sluiten) :\"))\n",
    "    som=som+getal\n",
    "print(\"Gemidddelde:\",som/aantal)"
   ]
  },
  {
   "cell_type": "markdown",
   "metadata": {},
   "source": [
    "(nu delen we wel door aantal i.p.v. aantal-1; wat is het verschil?)"
   ]
  },
  {
   "cell_type": "markdown",
   "metadata": {},
   "source": [
    "Merk het verschil tussen de twee situaties: omdat we nu aan de gebruiker vragen hoeveel getallen die wil inlezen, weten we bij de start van de *for*-lus hoe veel iteraties die moet maken. Het is dus niet nodig dat de programmeur reeds weet hoe vaak de *for*-lus doorlopen moet worden, maar op het moment dat de lus start, moeten we het kunnen berekenen."
   ]
  }
 ],
 "metadata": {
  "kernelspec": {
   "display_name": "Python 3",
   "language": "python",
   "name": "python3"
  },
  "language_info": {
   "codemirror_mode": {
    "name": "ipython",
    "version": 3
   },
   "file_extension": ".py",
   "mimetype": "text/x-python",
   "name": "python",
   "nbconvert_exporter": "python",
   "pygments_lexer": "ipython3",
   "version": "3.7.3"
  }
 },
 "nbformat": 4,
 "nbformat_minor": 4
}
