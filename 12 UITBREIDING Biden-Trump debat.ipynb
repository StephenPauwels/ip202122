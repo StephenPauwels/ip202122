{
 "cells": [
  {
   "cell_type": "markdown",
   "metadata": {},
   "source": [
    "# Biden-Trump debat\n",
    "\n",
    "In deze notebook werken we een voorbeeld uit gebaseerd op het verfijnde en literair hoogstaand debat tussen de vorige president van de Verenigde Staten en zijn opvolger. We lezen de uitwisseling tussen beide heren uit een bestand. Dee lijnen code doen ook al ineens wat pre-processing, zoals het omzetten naar kleine letters, het splitsen in woorden, etc."
   ]
  },
  {
   "cell_type": "code",
   "execution_count": 1,
   "metadata": {},
   "outputs": [],
   "source": [
    "def verwijderNietAlpha(w):\n",
    "    w=w.lower()\n",
    "    result=\"\"\n",
    "    for x in w:\n",
    "        if x>='a' and x<='z':\n",
    "            result=result+x\n",
    "    return result\n",
    "\n",
    "def woorden(zin):\n",
    "    Z=zin.split()\n",
    "    W=[]\n",
    "    for w in Z:\n",
    "        x=verwijderNietAlpha(w)\n",
    "        if x!=\"\":\n",
    "            W.append(x)\n",
    "    return W\n",
    "\n",
    "def readDebate():\n",
    "    D=[]\n",
    "    f=open(\"transcript.txt\",\"r\")\n",
    "    speaker=True\n",
    "    name=\"\"\n",
    "    for line in f:\n",
    "        if line.strip()==\"\":\n",
    "            continue\n",
    "        if speaker:\n",
    "            record=line.split(\":\")\n",
    "            if len(record)<2:\n",
    "                continue\n",
    "            name=record[0]\n",
    "            speaker=False\n",
    "        else:\n",
    "            zin=line.strip()\n",
    "            speaker=True\n",
    "            D.append((name,woorden(zin)))\n",
    "    f.close()\n",
    "    return D\n",
    "\n",
    "D=readDebate()"
   ]
  },
  {
   "cell_type": "markdown",
   "metadata": {},
   "source": [
    "`D` bevat alle lijnen die de kandidaten en de moderator spraken in volgende formaat:"
   ]
  },
  {
   "cell_type": "raw",
   "metadata": {},
   "source": [
    "[ (spreker1, [lijst woorden van spreker 1]),(spreker2,[lijst woorden van spreker 2]), ... ]"
   ]
  },
  {
   "cell_type": "markdown",
   "metadata": {},
   "source": [
    "Bijvoorbeeld, `D[0]` is de opening van het debat:"
   ]
  },
  {
   "cell_type": "code",
   "execution_count": 2,
   "metadata": {},
   "outputs": [
    {
     "name": "stdout",
     "output_type": "stream",
     "text": [
      "('Chris Wallace', ['good', 'evening', 'from', 'the', 'health', 'education', 'campus', 'of', 'case', 'western', 'reserve', 'university', 'and', 'the', 'cleveland', 'clinic', 'im', 'chris', 'wallace', 'of', 'fox', 'news', 'and', 'i', 'welcome', 'you', 'to', 'the', 'first', 'of', 'the', 'presidential', 'debates', 'between', 'president', 'donald', 'j', 'trump', 'and', 'former', 'vice', 'president', 'joe', 'biden', 'this', 'debate', 'is', 'sponsored', 'by', 'the', 'commission', 'on', 'presidential', 'debates', 'the', 'commission', 'has', 'designed', 'the', 'format', 'six', 'roughly', 'minute', 'segments', 'with', 'two', 'minute', 'answers', 'from', 'each', 'candidate', 'to', 'the', 'first', 'question', 'then', 'open', 'discussion', 'for', 'the', 'rest', 'of', 'each', 'segment', 'both', 'campaigns', 'have', 'agreed', 'to', 'these', 'rules', 'for', 'the', 'record', 'i', 'decided', 'the', 'topics', 'and', 'the', 'questions', 'in', 'each', 'topic', 'i', 'can', 'assure', 'you', 'none', 'of', 'the', 'questions', 'has', 'been', 'shared', 'with', 'the', 'commission', 'or', 'the', 'two', 'candidates'])\n"
     ]
    }
   ],
   "source": [
    "print(D[0])"
   ]
  },
  {
   "cell_type": "markdown",
   "metadata": {},
   "source": [
    "We gaan nu tellen hoe vaak elke kandidaat elk woord gebruikt in zijn uiteenzetting."
   ]
  },
  {
   "cell_type": "code",
   "execution_count": 3,
   "metadata": {},
   "outputs": [
    {
     "name": "stdout",
     "output_type": "stream",
     "text": [
      "\n",
      "Woorden van Vice President Joe Biden\n",
      "forward 6 0.8571428571428571\n",
      "american 14 1.0\n",
      "vote 21 0.875\n",
      "united 8 0.8888888888888888\n",
      "act 6 0.8571428571428571\n",
      "trying 6 0.8571428571428571\n",
      "having 6 1.0\n",
      "money 9 0.9\n",
      "able 17 0.9444444444444444\n",
      "same 6 0.8571428571428571\n",
      "fact 38 0.9047619047619048\n",
      "simply 6 0.8571428571428571\n",
      "heres 14 1.0\n",
      "deal 24 0.9230769230769231\n",
      "covid 12 0.8571428571428571\n",
      "sure 19 0.8636363636363636\n",
      "guy 8 0.8888888888888888\n",
      "help 6 0.8571428571428571\n",
      "plan 16 0.8888888888888888\n",
      "together 6 1.0\n",
      "home 6 1.0\n",
      "own 6 0.8571428571428571\n",
      "gone 7 0.875\n",
      "america 8 1.0\n",
      "jobs 13 0.8666666666666667\n",
      "create 7 1.0\n",
      "discredited 7 1.0\n",
      "police 7 0.875\n",
      "counted 6 1.0\n",
      "\n",
      "Woorden van President Donald J. Trump\n",
      "much 18 0.8571428571428571\n",
      "chris 13 1.0\n",
      "won 9 0.9\n",
      "places 7 1.0\n",
      "think 27 0.9\n",
      "really 12 0.8571428571428571\n",
      "wouldnt 6 0.8571428571428571\n",
      "joe 32 1.0\n",
      "far 12 0.8571428571428571\n",
      "okay 12 0.9230769230769231\n",
      "years 18 0.8571428571428571\n",
      "period 6 1.0\n",
      "three 17 0.9444444444444444\n",
      "youve 13 0.8666666666666667\n",
      "left 20 0.9090909090909091\n",
      "run 13 0.9285714285714286\n",
      "disaster 6 1.0\n",
      "too 11 0.9166666666666666\n",
      "radical 8 0.8888888888888888\n",
      "country 24 0.8888888888888888\n",
      "closed 8 1.0\n",
      "months 6 1.0\n",
      "trump 6 0.8571428571428571\n",
      "oh 12 0.8571428571428571\n",
      "november 7 1.0\n",
      "youll 6 1.0\n",
      "name 9 1.0\n",
      "seen 6 1.0\n",
      "came 12 0.8571428571428571\n",
      "gave 6 1.0\n",
      "half 12 0.8571428571428571\n",
      "car 8 0.8888888888888888\n",
      "place 8 1.0\n",
      "cities 6 1.0\n",
      "judges 7 1.0\n",
      "forest 12 0.9230769230769231\n",
      "management 6 1.0\n"
     ]
    }
   ],
   "source": [
    "TBC=[\"Vice President Joe Biden\",\"President Donald J. Trump\"]   # Dit is de lijst kandidaten die we willen tellen\n",
    "counters={}   # de tellers per kandidaat\n",
    "allwords={}   # de teller over alle kandidaten heen\n",
    "for (spreker,wlijst) in D:\n",
    "    if spreker not in TBC:\n",
    "        continue    # skip uitspraken van personen niet in de lijst TBC\n",
    "    counters[spreker]=counters.get(spreker,dict())\n",
    "    for w in wlijst:\n",
    "        counters[spreker][w]=counters[spreker].get(w,0)+1\n",
    "        allwords[w]=allwords.get(w,0)+1\n",
    "\n",
    "for spreker in counters:\n",
    "    print()\n",
    "    print(\"Woorden van\",spreker)\n",
    "    for w in counters[spreker]:\n",
    "        if counters[spreker][w]>5 and counters[spreker][w]>0.85*allwords[w]:\n",
    "            print(w,counters[spreker][w],counters[spreker][w]/allwords[w])"
   ]
  },
  {
   "cell_type": "code",
   "execution_count": null,
   "metadata": {},
   "outputs": [],
   "source": []
  },
  {
   "cell_type": "code",
   "execution_count": null,
   "metadata": {},
   "outputs": [],
   "source": []
  }
 ],
 "metadata": {
  "kernelspec": {
   "display_name": "Python 3",
   "language": "python",
   "name": "python3"
  },
  "language_info": {
   "codemirror_mode": {
    "name": "ipython",
    "version": 3
   },
   "file_extension": ".py",
   "mimetype": "text/x-python",
   "name": "python",
   "nbconvert_exporter": "python",
   "pygments_lexer": "ipython3",
   "version": "3.8.3"
  }
 },
 "nbformat": 4,
 "nbformat_minor": 4
}
