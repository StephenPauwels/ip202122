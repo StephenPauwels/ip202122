{
 "cells": [
  {
   "cell_type": "markdown",
   "metadata": {},
   "source": [
    "# Extra oefening samengestelde datatypes: analyse telefoongesprekken\n",
    "\n",
    "Het bestand \"call.txt\" bevat een lijst van paren van namen. Dit zijn beller en opgebelde in een telefoongesprek.In het volgend voorbeeld zijn er 8 telefoongesprekken. In het eerste telefoongesprek belde *Jawed*, *Isabelle* op. *Thibault* belde twee maal iemand op: een keer *Anass* en een keer *Arthur*:"
   ]
  },
  {
   "cell_type": "raw",
   "metadata": {},
   "source": [
    "Jawad\tIsabelle\n",
    "Omar\tDayenne\n",
    "Thibault\tAnass\n",
    "Lune\tStephen\n",
    "Thibault\tArthur\n",
    "Arthur  Thibault\n",
    "Recep\tSaartje\n",
    "Recep\tSaartje"
   ]
  },
  {
   "cell_type": "markdown",
   "metadata": {},
   "source": [
    "Bekijk de volgende lijnen code die je ook terugvindt in het bestand \"analyze-calls.py\". Dit stukje code leest het bestand \"calls.txt\" in. Wil je weten hoe werken met bestanden exact werkt? Bekijk dan de notebook \"Werken met bestanden\". Voorlopig kan je onderstaand stukje code gebruiken zonder het helemaal te begrijpen."
   ]
  },
  {
   "cell_type": "code",
   "execution_count": 1,
   "metadata": {},
   "outputs": [],
   "source": [
    "def leesCallsIn():\n",
    "    f=open(\"calls.txt\",\"r\")\n",
    "    pairs=[]\n",
    "    for line in f:\n",
    "        if len(line)==0:\n",
    "            continue\n",
    "        if line[-1]=='\\n':\n",
    "            line=line[:-1]\n",
    "\n",
    "        pair=line.split()\n",
    "        tuple=(pair[0],pair[1])\n",
    "        pairs.append(tuple)\n",
    "    f.close()\n",
    "    return pairs\n",
    "\n",
    "pairs=leesCallsIn()"
   ]
  },
  {
   "cell_type": "markdown",
   "metadata": {},
   "source": [
    "We bekijken even de inhoud van de lijst `pairs` die we net inlazen. We drukken enkel de eerste 8 *records* af. Elk element in de lijst is een record met 2 posities: de beller en de ontvanger van het telefoongesprek. We drukken ook het totaal aantal telefoongesprekken af:"
   ]
  },
  {
   "cell_type": "code",
   "execution_count": 2,
   "metadata": {},
   "outputs": [
    {
     "name": "stdout",
     "output_type": "stream",
     "text": [
      "[('Jawad', 'Isabelle'), ('Omar', 'Dayenne'), ('Thibault', 'Anass'), ('Lune', 'Stephen'), ('Thibault', 'Arthur'), ('Arthur', 'Thibault'), ('Recep', 'Saartje'), ('Recep', 'Saartje')]\n",
      "Totaal aantal gesprekken: 10008\n"
     ]
    }
   ],
   "source": [
    "print(pairs[:8])  # print de eerste 8 records\n",
    "print(\"Totaal aantal gesprekken:\", len(pairs))"
   ]
  },
  {
   "cell_type": "markdown",
   "metadata": {},
   "source": [
    "Dit is nu het startpunt van de opgave. Vanaf dit punt werk je verder, met de inhoud van het bestand \"calls.txt\" ingelezen en verwerkt in de lijst `pairs`.\n",
    "Schrijf nu code om volgende vragen te beantwoorden: *In Italics staat ter illustratie steeds het antwoord op deze vragen voor de eerste 8 lijnen uit het bestand.*"
   ]
  },
  {
   "cell_type": "code",
   "execution_count": 3,
   "metadata": {},
   "outputs": [],
   "source": [
    "pairs=pairs[:8]  # Voer deze lijn uit om het aantal gesprekken te beperken tot de eerste 8. \n",
    "                  # Dan kan je jouw antwoord controleren. Zet deze lijn in commentaar om\n",
    "                  # het hele bestand te gebruiken."
   ]
  },
  {
   "cell_type": "markdown",
   "metadata": {},
   "source": [
    "Hieronder zijn velden vrijgelaten om jouw antwoorden te testen. De juiste antwoorden vind je terug in de notebook \"Oplossingen Analyse Telefoongesprekken\". De antwoorden worden ook tijdens de theorieles besproken."
   ]
  },
  {
   "cell_type": "markdown",
   "metadata": {},
   "source": [
    "1. Hoeveel personen zijn er in totaal? \n",
    "\n",
    "*Het antwoord is 11 personen; namelijk: Jawad, Isabelle, Omar, Dayenne, Thibault, Anass, Lune, Stephen, Arthur, Recep, Saartje.*"
   ]
  },
  {
   "cell_type": "code",
   "execution_count": null,
   "metadata": {},
   "outputs": [],
   "source": []
  },
  {
   "cell_type": "markdown",
   "metadata": {},
   "source": [
    "2. Wat is het totale aantal gesprekken en wat is het aantal *unieke* gesprekken. Bij unieke gesprekken gaan we twee gesprekken met dezelfde beller en opgebelde slechts 1 maal tellen. Een gesprek van *a* naar *b* is echter wel een ander gesprek dan een gesprek van *b* naar *a*. \n",
    "\n",
    "*In het voorbeeld hierboven zijn er 8 gesprekken, waarvan 7 unieke.*\n"
   ]
  },
  {
   "cell_type": "code",
   "execution_count": null,
   "metadata": {},
   "outputs": [],
   "source": []
  },
  {
   "cell_type": "markdown",
   "metadata": {},
   "source": [
    "3. Welke personen waren bij het grootste aantal gesprekken betrokken (als beller of als opgebelde) en bij hoeveel gesprekken is dat ? \n",
    "\n",
    "*Dat is Thibault met 3 gesprekken.*"
   ]
  },
  {
   "cell_type": "code",
   "execution_count": null,
   "metadata": {},
   "outputs": [],
   "source": []
  },
  {
   "cell_type": "markdown",
   "metadata": {},
   "source": [
    "4. Welke persoon werden het minste opgebeld ? Hoeveel keer was dat ?  \n",
    "\n",
    "*Recep, Jawad, Omar en Lune; zij werden geen enkele keer opgebeld.*"
   ]
  },
  {
   "cell_type": "code",
   "execution_count": null,
   "metadata": {},
   "outputs": [],
   "source": []
  },
  {
   "cell_type": "markdown",
   "metadata": {},
   "source": [
    "5. Hoeveel maal wordt iemand gemiddeld opgebeld ? \n",
    "\n",
    "*Het gemiddelde is 8/11, wat ongeveer 73\\% is.*\n"
   ]
  },
  {
   "cell_type": "code",
   "execution_count": null,
   "metadata": {},
   "outputs": [],
   "source": []
  },
  {
   "cell_type": "markdown",
   "metadata": {},
   "source": [
    "6. Welke personen hadden contact met het grootste aantal andere mensen (als *a*, *b* opbelt, heeft *a* contact gehad met *b* en omgekeerd. Het maakt bij deze  vraag niet uit hoe vaak *a*, *b* opbelde). Hoeveel contactpersonen hebben deze mensen? \n",
    "\n",
    "*Dit is Thibault met 2 contactpersonen.*\n"
   ]
  },
  {
   "cell_type": "code",
   "execution_count": null,
   "metadata": {},
   "outputs": [],
   "source": []
  },
  {
   "cell_type": "markdown",
   "metadata": {},
   "source": [
    "7. Welke paren van mensen hadden het meeste contact met elkaar? Hoe vaak hadden deze personen contact ? \n",
    "\n",
    "*Zowel Recep en Saartje als Arthur en Thibault hadden het meeste contact met elkaar; namelijk 2 maal.*\n"
   ]
  },
  {
   "cell_type": "code",
   "execution_count": null,
   "metadata": {},
   "outputs": [],
   "source": []
  },
  {
   "cell_type": "markdown",
   "metadata": {},
   "source": [
    "8. Bij welke mensen is het verschil tussen gevoerde en ontvangen gesprekken het grootst? Hoe groot is dit verschil ? Hoe vaak werden deze personen zelf gebeld, respectievelijk belden ze zelf? \n",
    "\n",
    "*Recep en Saartje hebben beiden een verschil van 2 tussen hoe vaak zelf gebeld en opgebeld. In het geval van Recep is dat 2 maal gebeld en 0 maal opgebeld, in het geval van Saartje omgekeerd.*"
   ]
  },
  {
   "cell_type": "code",
   "execution_count": null,
   "metadata": {},
   "outputs": [],
   "source": []
  }
 ],
 "metadata": {
  "kernelspec": {
   "display_name": "Python 3",
   "language": "python",
   "name": "python3"
  },
  "language_info": {
   "codemirror_mode": {
    "name": "ipython",
    "version": 3
   },
   "file_extension": ".py",
   "mimetype": "text/x-python",
   "name": "python",
   "nbconvert_exporter": "python",
   "pygments_lexer": "ipython3",
   "version": "3.8.3"
  }
 },
 "nbformat": 4,
 "nbformat_minor": 4
}
