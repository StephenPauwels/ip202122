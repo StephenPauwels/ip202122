{
 "cells": [
  {
   "cell_type": "markdown",
   "metadata": {},
   "source": [
    "# Dictionaries (Map)"
   ]
  },
  {
   "cell_type": "markdown",
   "metadata": {},
   "source": [
    "Het laatste container type in deze reeks is een zogenaamde *dictionary* of *map*. Een dictionary kan je zien als een speciale lijst; een lijst waarin je de elementen niet indexeert met hun positie *0* tot en met *len(lijst)-1*, maar met een willekeuringe sleutel. Volgende code geeft weer hoe dit kan:"
   ]
  },
  {
   "cell_type": "code",
   "execution_count": 1,
   "metadata": {},
   "outputs": [],
   "source": [
    "d=dict()  # maak een lege dictionary aan\n",
    "d[\"a\"]=1\n",
    "d[\"b\"]=2"
   ]
  },
  {
   "cell_type": "markdown",
   "metadata": {},
   "source": [
    "Met de vierkante haken kunnen we waardes terug opvragen:"
   ]
  },
  {
   "cell_type": "code",
   "execution_count": 2,
   "metadata": {},
   "outputs": [
    {
     "name": "stdout",
     "output_type": "stream",
     "text": [
      "3\n"
     ]
    }
   ],
   "source": [
    "print(d[\"a\"]+d[\"b\"])"
   ]
  },
  {
   "cell_type": "markdown",
   "metadata": {},
   "source": [
    "Let wel op: dit kan enkel indien de *sleutel* (\"a\" en \"b\") in dit geval ook voorkomen in de dictionary; anders krijg je een foutmelding:"
   ]
  },
  {
   "cell_type": "code",
   "execution_count": 3,
   "metadata": {},
   "outputs": [
    {
     "ename": "KeyError",
     "evalue": "'c'",
     "output_type": "error",
     "traceback": [
      "\u001b[1;31m---------------------------------------------------------------------------\u001b[0m",
      "\u001b[1;31mKeyError\u001b[0m                                  Traceback (most recent call last)",
      "\u001b[1;32m<ipython-input-3-e4e45004c53e>\u001b[0m in \u001b[0;36m<module>\u001b[1;34m\u001b[0m\n\u001b[1;32m----> 1\u001b[1;33m \u001b[0mprint\u001b[0m\u001b[1;33m(\u001b[0m\u001b[0md\u001b[0m\u001b[1;33m[\u001b[0m\u001b[1;34m\"c\"\u001b[0m\u001b[1;33m]\u001b[0m\u001b[1;33m)\u001b[0m\u001b[1;33m\u001b[0m\u001b[1;33m\u001b[0m\u001b[0m\n\u001b[0m",
      "\u001b[1;31mKeyError\u001b[0m: 'c'"
     ]
    }
   ],
   "source": [
    "print(d[\"c\"])"
   ]
  },
  {
   "cell_type": "markdown",
   "metadata": {},
   "source": [
    "Je kan testen of een key al toegekend is door gebruik te maken van *in*:"
   ]
  },
  {
   "cell_type": "code",
   "execution_count": 4,
   "metadata": {},
   "outputs": [
    {
     "name": "stdout",
     "output_type": "stream",
     "text": [
      "Key? d\n",
      "Key bestaat niet.\n"
     ]
    }
   ],
   "source": [
    "key=input(\"Key? \")\n",
    "if key in d:\n",
    "    print(d[key])\n",
    "else:\n",
    "    print(\"Key bestaat niet.\")\n",
    "    "
   ]
  },
  {
   "cell_type": "markdown",
   "metadata": {},
   "source": [
    "Over alle keys in een dictionary lopen doen we opnieuw met een *for*-loop. Let wel: er is geen enkele garantie over de volgorde waarin de keys worden doorlopen. Dit hoeft niet de volgorde van toevoeging te zijn en ook niet gesorteerd; de volgorde is willekeuring."
   ]
  },
  {
   "cell_type": "code",
   "execution_count": 5,
   "metadata": {},
   "outputs": [
    {
     "name": "stdout",
     "output_type": "stream",
     "text": [
      "{'a': 1, 'b': 2}\n",
      "a |-> 1\n",
      "b |-> 2\n"
     ]
    }
   ],
   "source": [
    "print(d)\n",
    "for key in d:\n",
    "    print(key,\"|->\",d[key])"
   ]
  },
  {
   "cell_type": "markdown",
   "metadata": {},
   "source": [
    "Soms is het handig om een dictionary manueel al in te vullen. Dit kan met de notatie { key:value, key:value, ... }. Neem bijvoorbeeld volgende dictionary die namen van kleuren mapt op getallen:"
   ]
  },
  {
   "cell_type": "code",
   "execution_count": 6,
   "metadata": {},
   "outputs": [
    {
     "name": "stdout",
     "output_type": "stream",
     "text": [
      "1\n"
     ]
    }
   ],
   "source": [
    "code={\"geel\":1,\"rood\":2,\"groen\":3,\"blauw\":4}\n",
    "print(code[\"geel\"])"
   ]
  },
  {
   "cell_type": "markdown",
   "metadata": {},
   "source": [
    "Merk op dat je een lege dictonary kan aanmaken als volgt: *d={}*. Dit is ook de reden voor de inconsistentie bij het aanmaken van lege containers:"
   ]
  },
  {
   "cell_type": "code",
   "execution_count": 7,
   "metadata": {},
   "outputs": [],
   "source": [
    "L=[] # lege lijst\n",
    "d={} # lege dictionary\n",
    "t=() # lege tuple\n",
    "s=set() # lege set ; we kunnen {} niet gebruiken want dat is al in gebruik voor dictionaries\n",
    "\n",
    "# alternatief om lege containers aan te maken:\n",
    "L=list()\n",
    "d=dict()\n",
    "t=tuple()\n",
    "s=set()\n",
    "\n",
    "# geinitialiseerde containers:\n",
    "L1=[1] \n",
    "s1=\"a\"\n",
    "d1={\"a\":1}\n",
    "t=(\"a\") \n",
    "s={\"a\"}  # nu kunnen we wel de notatie met { en } gebruiken omdat er geen ambiguiteit is"
   ]
  },
  {
   "cell_type": "markdown",
   "metadata": {},
   "source": [
    "Dictionaries zijn erg handig, bijvoorbeeld om te tellen hoe vaak bepaalde getallen, letters, woorden, ... voorkomen:"
   ]
  },
  {
   "cell_type": "code",
   "execution_count": 8,
   "metadata": {},
   "outputs": [
    {
     "name": "stdout",
     "output_type": "stream",
     "text": [
      "Frequentie van de letters:\n",
      "a |-> 8\n",
      "t |-> 7\n",
      "i |-> 10\n",
      "s |-> 4\n",
      "d |-> 5\n",
      "e |-> 17\n",
      "z |-> 6\n",
      "n |-> 14\n",
      "v |-> 3\n",
      "h |-> 4\n",
      "l |-> 4\n",
      "o |-> 3\n",
      "u |-> 1\n",
      "k |-> 2\n",
      "g |-> 3\n",
      "b |-> 2\n",
      "w |-> 1\n",
      "y |-> 1\n",
      "p |-> 1\n",
      "r |-> 3\n",
      "m |-> 2\n"
     ]
    }
   ],
   "source": [
    "# tel hoe vaak elke letter voorkomt in volgende zin:\n",
    "zin=\"Wat is de zin van het leven? Wat is de zin van deze zin? Is het onzin? Gelukkig hebben we zin in Python. (de programmeertaal, niet de slang)\"\n",
    "teller={} # lege dictionary\n",
    "\n",
    "for letter in zin:\n",
    "    if letter in teller:\n",
    "        teller[letter]=teller[letter]+1  # bestaat al, dus een bij optellen\n",
    "    else:\n",
    "        teller[letter]=1   # is de eerste keer dat we deze letter zien, dus count is 1\n",
    "        \n",
    "print(\"Frequentie van de letters:\")\n",
    "for key in teller:\n",
    "    if key in \"abcdefghijklmnopqrstuvwxyz\":\n",
    "        print(key,\"|->\",teller[key])"
   ]
  },
  {
   "cell_type": "markdown",
   "metadata": {},
   "source": [
    "Enkele uitbreidingen: we kunnen een lijst opvragen van alle keys in een dictionary met de functie *dict.keys()*. Dit kan handig zijn als we bijvoorbeeld de keys gesorteerd willen overlopen:"
   ]
  },
  {
   "cell_type": "code",
   "execution_count": 9,
   "metadata": {},
   "outputs": [
    {
     "name": "stdout",
     "output_type": "stream",
     "text": [
      "Frequentie van de letters:\n",
      "a |-> 8\n",
      "b |-> 2\n",
      "d |-> 5\n",
      "e |-> 17\n",
      "g |-> 3\n",
      "h |-> 4\n",
      "i |-> 10\n",
      "k |-> 2\n",
      "l |-> 4\n",
      "m |-> 2\n",
      "n |-> 14\n",
      "o |-> 3\n",
      "p |-> 1\n",
      "r |-> 3\n",
      "s |-> 4\n",
      "t |-> 7\n",
      "u |-> 1\n",
      "v |-> 3\n",
      "w |-> 1\n",
      "y |-> 1\n",
      "z |-> 6\n"
     ]
    }
   ],
   "source": [
    "print(\"Frequentie van de letters:\")\n",
    "letters=list(teller.keys())   #  We moeten er expliciet een lijst van maken; zoals bij range\n",
    "letters.sort()\n",
    "for key in letters:\n",
    "    if key in \"abcdefghijklmnopqrstuvwxyz\":\n",
    "        print(key,\"|->\",teller[key])"
   ]
  },
  {
   "cell_type": "code",
   "execution_count": null,
   "metadata": {},
   "outputs": [],
   "source": []
  }
 ],
 "metadata": {
  "kernelspec": {
   "display_name": "Python 3",
   "language": "python",
   "name": "python3"
  },
  "language_info": {
   "codemirror_mode": {
    "name": "ipython",
    "version": 3
   },
   "file_extension": ".py",
   "mimetype": "text/x-python",
   "name": "python",
   "nbconvert_exporter": "python",
   "pygments_lexer": "ipython3",
   "version": "3.8.3"
  }
 },
 "nbformat": 4,
 "nbformat_minor": 4
}
