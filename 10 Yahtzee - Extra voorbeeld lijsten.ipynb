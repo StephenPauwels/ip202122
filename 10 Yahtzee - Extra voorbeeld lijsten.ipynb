{
 "cells": [
  {
   "cell_type": "markdown",
   "metadata": {},
   "source": [
    "# Voorbeeld : Yahtzee\n",
    "\n",
    "In deze notebook gaan we een aantal concepten van het dobbelspel Yahtzee implementeren. Voor een kort overzicht van dit spel, zie [Wikipedia](https://nl.wikipedia.org/wiki/Yahtzee). Om een worp te simuleren maken we gebruik van de functie `randint(1,6)` die een pseudo-random getal genereert van 1 tot 6. Met pseudo-random bedoelen we dat er achterliggend een algoritme gebrukt wordt dat de getallen genereert, maar dat dit algoritme voldoende onvoorspelbaar is voor de meeste toepassingen waarbij toeval een belangrijke rol speelt, zoals spelletjes. Deze functie biedt echter onvoldoende garanties voor toepassingen in domeinen zoals cryptografie."
   ]
  },
  {
   "cell_type": "code",
   "execution_count": 6,
   "metadata": {},
   "outputs": [
    {
     "name": "stdout",
     "output_type": "stream",
     "text": [
      "6\n"
     ]
    }
   ],
   "source": [
    "from random import randint\n",
    "\n",
    "print(randint(1,6))"
   ]
  },
  {
   "cell_type": "markdown",
   "metadata": {},
   "source": [
    "Een willekeurige worp met 5 dobbelstenen kan nu voorgesteld worden door een lijst met 5 random elementen van 1 tot en met 6."
   ]
  },
  {
   "cell_type": "code",
   "execution_count": 7,
   "metadata": {},
   "outputs": [
    {
     "name": "stdout",
     "output_type": "stream",
     "text": [
      "[6, 6, 5, 4, 4]\n"
     ]
    }
   ],
   "source": [
    "def worp():\n",
    "    D=[]\n",
    "    for i in range(5):\n",
    "        D.append(randint(1,6))\n",
    "    return D\n",
    "\n",
    "print(worp())"
   ]
  },
  {
   "cell_type": "markdown",
   "metadata": {},
   "source": [
    "## Yahtzee bepalen\n",
    "\n",
    "Het Walhala van de Yahtzee speler is een worp met 5 maal dezelfde cijferwaarde. Hoe groot is nu de kans op zo'n worp? Hoewel het perfect mogelijk is om door middel van combinatieleer deze kans te bepalen, zullen we hier een simulatie gebruiken omdat het nu eenmaal de bedoeling van deze cursus is om te leren programmeren.\n",
    "\n",
    "Volgende twee functies bepalen beiden of een worp Yahtzee is. Bekijk ze grondig en probeer te begrijpen hoe en waarom ze werken. Eventueel kan je Python Tutor gebruiken om beide voorbeelden te doorlopen: [Voorbeeld1](http://www.pythontutor.com/visualize.html#code=def%20yahtzee%28worp%29%3A%0A%20%20%20%20for%20i%20in%20range%281,5%29%3A%0A%20%20%20%20%20%20%20%20if%20worp%5Bi%5D!%3Dworp%5B0%5D%3A%0A%20%20%20%20%20%20%20%20%20%20%20%20return%20False%0A%20%20%20%20return%20True%0A%20%20%20%20%0Aprint%28yahtzee%28%5B1,1,1,2,1%5D%29%29%0Aprint%28yahtzee%28%5B5,5,5,5,5%5D%29%29&cumulative=false&curInstr=0&heapPrimitives=false&mode=display&origin=opt-frontend.js&py=3&rawInputLstJSON=%5B%5D&textReferences=false) en [Voorbeeld2](http://www.pythontutor.com/visualize.html#code=def%20yahtzee%28worp%29%3A%0A%20%20%20%20teller%3D%5B0,0,0,0,0,0%5D%0A%20%20%20%20for%20i%20in%20range%285%29%3A%0A%20%20%20%20%20%20%20%20teller%5Bworp%5Bi%5D-1%5D%2B%3D1%0A%20%20%20%20return%205%20in%20teller%0A%20%20%20%20%0Aprint%28yahtzee%28%5B1,2,1,1,1%5D%29%29%0Aprint%28yahtzee%28%5B6,6,6,6,6%5D%29%29%0A&cumulative=false&curInstr=0&heapPrimitives=false&mode=display&origin=opt-frontend.js&py=3&rawInputLstJSON=%5B%5D&textReferences=false)"
   ]
  },
  {
   "cell_type": "code",
   "execution_count": 8,
   "metadata": {},
   "outputs": [],
   "source": [
    "def yahtzee1(worp):\n",
    "    for i in range(1,5):\n",
    "        if worp[i]!=worp[0]:\n",
    "            return False\n",
    "    return True\n",
    "\n",
    "def yahtzee2(worp):\n",
    "    teller=[0,0,0,0,0,0]\n",
    "    for i in range(5):\n",
    "        teller[worp[i]-1]+=1\n",
    "    return 5 in teller\n"
   ]
  },
  {
   "cell_type": "markdown",
   "metadata": {},
   "source": [
    "## Kans op Yahtzee via simulatie bepalen\n",
    "\n",
    "Om de kans te bepalen op Yahtzee in 1 worp voeren we een groot aantal simulaties uit en tellen de kans op succes."
   ]
  },
  {
   "cell_type": "code",
   "execution_count": 9,
   "metadata": {},
   "outputs": [
    {
     "name": "stdout",
     "output_type": "stream",
     "text": [
      "0.0006\n"
     ]
    }
   ],
   "source": [
    "nSimulaties=100000\n",
    "succes=0\n",
    "for i in range(nSimulaties):\n",
    "    if yahtzee1(worp()):\n",
    "        succes+=1\n",
    "print(succes/nSimulaties)"
   ]
  },
  {
   "cell_type": "markdown",
   "metadata": {},
   "source": [
    "Omdat dit slechts een simulatie is, zal de uitkomst niet exact zijn (de exacte uitkomst is `1/6**4`), maar waarschijnlijk komt het wel aardig in de buurt.\n",
    "\n",
    "Bij een spelletje Yahtzee hebben we echter meer dan 1 beurt om Yahtzee te gooien; we kunnen bijvoorbeeld volgende strategie volgen:\n",
    "- kijk welke dobbelsteen waarde het meeste voorkomt\n",
    "- leg de dobbelstenen met die waarde opzij\n",
    "- gooi met de resterende dobbelstenen opnieuw\n",
    "- herhaal dit totdat de worpen op zijn\n",
    "- Yahtzee? Champagne!\n",
    "\n",
    "Opnieuw is het cruciaal te beslissen hoe we exact te werk zullen gaan en welke data structuren we gebruiken. Om te bepalen welke dobbelsteenwaarde het vaakst voorkomt, lijkt het interessant om te tellen hoe vaak elke waarde gegooid werd. Ook om te bepalen of de worp Yahtzee is, is dat handig (zie de functie `yahtzee2(worp)` hierboven). We gaan daarom deze functionaliteit, dat is: tellen hoe vaak elke dobbelwaarde in een worp voorkomt, in een aparte functie plaatsen:"
   ]
  },
  {
   "cell_type": "code",
   "execution_count": 10,
   "metadata": {},
   "outputs": [
    {
     "name": "stdout",
     "output_type": "stream",
     "text": [
      "[1, 1, 1, 1, 1, 0]\n",
      "[0, 1, 1, 1, 1, 1]\n",
      "[2, 1, 2, 0, 0, 0]\n"
     ]
    }
   ],
   "source": [
    "def tel(worp):\n",
    "    teller=[0,0,0,0,0,0]\n",
    "    for i in range(len(worp)):\n",
    "        teller[worp[i]-1]+=1\n",
    "    return teller\n",
    "\n",
    "# Een paar testen:\n",
    "print(tel([1,2,3,4,5]))\n",
    "print(tel([2,3,4,5,6]))\n",
    "print(tel([2,3,3,1,1]))    "
   ]
  },
  {
   "cell_type": "markdown",
   "metadata": {},
   "source": [
    "We kunnen nu bepalen welke cijferwaarde het meeste aantal keren werd gegooid en hoe vaak dat dan was, met behulp van de functie `tel(worp)`."
   ]
  },
  {
   "cell_type": "code",
   "execution_count": 11,
   "metadata": {},
   "outputs": [
    {
     "name": "stdout",
     "output_type": "stream",
     "text": [
      "(1, 1)\n",
      "(2, 1)\n",
      "(1, 2)\n",
      "(6, 2)\n"
     ]
    }
   ],
   "source": [
    "def grootste(worp):\n",
    "    \"\"\"\n",
    "    worp: lijst van dobbelwaarden\n",
    "    \n",
    "    output: (d,n) waarbij d de dobbelsteenwaarde is die het meest geworpen werd\n",
    "            en n het aantal keer is dat die geworpen werd\n",
    "    \"\"\"\n",
    "    C=tel(worp)\n",
    "    maxAantal=0\n",
    "    maxCijfer=0\n",
    "    for i in range(6):\n",
    "        if C[i]>maxAantal:\n",
    "            maxAantal=C[i]\n",
    "            maxCijfer=i+1\n",
    "    return (maxCijfer,maxAantal)\n",
    "\n",
    "print(grootste([1,2,3,4,5]))\n",
    "print(grootste([2,3,4,5,6]))\n",
    "print(grootste([2,3,3,1,1]))\n",
    "print(grootste([6, 6, 1, 2, 4]))"
   ]
  },
  {
   "cell_type": "markdown",
   "metadata": {},
   "source": [
    "We gaan dus 3 maal werpen, maar niet met alle dobbelstenen; we passen de functie werp dus aan:"
   ]
  },
  {
   "cell_type": "code",
   "execution_count": 12,
   "metadata": {},
   "outputs": [],
   "source": [
    "def werp(n): # werp n dobbelstenen\n",
    "    D=[]\n",
    "    for i in range(n):\n",
    "        D.append(randint(1,6))\n",
    "    return D\n",
    "\n",
    "def yahtzee(worp):\n",
    "    return 5 in tel(worp)"
   ]
  },
  {
   "cell_type": "markdown",
   "metadata": {},
   "source": [
    "We gaan 3 maal volgende procedure volgen:\n",
    "- gooi alle nog te werpen dobbelstenen\n",
    "- voeg die samen met de dobbelstenen die we opzij legden\n",
    "- kijk welke cijferwaarde maximaal voorkomt\n",
    "- leg deze dobbelstenen opzij\n",
    "\n",
    "In code ziet deze procedure er als volgt uit:"
   ]
  },
  {
   "cell_type": "code",
   "execution_count": 13,
   "metadata": {},
   "outputs": [
    {
     "name": "stdout",
     "output_type": "stream",
     "text": [
      "Worp 1 : [2, 6, 1, 2, 6]\n",
      "We leggen opzij : [2, 2]\n",
      "Worp 2 : [6, 1, 5]\n",
      "We leggen opzij : [2, 2]\n",
      "Worp 3 : [5, 2, 6]\n",
      "We leggen opzij : [2, 2, 2]\n"
     ]
    }
   ],
   "source": [
    "teWerpen=5 # aantal dobbelstenen die niet opzij gelegd zijn\n",
    "opzij=[] # opzij gelegde cijferwaarden\n",
    "for i in range(3): # we hebben 3 worpen\n",
    "    W=werp(teWerpen)\n",
    "    print(\"Worp\",i+1,':',W)\n",
    "    (d,n)=grootste(opzij+W)\n",
    "    opzij=[d]*n\n",
    "    print(\"We leggen opzij :\",opzij)\n",
    "    teWerpen=5-n\n",
    "    \n",
    "if yahtzee(opzij):\n",
    "    print(\"Champagne!\")"
   ]
  },
  {
   "cell_type": "markdown",
   "metadata": {},
   "source": [
    "Deze stappen moeten we nu een aantal keer uitvoeren om te simuleren:"
   ]
  },
  {
   "cell_type": "code",
   "execution_count": 14,
   "metadata": {},
   "outputs": [
    {
     "name": "stdout",
     "output_type": "stream",
     "text": [
      "448 / 10000\n"
     ]
    }
   ],
   "source": [
    "def simulatieStap():\n",
    "    teWerpen=5 # aantal dobbelstenen die niet opzij gelegd zijn\n",
    "    opzij=[] # opzij gelegde cijferwaarden\n",
    "    for i in range(3): # we hebben 3 worpen\n",
    "        W=werp(teWerpen)\n",
    "        (d,n)=grootste(opzij+W)\n",
    "        opzij=[d]*n\n",
    "        teWerpen=5-n\n",
    "\n",
    "    if len(opzij)==5:\n",
    "        return True\n",
    "    else:\n",
    "        return False\n",
    "\n",
    "nSimulaties=10000\n",
    "succes=0\n",
    "for i in range(nSimulaties):\n",
    "    if simulatieStap():\n",
    "        succes+=1\n",
    "print(succes,\"/\",nSimulaties)"
   ]
  },
  {
   "cell_type": "markdown",
   "metadata": {},
   "source": [
    "Zoals je kan zien is de kans aanzienlijk hoger! Merk wel op dat we ook een dobbelsteen opzij leggen als we 5 verschillende waarden wierpen. In volgende code testen we of het wat uitmaakt :"
   ]
  },
  {
   "cell_type": "code",
   "execution_count": 16,
   "metadata": {},
   "outputs": [
    {
     "name": "stdout",
     "output_type": "stream",
     "text": [
      "strategie 1: 424 / 10000\n",
      "strategie 2: 469 / 10000\n"
     ]
    }
   ],
   "source": [
    "def simulatieStap2():\n",
    "    teWerpen=5 # aantal dobbelstenen die niet opzij gelegd zijn\n",
    "    opzij=[] # opzij gelegde cijferwaarden\n",
    "    for i in range(3): # we hebben 3 worpen\n",
    "        W=werp(teWerpen)\n",
    "        (d,n)=grootste(opzij+W)\n",
    "        if n>1:\n",
    "            opzij=[d]*n\n",
    "            teWerpen=5-n\n",
    "        else:\n",
    "            opzij=[]\n",
    "            teWerpen=5\n",
    "    if len(opzij)==5:\n",
    "        return True\n",
    "    else:\n",
    "        return False\n",
    "\n",
    "nSimulaties=10000\n",
    "succes=0\n",
    "succes2=0\n",
    "for i in range(nSimulaties):\n",
    "    if simulatieStap2():\n",
    "        succes2+=1\n",
    "    if simulatieStap():\n",
    "        succes+=1\n",
    "print(\"strategie 1:\",succes,\"/\",nSimulaties)\n",
    "print(\"strategie 2:\",succes2,\"/\",nSimulaties)"
   ]
  },
  {
   "cell_type": "markdown",
   "metadata": {},
   "source": [
    "Intuïtief zou de kans licht worden, maar de getallen liggen zo dicht bij elkaar dat het verschil eigenlijk bijna niet te onderscheiden is via simulatie, tenzij je het aantal simulatiestappen erg groot maakt. Toch maar blijven opletten bij wiskunde om te leren hoe je een [exacte oplossing](http://datagenetics.com/blog/january42012/index.html) kan uitrekenen.\n",
    "\n",
    "Een uitdaging voor jou: is deze procedure nog verder te optimaliseren? Misschien kan je bij twee keer dezelfde waarde ook beter alles opnieuw werpen? Aan jou om dit uit te zoeken!"
   ]
  },
  {
   "cell_type": "code",
   "execution_count": null,
   "metadata": {},
   "outputs": [],
   "source": []
  },
  {
   "cell_type": "markdown",
   "metadata": {},
   "source": [
    "## Afsluitende noot\n",
    "\n",
    "Er zijn honderden manieren (of in ieder geval: heel veel) om te bepalen of een worp yahtzee is. Sommige zijn eleganter, andere sneller, slimmer, of korter. Volg zoveel mogelijk de aanwijzingen die we tijdens de lessen geven, en verder: het belangrijkste is in de eerste plaats dat de code werkt; *it ain't stupid if it works!* ![](balancing.JPG)"
   ]
  },
  {
   "cell_type": "code",
   "execution_count": null,
   "metadata": {},
   "outputs": [],
   "source": []
  }
 ],
 "metadata": {
  "kernelspec": {
   "display_name": "Python 3",
   "language": "python",
   "name": "python3"
  },
  "language_info": {
   "codemirror_mode": {
    "name": "ipython",
    "version": 3
   },
   "file_extension": ".py",
   "mimetype": "text/x-python",
   "name": "python",
   "nbconvert_exporter": "python",
   "pygments_lexer": "ipython3",
   "version": "3.8.3"
  }
 },
 "nbformat": 4,
 "nbformat_minor": 4
}
