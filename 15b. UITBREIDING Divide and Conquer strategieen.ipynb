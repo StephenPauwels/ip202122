{
 "cells": [
  {
   "cell_type": "markdown",
   "metadata": {},
   "source": [
    "# Divide and Conquer\n",
    "\n",
    "Recursie wordt typisch gebruikt bij *divide-and-conquer* strategieen: een probleem opsplitsen in deelproblemen van hetzelfde type maar met een lagere complexiteit.\n",
    "\n",
    "![.](images/divideAndConquer.jpg)\n",
    "\n",
    "Divide and conquer = oplossingsstrategie\n",
    "- Complex probleem wordt opgesplitst in deelproblemen\n",
    "- Deelproblemen zijn eenvoudiger\n",
    "- Dit doen we recursief tot basisgeval met triviale oplossing\n",
    "\n",
    "## Voorbeelden Divide-and-Conquer\n",
    "\n",
    "Als we een lesrooster willen opstarten dan kunnen we de theorieles van Inleiding programmeren op maandag uren 1 en 2 zetten, en moeten we alle vakken behalve inleiding programmeren inplannen in alle uren behalve maandag 1 en 2. Of, IP moet op maandag uren 3 en 4 en alle andere vakken in een van de andere slots, etc. Hier splitsen we dus op in volgende deelproblemen:\n",
    "- maak een rooster met IP om maandag 1&2\n",
    "- maak een rooster met IP op maandag 3&4\n",
    "- ...\n",
    "- maak een rooster met IP op vrijdag 7&8\n",
    "\n",
    "Het basisgeval is dat alle vakken correct ingepland zijn.\n",
    "\n",
    "Je wil de kortste route van gebouw G naar jou thuis plannen. Een van de volgende deelproblemen zal de kortste route geven:\n",
    "- verlaat gebouw G langs de achterkant en bereken de kortste route vanaf de achterkant van gebouw G tot bij je thuis,\n",
    "- of: verlaat gebouw G langs de voorkant en bereken de kortste route vanaf de voorkant van gebouw G tot bij je thuis.\n",
    "\n",
    "Het basisgeval is dat je thuis bent; dan is de kortste weg gewoon thuis blijven. Dit basisgeval komt ook wel eens voor bij lessen om 8:30 's morgens.\n",
    "\n",
    "\n",
    "### Betalen met minimum aantal munten\n",
    "Volgende recursieve functie berekent of je een gegeven bedrag `b` kan betalen met minder dan `n` euromunten (1 cent, 2 cent, 5 cent, 10 cent, 20 cent, 50 cent , 1 euro, 2 euro)."
   ]
  },
  {
   "cell_type": "code",
   "execution_count": 1,
   "metadata": {},
   "outputs": [
    {
     "name": "stdout",
     "output_type": "stream",
     "text": [
      "False\n",
      "True\n",
      "True\n",
      "True\n"
     ]
    }
   ],
   "source": [
    "def betalen(b,n,munten):\n",
    "    \"\"\"\n",
    "    Kan ik een bedrag van b cent betalen met minder dan n munten?\n",
    "    Ik heb de keuze uit munten met bedrag in munten\n",
    "    \"\"\"\n",
    "    if b==0:  # basisgeval: exact bedrag bereikt\n",
    "        return True\n",
    "    elif b<0 or n==0 or len(munten)==0: # basisgeval: geen oplossing gevonden\n",
    "        return False\n",
    "    # algemeen geval\n",
    "    m=munten[0]\n",
    "    muntenzonderm=munten[1:]\n",
    "    \n",
    "    return betalen(b-m,n-1,munten) or betalen(b,n,muntenzonderm)\n",
    "\n",
    "    \n",
    "def betalenMetMax(b,n):\n",
    "    return betalen(b,n,[1,2,5,10,20,50,100,200])\n",
    "\n",
    "print(betalenMetMax(134,4))\n",
    "print(betalenMetMax(134,5))\n",
    "print(betalenMetMax(134,7))\n",
    "print(betalenMetMax(135,4))"
   ]
  },
  {
   "cell_type": "markdown",
   "metadata": {},
   "source": [
    "### Sublijsten\n",
    "\n",
    "Gegeven een lijst `L`, maak een lijst van alle deellijsten van `L`. Dit doen we als volgt:\n",
    "- Als `L==[]`, dan is de lijst van deellijsten gelijk aan `[ [] ]`; enkel de lege lijst is een deellijst van de lege lijst\n",
    "- In het andere geval nemen we 1 element uit `L` weg en krijgen we `Lzondera`. We genereren alle deellijsten van `Lzondera`. Elke deellijst van `Lzondera` is een deellijst van `L` en bovendien is elke deellijst van `Lzondera` waar we `a` aan toevoegen ook een deellijst."
   ]
  },
  {
   "cell_type": "code",
   "execution_count": 3,
   "metadata": {},
   "outputs": [
    {
     "name": "stdout",
     "output_type": "stream",
     "text": [
      "[[], [4], [3], [3, 4], [2], [2, 4], [2, 3], [2, 3, 4], [1], [1, 4], [1, 3], [1, 3, 4], [1, 2], [1, 2, 4], [1, 2, 3], [1, 2, 3, 4]]\n"
     ]
    }
   ],
   "source": [
    "from copy import copy\n",
    "\n",
    "def deelLijsten(L):\n",
    "    if L==[]:\n",
    "        return [ [] ]\n",
    "    else:\n",
    "        a=L[0]\n",
    "        Lzondera=L[1:]\n",
    "        deelLijstenLzondera=deelLijsten(Lzondera)\n",
    "        result=copy(deelLijstenLzondera)\n",
    "        for dl in deelLijstenLzondera:\n",
    "            result.append([a]+dl)\n",
    "        return result\n",
    "\n",
    "L=[1,2,3,4]\n",
    "print(deelLijsten(L))"
   ]
  },
  {
   "cell_type": "markdown",
   "metadata": {},
   "source": [
    "### Torens van Hanoi\n",
    "Bij het spel \"[Torens van Hanoi](https://nl.wikipedia.org/wiki/Torens_van_Hanoi)\", moet je schijven die van groot naar klein gestapeld zijn op een staak, verplaatsen naar een andere staak, zonder ooit een grotere schijf op een kleinere schijf te plaatsen. Hierbij kan gebruik gemaakt worden van één hulpstaak.\n",
    "![](images/hanoi.gif)\n",
    "We moeten dus in dit geval 4 schijven verplaatsen van staak A naar staak C, waarbij we tussendoor staak B mogen gebruiken. \n",
    "\n",
    "We raden je aan om eerst zelf even te proberen te bedenken hoe je dit probleem kan oplossen, vooraleer verder te lezen.\n",
    "\n",
    "Je kan dit probleem als volgt oplossen:"
   ]
  },
  {
   "cell_type": "raw",
   "metadata": {},
   "source": [
    "hanoi met n schijven op staak A, te verplaatsen naar staak C, B is hulpstaak:\n",
    "- verplaats eerst de bovenste n-1 schijven van A naar B, je kan C als hulpstaak gebruiken\n",
    "- verplaats de grootste schijf van A naar C\n",
    "- verplaats het torentje met n-1 schijven van B naar C, je kan A als hulpstaak gebruiken"
   ]
  },
  {
   "cell_type": "markdown",
   "metadata": {},
   "source": [
    "Je hebt dus het probleem (een toren van $n$ schijven) herleidt tot twee kleinere problemen (twee maal een toren met $n-1$ schijven verplaatsen, en tussendoor de grootste schij verplaatsen). Elk van de torens met $n-1$ schijven verplaatsen kan je dan weer opnieuw telkens opsplitsen 2 maal een toren met $n-2$ schijven verplaatsen, ...  Het basisgeval is een toren met 1 schijf verplaatsen, wat triviaal is: verplaats de schijf van A naar C. De code ziet er als volgt uit:"
   ]
  },
  {
   "cell_type": "code",
   "execution_count": 8,
   "metadata": {},
   "outputs": [
    {
     "name": "stdout",
     "output_type": "stream",
     "text": [
      "schijf 1 van A naar C\n",
      "schijf 2 van A naar B\n",
      "schijf 1 van C naar B\n",
      "schijf 3 van A naar C\n",
      "schijf 1 van B naar A\n",
      "schijf 2 van B naar C\n",
      "schijf 1 van A naar C\n"
     ]
    }
   ],
   "source": [
    "def hanoi(n,A,B,C):\n",
    "    if n==1:\n",
    "        print(\"schijf 1 van\",A,\"naar\",C)\n",
    "    else:\n",
    "        hanoi(n-1,A,C,B)\n",
    "        print(\"schijf\",n,\"van\",A,\"naar\",C)\n",
    "        hanoi(n-1,B,A,C)\n",
    "        \n",
    "hanoi(3,\"A\",\"B\",\"C\")"
   ]
  },
  {
   "cell_type": "code",
   "execution_count": null,
   "metadata": {},
   "outputs": [],
   "source": []
  }
 ],
 "metadata": {
  "kernelspec": {
   "display_name": "Python 3",
   "language": "python",
   "name": "python3"
  },
  "language_info": {
   "codemirror_mode": {
    "name": "ipython",
    "version": 3
   },
   "file_extension": ".py",
   "mimetype": "text/x-python",
   "name": "python",
   "nbconvert_exporter": "python",
   "pygments_lexer": "ipython3",
   "version": "3.8.3"
  }
 },
 "nbformat": 4,
 "nbformat_minor": 4
}