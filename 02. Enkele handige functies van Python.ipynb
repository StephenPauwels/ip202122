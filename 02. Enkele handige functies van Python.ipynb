{
 "cells": [
  {
   "cell_type": "markdown",
   "metadata": {},
   "source": [
    "# Standaard functies Python\n",
    "\n",
    "Python voorzien zelf enkele handige functies, bijvoorbeeld om in- en uitvoer te geven. Dit noemen we standaard functies. Een voorbeeld hiervan is de functie *print* om dingen af te drukken. \n",
    "\n",
    "## Invoer\n",
    "Een andere handige functie is *input*:"
   ]
  },
  {
   "cell_type": "code",
   "execution_count": 3,
   "metadata": {},
   "outputs": [
    {
     "name": "stdout",
     "output_type": "stream",
     "text": [
      "Geef jouw voornaam: Arthur\n",
      "Geef jour achternaam: Dent\n",
      "Hallo Arthur Dent !\n"
     ]
    }
   ],
   "source": [
    "voornaam = input(\"Geef jouw voornaam: \")\n",
    "achternaam = input(\"Geef jour achternaam: \")\n",
    "\n",
    "print(\"Hallo\",voornaam,achternaam,\"!\")"
   ]
  },
  {
   "cell_type": "markdown",
   "metadata": {},
   "source": [
    "## Conversies\n",
    "\n",
    "De functie *input* geeft standaard een waarde terug van het *type* *string*; dat wil zeggen: een tekenreeks. Soms willen we echter getallen inlezen en dan moeten we de tekenreeks dus omzetten in een getal om vreemde resultaten te vermijden. Bijvoorbeeld:"
   ]
  },
  {
   "cell_type": "code",
   "execution_count": 5,
   "metadata": {},
   "outputs": [
    {
     "name": "stdout",
     "output_type": "stream",
     "text": [
      "Geef een getal :4\n",
      "Geef een getal :2\n",
      "De som van deze twee getallen is 42\n"
     ]
    }
   ],
   "source": [
    "getal1=input(\"Geef een getal :\")\n",
    "getal2=input(\"Geef een getal :\")\n",
    "\n",
    "print(\"De som van deze twee getallen is\",getal1+getal2)"
   ]
  },
  {
   "cell_type": "markdown",
   "metadata": {},
   "source": [
    "Als je de getallen *4* en *2* als invoer geeft, dan krijg je *42* terug. Hoe komt dit? Python beschouwt jouw invoer 4 als de tekenreeks bestaande uit het symbool \"4\", en input 2 als de tekenreeks \"2\". De plus-operator op strings gaat vervolgens deze twee strings aan elkaar plakken. Voor Python had je net zo goed \"ab\" en \"ba\" als invoer kunnen geven en dan had hij \"ab\"+\"ba\" = \"abba\" als antwoord gegeven.\n",
    "\n",
    "Om dit te vermijden moeten we de tekenreeks omzetten in een getal. Dit kan met behulp van de *conversie-functie* *int*:"
   ]
  },
  {
   "cell_type": "code",
   "execution_count": 6,
   "metadata": {},
   "outputs": [
    {
     "name": "stdout",
     "output_type": "stream",
     "text": [
      "Geef een getal :4\n",
      "Geef een getal :2\n",
      "De som van deze twee getallen is 6\n",
      "De \"som\" van de strings is 42\n"
     ]
    }
   ],
   "source": [
    "s1=input(\"Geef een getal :\")\n",
    "s2=input(\"Geef een getal :\")\n",
    "getal1=int(s1)\n",
    "getal2=int(s2)\n",
    "\n",
    "print(\"De som van deze twee getallen is\",getal1+getal2)\n",
    "print(\"De \\\"som\\\" van de strings is\",s1+s2)"
   ]
  },
  {
   "cell_type": "markdown",
   "metadata": {},
   "source": [
    "We kunnen dit ook ineens de functie *int* toepassen op het resultaat van input:"
   ]
  },
  {
   "cell_type": "code",
   "execution_count": 7,
   "metadata": {},
   "outputs": [
    {
     "name": "stdout",
     "output_type": "stream",
     "text": [
      "Geef een getal :4\n",
      "Geef een getal :2\n",
      "De som van deze twee getallen is 6\n"
     ]
    }
   ],
   "source": [
    "getal1=int(input(\"Geef een getal :\"))\n",
    "getal2=int(input(\"Geef een getal :\"))\n",
    "\n",
    "print(\"De som van deze twee getallen is\",getal1+getal2)"
   ]
  },
  {
   "cell_type": "markdown",
   "metadata": {},
   "source": [
    "Python voorziet een aantal conversiefuncties:\n",
    "- *int(x)* zet *x* om naar een getal;\n",
    "- *str(x)* zet *x* om naar een string;\n",
    "- *float(x)* zet *x* om naar een komma-getal;\n",
    "- *bool(x)* zet *x* om naar een Booleaanse waarheidswaarde (*True* of *False*)"
   ]
  },
  {
   "cell_type": "markdown",
   "metadata": {},
   "source": [
    "## Wiskundige functies\n",
    "\n",
    "Python voorziet ook een boel wiskundige functies, zoals sinus, cosinus, tangens, wortel, etc. Hiervoor moeten we eerst de module *math* importeren:"
   ]
  },
  {
   "cell_type": "code",
   "execution_count": 8,
   "metadata": {},
   "outputs": [
    {
     "name": "stdout",
     "output_type": "stream",
     "text": [
      "4.0 is de wortel van 16\n",
      "1.2246467991473532e-16\n",
      "-1.0\n",
      "-1.2246467991473532e-16\n"
     ]
    }
   ],
   "source": [
    "import math\n",
    "\n",
    "print(str(math.sqrt(16))+\" is de wortel van 16\")\n",
    "print(math.sin(math.pi))  # Je zal zien dat dit een benadering is\n",
    "print(math.cos(math.pi))\n",
    "print(math.tan(math.pi))"
   ]
  },
  {
   "cell_type": "code",
   "execution_count": null,
   "metadata": {},
   "outputs": [],
   "source": []
  }
 ],
 "metadata": {
  "kernelspec": {
   "display_name": "Python 3",
   "language": "python",
   "name": "python3"
  },
  "language_info": {
   "codemirror_mode": {
    "name": "ipython",
    "version": 3
   },
   "file_extension": ".py",
   "mimetype": "text/x-python",
   "name": "python",
   "nbconvert_exporter": "python",
   "pygments_lexer": "ipython3",
   "version": "3.8.3"
  }
 },
 "nbformat": 4,
 "nbformat_minor": 4
}
