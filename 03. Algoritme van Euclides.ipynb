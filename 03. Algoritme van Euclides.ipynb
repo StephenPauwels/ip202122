{
 "cells": [
  {
   "cell_type": "markdown",
   "metadata": {},
   "source": [
    "# Algoritme van Euclides (300 v. Chr.)\n",
    "\n",
    "Algoritmes, dat is, beschrijvingen van systematische manieren om een concreet probleem op te lossen, bestaan al eeuwenlang. Denk bijvoorbeeld aan de technieken die je leerde om getallen neergeschreven in het tientallig stelsel op te tellen, te vermenigvuldigen, of te delen. De technieken die je leerde bestaan uit een aantal vastgelegde stappen die in de juiste volgorde uitgevoerd moeten worden en voor elke mogelijke invoer werken.\n",
    "\n",
    "In deze notebook zullen we het [algoritme van Euclides](https://nl.wikipedia.org/wiki/Algoritme_van_Euclides) dat de grootste gemene deler (GGD) van twee getallen bepaalt, bekijken en implementeren in Python.\n",
    "\n",
    "**In deze notebook is het belangrijk dat je de stappen die worden gemaakt, begrijpt en de code die wordt ontwikkeld, kan lezen. De exacte syntax van de commando's (=correcte manier om commando's in Python te gebruiken) komt in volgende notebooks nog uitgebreid aan bod. Het leerdoel van deze notebook is dus om de basisconstructies van Python op een abstracte manier te leren kennen en inzicht te verwerven in hoe we een probleem omzetten in code.**"
   ]
  },
  {
   "cell_type": "markdown",
   "metadata": {},
   "source": [
    "## Beschrijving van het algoritme van Euclides\n",
    "\n",
    "Het algoritme van Euclides werkt als volgt:"
   ]
  },
  {
   "cell_type": "raw",
   "metadata": {},
   "source": [
    "Probleem: Bepaal GGD van 2 getallen\n",
    "Invoer: 2 getallen\n",
    "Uitvoer: de GGD van deze twee getallen\n",
    "\n",
    "1. Noem het grootste van de beide getallen A, het andere B.\n",
    "2. Trek B net zo vaak van A af totdat er 0 overblijft of een getal kleiner dan B (A mod B).\n",
    "3. Wanneer er 0 overblijft, is B de ggd.\n",
    "4. Zo niet, herhaal dan het algoritme met B en wat er van A over is."
   ]
  },
  {
   "cell_type": "markdown",
   "metadata": {},
   "source": [
    "We illustreren het algoritme met een voorbeeld:"
   ]
  },
  {
   "cell_type": "raw",
   "metadata": {},
   "source": [
    "Bereken de GGD van 35 en 49\n",
    "\n",
    "1. A=49, B=35\n",
    "2. Trek B af van A: A=49-35=14\n",
    "   A (14) is kleiner dan B (35)\n",
    "3. A is niet 0, we moeten dus voort naar stap 4\n",
    "4. We moeten het algoritme herhalen voor 14 en 35\n",
    "\n",
    "\n",
    "Bereken de GGD van 14 en 35\n",
    "\n",
    "1. A=35, B=14\n",
    "2. Trek B af van A: A=35-14=21\n",
    "   A (21) is niet kleiner dan B (14)\n",
    "   Trek B af van A: A=21-14=7\n",
    "   A (7) is nu kleiner dan B (14)  \n",
    "3. A is niet 0, we moeten dus voort naar stap 4\n",
    "4. We moeten het algoritme herhalen voor 7 en 14\n",
    "\n",
    "\n",
    "Bereken de GGD van 7 en 14\n",
    "\n",
    "1. A=14, B=7\n",
    "2. Trek B af van A: A=14-7=7\n",
    "   A (7) is niet kleiner dan B (7)\n",
    "   Trek B af van A: A=7-7=0\n",
    "   A (0) is nu kleiner dan B (7)\n",
    "3. A is 0, dus we kunnen stoppen en de GGD is 7"
   ]
  },
  {
   "cell_type": "markdown",
   "metadata": {},
   "source": [
    "Probeer zelf even een paar voorbeeldjes uit om te testen dat je het algoritme helemaal correct begrepen hebt. Gebruik het algoritme van Euclides om volgende grootste gemene delers na te rekenen:\n",
    "- GGD(64,16) = 16\n",
    "- GGD(23,11) = 1\n",
    "- GGD(51,119) = 17"
   ]
  },
  {
   "cell_type": "markdown",
   "metadata": {},
   "source": [
    "## Implementatie van het algoritme van Euclides in Python"
   ]
  },
  {
   "cell_type": "markdown",
   "metadata": {},
   "source": [
    "We moeten het algoritme nu gaan vertalen in stappen die de *Python interpreter* begrijpt. In grote lijnen gaan we gebruik maken van volgende constructies:\n",
    "- *Invoer* en *uitvoer*\n",
    "- *Variabelen*: Bewaren van een waarde om later te gebruiken\n",
    "- *Conditionele uitvoering*: Indien ... dan ... anders ...\n",
    "- *Herhalingslus*: Zolang ... doe ..."
   ]
  },
  {
   "cell_type": "markdown",
   "metadata": {},
   "source": [
    "### Invoer en uitvoer\n",
    "\n",
    "Voorlopig geven we de invoer van het programma in het programma zelf; dit noemen we *hard coding* van de input. Later zullen we zien hoe we invoer rechtstreeks aan de gebruikers kunnen vragen. We gebruiken de *variabelen* *X* en *Y* om de invoer van ons programma op te slaan; dat is: we geven *X* en *Y* via volgende commando's de waarden waarvan we de grootste gemene deler willen berekenen:"
   ]
  },
  {
   "cell_type": "code",
   "execution_count": 1,
   "metadata": {},
   "outputs": [],
   "source": [
    "X=49\n",
    "Y=35"
   ]
  },
  {
   "cell_type": "markdown",
   "metadata": {},
   "source": [
    "Variabelen zijn grootheden die we zelf definiëren en waarmee we kunnen rekenen:"
   ]
  },
  {
   "cell_type": "code",
   "execution_count": 2,
   "metadata": {},
   "outputs": [
    {
     "data": {
      "text/plain": [
       "133"
      ]
     },
     "execution_count": 2,
     "metadata": {},
     "output_type": "execute_result"
    }
   ],
   "source": [
    "2*X+Y"
   ]
  },
  {
   "cell_type": "markdown",
   "metadata": {},
   "source": [
    "We kunnen het resultaat van een berekening aan een andere variabele toekennen, of zelfs terug aan een van de variabelen die we reeds definieerden:"
   ]
  },
  {
   "cell_type": "code",
   "execution_count": 3,
   "metadata": {},
   "outputs": [],
   "source": [
    "X=X-Y"
   ]
  },
  {
   "cell_type": "markdown",
   "metadata": {},
   "source": [
    "In een notebook kan je het resultaat steeds opvragen door gewoon de variabele naam neer te schrijven:"
   ]
  },
  {
   "cell_type": "code",
   "execution_count": 4,
   "metadata": {},
   "outputs": [
    {
     "data": {
      "text/plain": [
       "14"
      ]
     },
     "execution_count": 4,
     "metadata": {},
     "output_type": "execute_result"
    }
   ],
   "source": [
    "X"
   ]
  },
  {
   "cell_type": "markdown",
   "metadata": {},
   "source": [
    "In een programma kunnen we ook de *functie* *print(.)* gebruiken:"
   ]
  },
  {
   "cell_type": "code",
   "execution_count": 5,
   "metadata": {
    "scrolled": true
   },
   "outputs": [
    {
     "name": "stdout",
     "output_type": "stream",
     "text": [
      "49\n",
      "35\n",
      "49 35\n",
      "147 14\n"
     ]
    }
   ],
   "source": [
    "X=49\n",
    "Y=35\n",
    "\n",
    "print(X) # Geef inhoud van X\n",
    "print(Y) # Geef inhoud van Y\n",
    "print(X,Y) # print zowel X als Y af\n",
    "print(3*X,X-Y) # print het resultaat van de twee bewerkingen\n",
    "               # deze bewerkingen passen het resultaat van X en Y niet aan"
   ]
  },
  {
   "cell_type": "markdown",
   "metadata": {},
   "source": [
    "De eerste twee regels van ons programma zijn dus als volgt:"
   ]
  },
  {
   "cell_type": "code",
   "execution_count": 6,
   "metadata": {},
   "outputs": [],
   "source": [
    "X=49\n",
    "Y=35"
   ]
  },
  {
   "cell_type": "markdown",
   "metadata": {},
   "source": [
    "De Python interpreter zal deze regels na elkaar uitvoeren. Willen we later de grootste gemene deler van 2 andere getallen berekenen, dan moeten we enkel deze twee regels aanpassen om de nieuwe input te geven."
   ]
  },
  {
   "cell_type": "markdown",
   "metadata": {},
   "source": [
    "### Stap 1: Grootste van 2 getallen\n",
    "\n",
    "De eerste stap is de volgende:\n",
    "> 1. Noem het grootste van de beide getallen A, het andere B\n",
    "\n",
    "Uiteraard zouden we dit manueel kunnen doen; aangezien we de invoerwaarden *X* en *Y* hargecodeerd hebben, zouden we bij conventie kunnen voorstellen dat *X* de grootste en *Y* de kleinste waarde moet bevatten. We willen echter algemene code schrijven die niet van zulke aannames moet uitgaan. Later gaan we *X* en *Y* rechtstreeks aan de gebruiker van ons programma vragen en dan moeten we uiteraard er wel rekening mee houden dat de gebruiker mogelijk niet op de hoogte is van deze conventie, of zelfs bewust weigert hiermee rekening te houden.\n",
    "\n",
    "Afhankelijk of de *conditie* *X<Y* waar of vals is, moeten we dus ofwel *A=Y* en *B=X* uitvoeren of *A=X* en *B=Y* zodat *A* de grootste waarde van de twee bevat. Dit noemen we *conditionele uitvoering* en hiervoor zullen we de *if-constructie* moeten gebruiken. Die werkt als volgt: "
   ]
  },
  {
   "cell_type": "code",
   "execution_count": 7,
   "metadata": {},
   "outputs": [
    {
     "name": "stdout",
     "output_type": "stream",
     "text": [
      "49 35\n"
     ]
    }
   ],
   "source": [
    "X=49\n",
    "Y=35\n",
    "\n",
    "if X<Y:    # Als X<Y\n",
    "    A=Y       # Voer dan deze twee\n",
    "    B=X       # regels uit\n",
    "else:      # Anders\n",
    "    A=X       # deze twee\n",
    "    B=Y       # regels\n",
    "    \n",
    "print(A,B)"
   ]
  },
  {
   "cell_type": "markdown",
   "metadata": {},
   "source": [
    "Voer de code uit. Pas *X* en *Y* aan en controleer dat *A* en *B* de juiste waardes krijgen. Bij het schrijven van een *if* moet je letten op volgende syntax-vereisten die door een beginnende programmeur vaak over het hoofd worden gezien:\n",
    "- *if* en *else* hebben geen hoofdletter;\n",
    "- vergeet niet om een dubbele punt (:) te schrijven na de conditie van de *if* en na *else*;\n",
    "- de regels die conditioneel worden uitgevoerd, moeten inspringen. Gebruik hiervoor 4 spaties. Vermijd het mengen van spaties en tabs. Een goede Python editor zal veel van de indentatie voor z'n rekening nemen;\n",
    "- de indentatie van *else* moet terug hetzelfde zijn als die van *if*;\n",
    "- door de code terug te laten inspringen op het niveau van *if* en *else* duid je aan dat het conditionele blok afgelopen is. Dat is: in de code hierboven staat *print* terug op dezelfde hoogte als *if* en *else*. Daaruit leidt de Python interpreter af dat *print(A,B)* niet meer tot de *else*-tak van de conditionele uitvoering behoort.\n",
    "\n",
    "Heb je de code niet helemaal door? Speel dan even met [deze code in de handige tool *Python Tutor*](http://pythontutor.com/iframe-embed.html#code=%23%20Invoer%0AX%20%3D%2049%0AY%20%3D%2035%0A%0Aif%20X%3EY%3A%0A%09A%20%3D%20X%0A%09B%20%3D%20Y%0Aelse%3A%0A%09B%20%3D%20X%0A%09A%20%3D%20Y&codeDivHeight=400&codeDivWidth=350&cumulative=false&curInstr=0&heapPrimitives=false&origin=opt-frontend.js&py=3&rawInputLstJSON=%5B%5D&textReferences=false) waarbij je stap per stap door de code kan lopen en bekijken wat er gebeurt."
   ]
  },
  {
   "cell_type": "markdown",
   "metadata": {},
   "source": [
    "### Stap 2: Bereken A modulo B\n",
    "\n",
    "De tweede stap van het algoritme is de volgende:\n",
    "> 2. Trek B net zo vaak van A af totdat er 0 overblijft of een getal kleiner dan B (A mod B).\n",
    "\n",
    "Merk op dat je op deze manier de rest van de deling *A/B* berekent; als *A=kB+r*, met *r<B*, dan zal je *k* maal *B* van *A* kunnen aftrekken en daarna blijft *r* over.\n",
    "\n",
    "Om deze stap te implementeren zullen we gebruik maken van een *herhalingslus*. Dit is een groep commando's die herhaald worden tot er aan een bepaalde conditie voldaan is. In dit geval moet het volgende gebeuren:"
   ]
  },
  {
   "cell_type": "raw",
   "metadata": {},
   "source": [
    "Zolang B<=A, herhaal:\n",
    "    A = A-B"
   ]
  },
  {
   "cell_type": "markdown",
   "metadata": {},
   "source": [
    "In Python doen we dat met behulp van een *while-loop*:"
   ]
  },
  {
   "cell_type": "code",
   "execution_count": 8,
   "metadata": {},
   "outputs": [],
   "source": [
    "while B<=A:  # Zolang B<A\n",
    "    A = A - B      # Herhaal: A wordt A-B"
   ]
  },
  {
   "cell_type": "markdown",
   "metadata": {},
   "source": [
    "Opnieuw moeten we erop letten dat:\n",
    "- *while* zonder hoofdletter wordt gescheven;\n",
    "- na de conditie een dubbele punt (:) volgt;\n",
    "- de regel(s) die herhaald moeten worden inspringen;\n",
    "- de eerste regel die niet meer herhaald moet worden, springt terug in.\n",
    "\n",
    "Test de code uit met verschillende waardes voor *A* en *B*. Print het resultaat na de *while*-loop af."
   ]
  },
  {
   "cell_type": "markdown",
   "metadata": {},
   "source": [
    "### Stappen 3 en 4 : Herhaal tot *A=0*\n",
    "\n",
    "Stappen 3 en 4 zijn nu als volgt:\n",
    ">3. Wanneer er 0 overblijft, is B de ggd.\n",
    ">4. Zo niet, herhaal dan het algoritme met B en wat er van A over is.\n",
    "\n",
    "Merk op dat hoewel dit is neergeschreven alsof het een opeenvolging van stappen betreft, dit eigenlijk volgende herhaling inhoudt. Merk op dat de rol van A en B net iets anders is dan in het algoritme hierboven, omdat we A en B steeds omwisselen nadat we de herhalingslus van stap 2 hebben uitgevoerd: "
   ]
  },
  {
   "cell_type": "raw",
   "metadata": {},
   "source": [
    "Zolang B niet 0 is, herhaal:\n",
    "    Voer de herhalingslus van stap 2 uit\n",
    "    Wissel A en B om (zodat A terug de grootste is)\n",
    "Het antwoord is A "
   ]
  },
  {
   "cell_type": "markdown",
   "metadata": {},
   "source": [
    "Vergewis jezelf ervan dat deze stappen inderdaad correct zijn door het voorbeeld van het begin van deze notebook nog eens grondig te bekijken."
   ]
  },
  {
   "cell_type": "markdown",
   "metadata": {},
   "source": [
    "#### Omwisselen van *A* en *B*\n",
    "\n",
    "We bekijken nu eerst de code om *A* en *B* om te wisselen. Daarna combineren we alles binnen de herhalingslus \"Zolang A niet 0 is\". Bekijk volgende code. Deze code werkt niet; zie jij waarom niet?"
   ]
  },
  {
   "cell_type": "code",
   "execution_count": 9,
   "metadata": {},
   "outputs": [
    {
     "name": "stdout",
     "output_type": "stream",
     "text": [
      "10 10\n"
     ]
    }
   ],
   "source": [
    "# initialisatie om te testen\n",
    "A=5\n",
    "B=10\n",
    "\n",
    "# code om te wisselen\n",
    "A=B\n",
    "B=A\n",
    "\n",
    "print(A,B)"
   ]
  },
  {
   "cell_type": "markdown",
   "metadata": {},
   "source": [
    "Probeer eerst zelf te achterhalen wat er misloopt en hoe dit kan opgelost worden alvorens de oplossing hierna te bekijken. Je kan eventueel de [code in Python Tutor](http://www.pythontutor.com/visualize.html#code=%23%20initialisatie%20om%20te%20testen%0AA%3D5%0AB%3D10%0A%0A%23%20code%20om%20te%20wisselen%0AA%3DB%0AB%3DA%0A%0Aprint%28A,B%29&cumulative=false&curInstr=0&heapPrimitives=false&mode=display&origin=opt-frontend.js&py=3&rawInputLstJSON=%5B%5D&textReferences=false) stap voor stap doorlopen."
   ]
  },
  {
   "cell_type": "markdown",
   "metadata": {},
   "source": [
    "**Oplossing:** het probleem is dat het commando *A=B* de waarde van *A* definitief overschrijft zodat die niet meer gebruikt kan worden in het commando *B=A*. Dit kan je vermijden door vooralleer je *A* overschrijft, de waarde te bewaren in een andere variabele, bijvoorbeeld *Temp*: "
   ]
  },
  {
   "cell_type": "code",
   "execution_count": 11,
   "metadata": {},
   "outputs": [
    {
     "name": "stdout",
     "output_type": "stream",
     "text": [
      "10 5\n"
     ]
    }
   ],
   "source": [
    "# initialisatie om te testen\n",
    "A=5\n",
    "B=10\n",
    "\n",
    "# code om te wisselen\n",
    "Temp=A\n",
    "A=B\n",
    "B=Temp\n",
    "\n",
    "print(A,B)"
   ]
  },
  {
   "cell_type": "markdown",
   "metadata": {},
   "source": [
    "#### Alles samenvoegen in de herhalingslus\n",
    "\n",
    "Nu hebben we alle stappen klaar en moeten we enkel nog de buitenste herhalingslus schrijven. Merk op dat we binnen een herhalingslus eender welk programmaatje kunnen neerzetten, zolang de indentatie maar correct is. Dus, volgende code wordt: "
   ]
  },
  {
   "cell_type": "raw",
   "metadata": {},
   "source": [
    "Zolang B niet 0 is, herhaal:\n",
    "    Voer de herhalingslus van stap 2 uit\n",
    "    Wissel A en B om (zodat A terug de grootste is)\n",
    "Het antwoord is B"
   ]
  },
  {
   "cell_type": "raw",
   "metadata": {},
   "source": [
    "# input\n",
    "# stap 1\n",
    "\n",
    "while B!=0:  # \"!=\" betekent: \"niet gelijk aan\"\n",
    "    # stap 2\n",
    "    # wissel A en B om\n",
    "\n",
    "print(A)"
   ]
  },
  {
   "cell_type": "markdown",
   "metadata": {},
   "source": [
    "Als we dan alle stukjes code aanvullen, krijgen we uiteindelijk:"
   ]
  },
  {
   "cell_type": "code",
   "execution_count": 12,
   "metadata": {},
   "outputs": [
    {
     "name": "stdout",
     "output_type": "stream",
     "text": [
      "7\n"
     ]
    }
   ],
   "source": [
    "# input\n",
    "X=49\n",
    "Y=35\n",
    "\n",
    "# stap 1\n",
    "if X<Y:  \n",
    "    A=Y \n",
    "    B=X \n",
    "else: \n",
    "    A=X \n",
    "    B=Y \n",
    "\n",
    "while B!=0: \n",
    "    # stap 2\n",
    "    while B<=A:\n",
    "        A = A - B\n",
    "        \n",
    "    # wissel A en B om\n",
    "    T=A\n",
    "    A=B\n",
    "    B=T\n",
    "\n",
    "print(A)"
   ]
  },
  {
   "cell_type": "markdown",
   "metadata": {},
   "source": [
    "Is de code nog niet helemaal duidelijk? Loop dat stap voor stap door de [code met Python Tutor](http://www.pythontutor.com/visualize.html#code=%23%20input%0AX%3D49%0AY%3D35%0A%0A%23%20stap%201%0Aif%20X%3CY%3A%20%20%0A%20%20%20%20A%3DY%20%0A%20%20%20%20B%3DX%20%0Aelse%3A%20%0A%20%20%20%20A%3DX%20%0A%20%20%20%20B%3DY%20%0A%0Awhile%20B!%3D0%3A%20%0A%20%20%20%20%23%20stap%202%0A%20%20%20%20while%20B%3C%3DA%3A%0A%20%20%20%20%20%20%20%20A%20%3D%20A%20-%20B%0A%20%20%20%20%20%20%20%20%0A%20%20%20%20%23%20wissel%20A%20en%20B%20om%0A%20%20%20%20T%3DA%0A%20%20%20%20A%3DB%0A%20%20%20%20B%3DT%0A%0Aprint%28A%29&cumulative=false&curInstr=0&heapPrimitives=false&mode=display&origin=opt-frontend.js&py=3&rawInputLstJSON=%5B%5D&textReferences=false)!"
   ]
  },
  {
   "cell_type": "markdown",
   "metadata": {},
   "source": [
    "## Conclusie\n",
    "\n",
    "We beëindigen deze notebook met een herhaling van de belangrijkste punten die je leerde:\n",
    "- Je maakte kennis met volgende constructies in Python:\n",
    "    - variabelen\n",
    "    - stapsgewijze uitvoering van commando blokken\n",
    "    - conditionele uitvoering\n",
    "    - herhalingslussen\n",
    "- Je begrijpt de code die we schreven voor het algoritme van Euclides om de grootste gemene deler van twee getallen te berekenen.\n",
    "\n",
    "Tijdens de practica sessies zal je via oefeningen van toenemende complexiteit leren om een probleem te analyseren, een stappenplan op te stellen (=*algoritme*) en dit vervolgens te vertalen naar een *implementatie* in Python.\n",
    "\n",
    "In de volgende notebooks gaan we dieper in op de verschillende syntactische constructies waar we in deze notebook kennis mee maakten."
   ]
  }
 ],
 "metadata": {
  "kernelspec": {
   "display_name": "Python 3",
   "language": "python",
   "name": "python3"
  },
  "language_info": {
   "codemirror_mode": {
    "name": "ipython",
    "version": 3
   },
   "file_extension": ".py",
   "mimetype": "text/x-python",
   "name": "python",
   "nbconvert_exporter": "python",
   "pygments_lexer": "ipython3",
   "version": "3.8.3"
  }
 },
 "nbformat": 4,
 "nbformat_minor": 4
}
